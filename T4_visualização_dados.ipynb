{
  "cells": [
    {
      "cell_type": "markdown",
      "metadata": {
        "id": "view-in-github",
        "colab_type": "text"
      },
      "source": [
        "<a href=\"https://colab.research.google.com/github/fabiomiguell/AtividadesMackenzie/blob/main/T4_visualiza%C3%A7%C3%A3o_dados.ipynb\" target=\"_parent\"><img src=\"https://colab.research.google.com/assets/colab-badge.svg\" alt=\"Open In Colab\"/></a>"
      ]
    },
    {
      "cell_type": "markdown",
      "metadata": {
        "id": "OG_7CYbwjYvW"
      },
      "source": [
        "Nome: Fabio de Oliveira Miguel\n",
        "\n",
        "Matricula:  92274714\n",
        "\n",
        "Atividade Trilha 4 - Dataset Netflix"
      ]
    },
    {
      "cell_type": "code",
      "execution_count": null,
      "metadata": {
        "id": "iWdnWk7fxo-6"
      },
      "outputs": [],
      "source": [
        "#importando bibliotecas\n",
        "import numpy as np\n",
        "import pandas as pd\n",
        "import seaborn as sns\n",
        "import matplotlib.pyplot as plt \n",
        "%matplotlib inline\n"
      ]
    },
    {
      "cell_type": "code",
      "execution_count": null,
      "metadata": {
        "colab": {
          "base_uri": "https://localhost:8080/",
          "height": 337
        },
        "id": "nb_VbfijLPxN",
        "outputId": "075e2918-b94f-464c-aa78-6c9fefda0ff3"
      },
      "outputs": [
        {
          "output_type": "execute_result",
          "data": {
            "text/plain": [
              "  show_id     type                  title         director  \\\n",
              "0      s1    Movie   Dick Johnson Is Dead  Kirsten Johnson   \n",
              "1      s2  TV Show          Blood & Water              NaN   \n",
              "2      s3  TV Show              Ganglands  Julien Leclercq   \n",
              "3      s4  TV Show  Jailbirds New Orleans              NaN   \n",
              "4      s5  TV Show           Kota Factory              NaN   \n",
              "\n",
              "                                                cast        country  \\\n",
              "0                                                NaN  United States   \n",
              "1  Ama Qamata, Khosi Ngema, Gail Mabalane, Thaban...   South Africa   \n",
              "2  Sami Bouajila, Tracy Gotoas, Samuel Jouy, Nabi...            NaN   \n",
              "3                                                NaN            NaN   \n",
              "4  Mayur More, Jitendra Kumar, Ranjan Raj, Alam K...          India   \n",
              "\n",
              "           date_added  release_year rating   duration  \\\n",
              "0  September 25, 2021          2020  PG-13     90 min   \n",
              "1  September 24, 2021          2021  TV-MA  2 Seasons   \n",
              "2  September 24, 2021          2021  TV-MA   1 Season   \n",
              "3  September 24, 2021          2021  TV-MA   1 Season   \n",
              "4  September 24, 2021          2021  TV-MA  2 Seasons   \n",
              "\n",
              "                                           listed_in  \\\n",
              "0                                      Documentaries   \n",
              "1    International TV Shows, TV Dramas, TV Mysteries   \n",
              "2  Crime TV Shows, International TV Shows, TV Act...   \n",
              "3                             Docuseries, Reality TV   \n",
              "4  International TV Shows, Romantic TV Shows, TV ...   \n",
              "\n",
              "                                         description  \n",
              "0  As her father nears the end of his life, filmm...  \n",
              "1  After crossing paths at a party, a Cape Town t...  \n",
              "2  To protect his family from a powerful drug lor...  \n",
              "3  Feuds, flirtations and toilet talk go down amo...  \n",
              "4  In a city of coaching centers known to train I...  "
            ],
            "text/html": [
              "\n",
              "  <div id=\"df-1e85c970-3eac-4018-9c4b-abb1f75e0271\">\n",
              "    <div class=\"colab-df-container\">\n",
              "      <div>\n",
              "<style scoped>\n",
              "    .dataframe tbody tr th:only-of-type {\n",
              "        vertical-align: middle;\n",
              "    }\n",
              "\n",
              "    .dataframe tbody tr th {\n",
              "        vertical-align: top;\n",
              "    }\n",
              "\n",
              "    .dataframe thead th {\n",
              "        text-align: right;\n",
              "    }\n",
              "</style>\n",
              "<table border=\"1\" class=\"dataframe\">\n",
              "  <thead>\n",
              "    <tr style=\"text-align: right;\">\n",
              "      <th></th>\n",
              "      <th>show_id</th>\n",
              "      <th>type</th>\n",
              "      <th>title</th>\n",
              "      <th>director</th>\n",
              "      <th>cast</th>\n",
              "      <th>country</th>\n",
              "      <th>date_added</th>\n",
              "      <th>release_year</th>\n",
              "      <th>rating</th>\n",
              "      <th>duration</th>\n",
              "      <th>listed_in</th>\n",
              "      <th>description</th>\n",
              "    </tr>\n",
              "  </thead>\n",
              "  <tbody>\n",
              "    <tr>\n",
              "      <th>0</th>\n",
              "      <td>s1</td>\n",
              "      <td>Movie</td>\n",
              "      <td>Dick Johnson Is Dead</td>\n",
              "      <td>Kirsten Johnson</td>\n",
              "      <td>NaN</td>\n",
              "      <td>United States</td>\n",
              "      <td>September 25, 2021</td>\n",
              "      <td>2020</td>\n",
              "      <td>PG-13</td>\n",
              "      <td>90 min</td>\n",
              "      <td>Documentaries</td>\n",
              "      <td>As her father nears the end of his life, filmm...</td>\n",
              "    </tr>\n",
              "    <tr>\n",
              "      <th>1</th>\n",
              "      <td>s2</td>\n",
              "      <td>TV Show</td>\n",
              "      <td>Blood &amp; Water</td>\n",
              "      <td>NaN</td>\n",
              "      <td>Ama Qamata, Khosi Ngema, Gail Mabalane, Thaban...</td>\n",
              "      <td>South Africa</td>\n",
              "      <td>September 24, 2021</td>\n",
              "      <td>2021</td>\n",
              "      <td>TV-MA</td>\n",
              "      <td>2 Seasons</td>\n",
              "      <td>International TV Shows, TV Dramas, TV Mysteries</td>\n",
              "      <td>After crossing paths at a party, a Cape Town t...</td>\n",
              "    </tr>\n",
              "    <tr>\n",
              "      <th>2</th>\n",
              "      <td>s3</td>\n",
              "      <td>TV Show</td>\n",
              "      <td>Ganglands</td>\n",
              "      <td>Julien Leclercq</td>\n",
              "      <td>Sami Bouajila, Tracy Gotoas, Samuel Jouy, Nabi...</td>\n",
              "      <td>NaN</td>\n",
              "      <td>September 24, 2021</td>\n",
              "      <td>2021</td>\n",
              "      <td>TV-MA</td>\n",
              "      <td>1 Season</td>\n",
              "      <td>Crime TV Shows, International TV Shows, TV Act...</td>\n",
              "      <td>To protect his family from a powerful drug lor...</td>\n",
              "    </tr>\n",
              "    <tr>\n",
              "      <th>3</th>\n",
              "      <td>s4</td>\n",
              "      <td>TV Show</td>\n",
              "      <td>Jailbirds New Orleans</td>\n",
              "      <td>NaN</td>\n",
              "      <td>NaN</td>\n",
              "      <td>NaN</td>\n",
              "      <td>September 24, 2021</td>\n",
              "      <td>2021</td>\n",
              "      <td>TV-MA</td>\n",
              "      <td>1 Season</td>\n",
              "      <td>Docuseries, Reality TV</td>\n",
              "      <td>Feuds, flirtations and toilet talk go down amo...</td>\n",
              "    </tr>\n",
              "    <tr>\n",
              "      <th>4</th>\n",
              "      <td>s5</td>\n",
              "      <td>TV Show</td>\n",
              "      <td>Kota Factory</td>\n",
              "      <td>NaN</td>\n",
              "      <td>Mayur More, Jitendra Kumar, Ranjan Raj, Alam K...</td>\n",
              "      <td>India</td>\n",
              "      <td>September 24, 2021</td>\n",
              "      <td>2021</td>\n",
              "      <td>TV-MA</td>\n",
              "      <td>2 Seasons</td>\n",
              "      <td>International TV Shows, Romantic TV Shows, TV ...</td>\n",
              "      <td>In a city of coaching centers known to train I...</td>\n",
              "    </tr>\n",
              "  </tbody>\n",
              "</table>\n",
              "</div>\n",
              "      <button class=\"colab-df-convert\" onclick=\"convertToInteractive('df-1e85c970-3eac-4018-9c4b-abb1f75e0271')\"\n",
              "              title=\"Convert this dataframe to an interactive table.\"\n",
              "              style=\"display:none;\">\n",
              "        \n",
              "  <svg xmlns=\"http://www.w3.org/2000/svg\" height=\"24px\"viewBox=\"0 0 24 24\"\n",
              "       width=\"24px\">\n",
              "    <path d=\"M0 0h24v24H0V0z\" fill=\"none\"/>\n",
              "    <path d=\"M18.56 5.44l.94 2.06.94-2.06 2.06-.94-2.06-.94-.94-2.06-.94 2.06-2.06.94zm-11 1L8.5 8.5l.94-2.06 2.06-.94-2.06-.94L8.5 2.5l-.94 2.06-2.06.94zm10 10l.94 2.06.94-2.06 2.06-.94-2.06-.94-.94-2.06-.94 2.06-2.06.94z\"/><path d=\"M17.41 7.96l-1.37-1.37c-.4-.4-.92-.59-1.43-.59-.52 0-1.04.2-1.43.59L10.3 9.45l-7.72 7.72c-.78.78-.78 2.05 0 2.83L4 21.41c.39.39.9.59 1.41.59.51 0 1.02-.2 1.41-.59l7.78-7.78 2.81-2.81c.8-.78.8-2.07 0-2.86zM5.41 20L4 18.59l7.72-7.72 1.47 1.35L5.41 20z\"/>\n",
              "  </svg>\n",
              "      </button>\n",
              "      \n",
              "  <style>\n",
              "    .colab-df-container {\n",
              "      display:flex;\n",
              "      flex-wrap:wrap;\n",
              "      gap: 12px;\n",
              "    }\n",
              "\n",
              "    .colab-df-convert {\n",
              "      background-color: #E8F0FE;\n",
              "      border: none;\n",
              "      border-radius: 50%;\n",
              "      cursor: pointer;\n",
              "      display: none;\n",
              "      fill: #1967D2;\n",
              "      height: 32px;\n",
              "      padding: 0 0 0 0;\n",
              "      width: 32px;\n",
              "    }\n",
              "\n",
              "    .colab-df-convert:hover {\n",
              "      background-color: #E2EBFA;\n",
              "      box-shadow: 0px 1px 2px rgba(60, 64, 67, 0.3), 0px 1px 3px 1px rgba(60, 64, 67, 0.15);\n",
              "      fill: #174EA6;\n",
              "    }\n",
              "\n",
              "    [theme=dark] .colab-df-convert {\n",
              "      background-color: #3B4455;\n",
              "      fill: #D2E3FC;\n",
              "    }\n",
              "\n",
              "    [theme=dark] .colab-df-convert:hover {\n",
              "      background-color: #434B5C;\n",
              "      box-shadow: 0px 1px 3px 1px rgba(0, 0, 0, 0.15);\n",
              "      filter: drop-shadow(0px 1px 2px rgba(0, 0, 0, 0.3));\n",
              "      fill: #FFFFFF;\n",
              "    }\n",
              "  </style>\n",
              "\n",
              "      <script>\n",
              "        const buttonEl =\n",
              "          document.querySelector('#df-1e85c970-3eac-4018-9c4b-abb1f75e0271 button.colab-df-convert');\n",
              "        buttonEl.style.display =\n",
              "          google.colab.kernel.accessAllowed ? 'block' : 'none';\n",
              "\n",
              "        async function convertToInteractive(key) {\n",
              "          const element = document.querySelector('#df-1e85c970-3eac-4018-9c4b-abb1f75e0271');\n",
              "          const dataTable =\n",
              "            await google.colab.kernel.invokeFunction('convertToInteractive',\n",
              "                                                     [key], {});\n",
              "          if (!dataTable) return;\n",
              "\n",
              "          const docLinkHtml = 'Like what you see? Visit the ' +\n",
              "            '<a target=\"_blank\" href=https://colab.research.google.com/notebooks/data_table.ipynb>data table notebook</a>'\n",
              "            + ' to learn more about interactive tables.';\n",
              "          element.innerHTML = '';\n",
              "          dataTable['output_type'] = 'display_data';\n",
              "          await google.colab.output.renderOutput(dataTable, element);\n",
              "          const docLink = document.createElement('div');\n",
              "          docLink.innerHTML = docLinkHtml;\n",
              "          element.appendChild(docLink);\n",
              "        }\n",
              "      </script>\n",
              "    </div>\n",
              "  </div>\n",
              "  "
            ]
          },
          "metadata": {},
          "execution_count": 2
        }
      ],
      "source": [
        "#upload do arquivo para o google colab\n",
        "\n",
        "df = pd.read_csv('https://raw.githubusercontent.com/fabiomiguell/AtividadesMackenzie/main/netflix_titles.csv')\n",
        "data = df\n",
        "df.head()"
      ]
    },
    {
      "cell_type": "code",
      "execution_count": null,
      "metadata": {
        "id": "rqLHv1etUSNC",
        "colab": {
          "base_uri": "https://localhost:8080/"
        },
        "outputId": "cd91c1f3-e47b-4b46-8694-24cf8ade7cdb"
      },
      "outputs": [
        {
          "output_type": "stream",
          "name": "stdout",
          "text": [
            "<class 'pandas.core.frame.DataFrame'>\n",
            "RangeIndex: 8807 entries, 0 to 8806\n",
            "Data columns (total 12 columns):\n",
            " #   Column        Non-Null Count  Dtype \n",
            "---  ------        --------------  ----- \n",
            " 0   show_id       8807 non-null   object\n",
            " 1   type          8807 non-null   object\n",
            " 2   title         8807 non-null   object\n",
            " 3   director      6173 non-null   object\n",
            " 4   cast          7982 non-null   object\n",
            " 5   country       7976 non-null   object\n",
            " 6   date_added    8797 non-null   object\n",
            " 7   release_year  8807 non-null   int64 \n",
            " 8   rating        8803 non-null   object\n",
            " 9   duration      8804 non-null   object\n",
            " 10  listed_in     8807 non-null   object\n",
            " 11  description   8807 non-null   object\n",
            "dtypes: int64(1), object(11)\n",
            "memory usage: 825.8+ KB\n"
          ]
        }
      ],
      "source": [
        "#mostra detalhe das variaveis(colunas) do database e tipos de dados\n",
        "df.info()"
      ]
    },
    {
      "cell_type": "code",
      "execution_count": null,
      "metadata": {
        "id": "ipZ1OXXvPvt6",
        "colab": {
          "base_uri": "https://localhost:8080/"
        },
        "outputId": "ec9be1b3-1dea-474b-ddd6-2914c780e586"
      },
      "outputs": [
        {
          "output_type": "stream",
          "name": "stdout",
          "text": [
            "(8807, 12)\n"
          ]
        }
      ],
      "source": [
        "#Quantidade de linhas e colunas\n",
        "print(df.shape)"
      ]
    },
    {
      "cell_type": "code",
      "execution_count": null,
      "metadata": {
        "id": "w1p-iSSUOsP0",
        "colab": {
          "base_uri": "https://localhost:8080/"
        },
        "outputId": "f64df4e6-3e97-4366-f868-3a656866697c"
      },
      "outputs": [
        {
          "output_type": "stream",
          "name": "stdout",
          "text": [
            "(8807, 12)\n",
            "(8807, 12)\n"
          ]
        }
      ],
      "source": [
        "# verificação e remoção de linhas duplicadas caso existam no dataset.\n",
        "print(df.shape)\n",
        "df = df.drop_duplicates(keep='first')\n",
        "print(df.shape)"
      ]
    },
    {
      "cell_type": "code",
      "execution_count": null,
      "metadata": {
        "id": "4fuRSnzjRZEr",
        "colab": {
          "base_uri": "https://localhost:8080/"
        },
        "outputId": "6e4715ba-db18-400f-dabb-51112818e4fa"
      },
      "outputs": [
        {
          "output_type": "execute_result",
          "data": {
            "text/plain": [
              "show_id            0\n",
              "type               0\n",
              "title              0\n",
              "director        2634\n",
              "cast             825\n",
              "country          831\n",
              "date_added        10\n",
              "release_year       0\n",
              "rating             4\n",
              "duration           3\n",
              "listed_in          0\n",
              "description        0\n",
              "dtype: int64"
            ]
          },
          "metadata": {},
          "execution_count": 6
        }
      ],
      "source": [
        "#Verificar colunas com valores nulos\n",
        "df.isnull().sum()"
      ]
    },
    {
      "cell_type": "markdown",
      "metadata": {
        "id": "-FdaA0WGSUSb"
      },
      "source": [
        "**Análise:** criaremos um novo dataframe com as informações tratadas\n",
        " a seguir:\n",
        "\n",
        "a) as colunas \"director\", \"cast\" e \"country apresenta elevada quantidade de dados ausentes, dessa forma serão retiradas da análise para evitar distorções;\n",
        "\n",
        "b) a coluna \"Show_id\" refere-se a identificação exclusiva de cada linha, assim, também é irrelevante para nossa análise e também será retirada da análise;\n",
        "\n",
        "c) a coluna \"date_added\", \"rating\" e \"duration\" apresentam poucos registros nulos, que serão removidos;\n",
        "\n",
        "d) as colunas \"date_added\", \"rating\" e \"duration\" possuem poucos dados ausentes que excluiremos."
      ]
    },
    {
      "cell_type": "code",
      "source": [
        "#Eliminando colunas que não iremos usar\"\n",
        "df2 = df.drop(columns=['director','cast','country','show_id'])\n",
        "#Eliminando linhas com valores ausentes\n",
        "df2 = df2.dropna()"
      ],
      "metadata": {
        "id": "h-ZrTXzlrq13"
      },
      "execution_count": null,
      "outputs": []
    },
    {
      "cell_type": "code",
      "source": [
        "#Verificando tamanho da base\n",
        "print(df2.shape)\n",
        "#Verificando variáveis ausentes\n",
        "df2.isnull().sum() "
      ],
      "metadata": {
        "colab": {
          "base_uri": "https://localhost:8080/"
        },
        "id": "87Q8OZhHsc9x",
        "outputId": "db1f1512-d430-471c-e998-d1238b6feeef"
      },
      "execution_count": null,
      "outputs": [
        {
          "output_type": "stream",
          "name": "stdout",
          "text": [
            "(8790, 8)\n"
          ]
        },
        {
          "output_type": "execute_result",
          "data": {
            "text/plain": [
              "type            0\n",
              "title           0\n",
              "date_added      0\n",
              "release_year    0\n",
              "rating          0\n",
              "duration        0\n",
              "listed_in       0\n",
              "description     0\n",
              "dtype: int64"
            ]
          },
          "metadata": {},
          "execution_count": 8
        }
      ]
    },
    {
      "cell_type": "markdown",
      "source": [
        "Comparando com o dataframe original (8807 linhas com 12 colunas), passamos a ter 8790 linhas com 8 colunas, ou seja, não perdemos qualidade de dados na base."
      ],
      "metadata": {
        "id": "63fA6b3itLyM"
      }
    },
    {
      "cell_type": "code",
      "source": [
        "#Análise de informações estatísticas\n",
        "df2.describe() "
      ],
      "metadata": {
        "colab": {
          "base_uri": "https://localhost:8080/",
          "height": 300
        },
        "id": "BKTn1RdTt4tF",
        "outputId": "af89f40b-9f27-463f-f73c-c676951e4adf"
      },
      "execution_count": null,
      "outputs": [
        {
          "output_type": "execute_result",
          "data": {
            "text/plain": [
              "       release_year\n",
              "count   8790.000000\n",
              "mean    2014.183163\n",
              "std        8.825466\n",
              "min     1925.000000\n",
              "25%     2013.000000\n",
              "50%     2017.000000\n",
              "75%     2019.000000\n",
              "max     2021.000000"
            ],
            "text/html": [
              "\n",
              "  <div id=\"df-5872996d-022f-4e31-8419-69175f1e04e6\">\n",
              "    <div class=\"colab-df-container\">\n",
              "      <div>\n",
              "<style scoped>\n",
              "    .dataframe tbody tr th:only-of-type {\n",
              "        vertical-align: middle;\n",
              "    }\n",
              "\n",
              "    .dataframe tbody tr th {\n",
              "        vertical-align: top;\n",
              "    }\n",
              "\n",
              "    .dataframe thead th {\n",
              "        text-align: right;\n",
              "    }\n",
              "</style>\n",
              "<table border=\"1\" class=\"dataframe\">\n",
              "  <thead>\n",
              "    <tr style=\"text-align: right;\">\n",
              "      <th></th>\n",
              "      <th>release_year</th>\n",
              "    </tr>\n",
              "  </thead>\n",
              "  <tbody>\n",
              "    <tr>\n",
              "      <th>count</th>\n",
              "      <td>8790.000000</td>\n",
              "    </tr>\n",
              "    <tr>\n",
              "      <th>mean</th>\n",
              "      <td>2014.183163</td>\n",
              "    </tr>\n",
              "    <tr>\n",
              "      <th>std</th>\n",
              "      <td>8.825466</td>\n",
              "    </tr>\n",
              "    <tr>\n",
              "      <th>min</th>\n",
              "      <td>1925.000000</td>\n",
              "    </tr>\n",
              "    <tr>\n",
              "      <th>25%</th>\n",
              "      <td>2013.000000</td>\n",
              "    </tr>\n",
              "    <tr>\n",
              "      <th>50%</th>\n",
              "      <td>2017.000000</td>\n",
              "    </tr>\n",
              "    <tr>\n",
              "      <th>75%</th>\n",
              "      <td>2019.000000</td>\n",
              "    </tr>\n",
              "    <tr>\n",
              "      <th>max</th>\n",
              "      <td>2021.000000</td>\n",
              "    </tr>\n",
              "  </tbody>\n",
              "</table>\n",
              "</div>\n",
              "      <button class=\"colab-df-convert\" onclick=\"convertToInteractive('df-5872996d-022f-4e31-8419-69175f1e04e6')\"\n",
              "              title=\"Convert this dataframe to an interactive table.\"\n",
              "              style=\"display:none;\">\n",
              "        \n",
              "  <svg xmlns=\"http://www.w3.org/2000/svg\" height=\"24px\"viewBox=\"0 0 24 24\"\n",
              "       width=\"24px\">\n",
              "    <path d=\"M0 0h24v24H0V0z\" fill=\"none\"/>\n",
              "    <path d=\"M18.56 5.44l.94 2.06.94-2.06 2.06-.94-2.06-.94-.94-2.06-.94 2.06-2.06.94zm-11 1L8.5 8.5l.94-2.06 2.06-.94-2.06-.94L8.5 2.5l-.94 2.06-2.06.94zm10 10l.94 2.06.94-2.06 2.06-.94-2.06-.94-.94-2.06-.94 2.06-2.06.94z\"/><path d=\"M17.41 7.96l-1.37-1.37c-.4-.4-.92-.59-1.43-.59-.52 0-1.04.2-1.43.59L10.3 9.45l-7.72 7.72c-.78.78-.78 2.05 0 2.83L4 21.41c.39.39.9.59 1.41.59.51 0 1.02-.2 1.41-.59l7.78-7.78 2.81-2.81c.8-.78.8-2.07 0-2.86zM5.41 20L4 18.59l7.72-7.72 1.47 1.35L5.41 20z\"/>\n",
              "  </svg>\n",
              "      </button>\n",
              "      \n",
              "  <style>\n",
              "    .colab-df-container {\n",
              "      display:flex;\n",
              "      flex-wrap:wrap;\n",
              "      gap: 12px;\n",
              "    }\n",
              "\n",
              "    .colab-df-convert {\n",
              "      background-color: #E8F0FE;\n",
              "      border: none;\n",
              "      border-radius: 50%;\n",
              "      cursor: pointer;\n",
              "      display: none;\n",
              "      fill: #1967D2;\n",
              "      height: 32px;\n",
              "      padding: 0 0 0 0;\n",
              "      width: 32px;\n",
              "    }\n",
              "\n",
              "    .colab-df-convert:hover {\n",
              "      background-color: #E2EBFA;\n",
              "      box-shadow: 0px 1px 2px rgba(60, 64, 67, 0.3), 0px 1px 3px 1px rgba(60, 64, 67, 0.15);\n",
              "      fill: #174EA6;\n",
              "    }\n",
              "\n",
              "    [theme=dark] .colab-df-convert {\n",
              "      background-color: #3B4455;\n",
              "      fill: #D2E3FC;\n",
              "    }\n",
              "\n",
              "    [theme=dark] .colab-df-convert:hover {\n",
              "      background-color: #434B5C;\n",
              "      box-shadow: 0px 1px 3px 1px rgba(0, 0, 0, 0.15);\n",
              "      filter: drop-shadow(0px 1px 2px rgba(0, 0, 0, 0.3));\n",
              "      fill: #FFFFFF;\n",
              "    }\n",
              "  </style>\n",
              "\n",
              "      <script>\n",
              "        const buttonEl =\n",
              "          document.querySelector('#df-5872996d-022f-4e31-8419-69175f1e04e6 button.colab-df-convert');\n",
              "        buttonEl.style.display =\n",
              "          google.colab.kernel.accessAllowed ? 'block' : 'none';\n",
              "\n",
              "        async function convertToInteractive(key) {\n",
              "          const element = document.querySelector('#df-5872996d-022f-4e31-8419-69175f1e04e6');\n",
              "          const dataTable =\n",
              "            await google.colab.kernel.invokeFunction('convertToInteractive',\n",
              "                                                     [key], {});\n",
              "          if (!dataTable) return;\n",
              "\n",
              "          const docLinkHtml = 'Like what you see? Visit the ' +\n",
              "            '<a target=\"_blank\" href=https://colab.research.google.com/notebooks/data_table.ipynb>data table notebook</a>'\n",
              "            + ' to learn more about interactive tables.';\n",
              "          element.innerHTML = '';\n",
              "          dataTable['output_type'] = 'display_data';\n",
              "          await google.colab.output.renderOutput(dataTable, element);\n",
              "          const docLink = document.createElement('div');\n",
              "          docLink.innerHTML = docLinkHtml;\n",
              "          element.appendChild(docLink);\n",
              "        }\n",
              "      </script>\n",
              "    </div>\n",
              "  </div>\n",
              "  "
            ]
          },
          "metadata": {},
          "execution_count": 9
        }
      ]
    },
    {
      "cell_type": "code",
      "source": [
        "# extraindo apenas o ano adicionado da coluna \"date_added\"\n",
        "\n",
        "df2['year_added'] = df2['date_added'].str.slice(start=-4)\n",
        "\n",
        "# agrupando do ano adicionado e tipo, fazendo a contagem na coluna show_id\n",
        "\n",
        "df_added = df.groupby(['year_added', 'type'], as_index=False).show_id.count()\n",
        "\n",
        "df_added.columns = ['year_added', 'type', 'count']\n",
        "df_added = df_added.pivot(index='year_added', columns='type', values='count').reset_index()\n",
        "df_added.fillna(0, inplace=True)\n",
        "df_added.tail()"
      ],
      "metadata": {
        "colab": {
          "base_uri": "https://localhost:8080/",
          "height": 206
        },
        "id": "SYJ4h5_J4AAB",
        "outputId": "cd355f7a-ee5e-4ba7-de56-4e0e54568c6b"
      },
      "execution_count": 21,
      "outputs": [
        {
          "output_type": "execute_result",
          "data": {
            "text/plain": [
              "type year_added   Movie  TV Show\n",
              "9          2017   839.0    349.0\n",
              "10         2018  1237.0    412.0\n",
              "11         2019  1424.0    592.0\n",
              "12         2020  1284.0    595.0\n",
              "13         2021   993.0    505.0"
            ],
            "text/html": [
              "\n",
              "  <div id=\"df-9950a816-4d00-4a3c-9bc3-2340d248aff8\">\n",
              "    <div class=\"colab-df-container\">\n",
              "      <div>\n",
              "<style scoped>\n",
              "    .dataframe tbody tr th:only-of-type {\n",
              "        vertical-align: middle;\n",
              "    }\n",
              "\n",
              "    .dataframe tbody tr th {\n",
              "        vertical-align: top;\n",
              "    }\n",
              "\n",
              "    .dataframe thead th {\n",
              "        text-align: right;\n",
              "    }\n",
              "</style>\n",
              "<table border=\"1\" class=\"dataframe\">\n",
              "  <thead>\n",
              "    <tr style=\"text-align: right;\">\n",
              "      <th>type</th>\n",
              "      <th>year_added</th>\n",
              "      <th>Movie</th>\n",
              "      <th>TV Show</th>\n",
              "    </tr>\n",
              "  </thead>\n",
              "  <tbody>\n",
              "    <tr>\n",
              "      <th>9</th>\n",
              "      <td>2017</td>\n",
              "      <td>839.0</td>\n",
              "      <td>349.0</td>\n",
              "    </tr>\n",
              "    <tr>\n",
              "      <th>10</th>\n",
              "      <td>2018</td>\n",
              "      <td>1237.0</td>\n",
              "      <td>412.0</td>\n",
              "    </tr>\n",
              "    <tr>\n",
              "      <th>11</th>\n",
              "      <td>2019</td>\n",
              "      <td>1424.0</td>\n",
              "      <td>592.0</td>\n",
              "    </tr>\n",
              "    <tr>\n",
              "      <th>12</th>\n",
              "      <td>2020</td>\n",
              "      <td>1284.0</td>\n",
              "      <td>595.0</td>\n",
              "    </tr>\n",
              "    <tr>\n",
              "      <th>13</th>\n",
              "      <td>2021</td>\n",
              "      <td>993.0</td>\n",
              "      <td>505.0</td>\n",
              "    </tr>\n",
              "  </tbody>\n",
              "</table>\n",
              "</div>\n",
              "      <button class=\"colab-df-convert\" onclick=\"convertToInteractive('df-9950a816-4d00-4a3c-9bc3-2340d248aff8')\"\n",
              "              title=\"Convert this dataframe to an interactive table.\"\n",
              "              style=\"display:none;\">\n",
              "        \n",
              "  <svg xmlns=\"http://www.w3.org/2000/svg\" height=\"24px\"viewBox=\"0 0 24 24\"\n",
              "       width=\"24px\">\n",
              "    <path d=\"M0 0h24v24H0V0z\" fill=\"none\"/>\n",
              "    <path d=\"M18.56 5.44l.94 2.06.94-2.06 2.06-.94-2.06-.94-.94-2.06-.94 2.06-2.06.94zm-11 1L8.5 8.5l.94-2.06 2.06-.94-2.06-.94L8.5 2.5l-.94 2.06-2.06.94zm10 10l.94 2.06.94-2.06 2.06-.94-2.06-.94-.94-2.06-.94 2.06-2.06.94z\"/><path d=\"M17.41 7.96l-1.37-1.37c-.4-.4-.92-.59-1.43-.59-.52 0-1.04.2-1.43.59L10.3 9.45l-7.72 7.72c-.78.78-.78 2.05 0 2.83L4 21.41c.39.39.9.59 1.41.59.51 0 1.02-.2 1.41-.59l7.78-7.78 2.81-2.81c.8-.78.8-2.07 0-2.86zM5.41 20L4 18.59l7.72-7.72 1.47 1.35L5.41 20z\"/>\n",
              "  </svg>\n",
              "      </button>\n",
              "      \n",
              "  <style>\n",
              "    .colab-df-container {\n",
              "      display:flex;\n",
              "      flex-wrap:wrap;\n",
              "      gap: 12px;\n",
              "    }\n",
              "\n",
              "    .colab-df-convert {\n",
              "      background-color: #E8F0FE;\n",
              "      border: none;\n",
              "      border-radius: 50%;\n",
              "      cursor: pointer;\n",
              "      display: none;\n",
              "      fill: #1967D2;\n",
              "      height: 32px;\n",
              "      padding: 0 0 0 0;\n",
              "      width: 32px;\n",
              "    }\n",
              "\n",
              "    .colab-df-convert:hover {\n",
              "      background-color: #E2EBFA;\n",
              "      box-shadow: 0px 1px 2px rgba(60, 64, 67, 0.3), 0px 1px 3px 1px rgba(60, 64, 67, 0.15);\n",
              "      fill: #174EA6;\n",
              "    }\n",
              "\n",
              "    [theme=dark] .colab-df-convert {\n",
              "      background-color: #3B4455;\n",
              "      fill: #D2E3FC;\n",
              "    }\n",
              "\n",
              "    [theme=dark] .colab-df-convert:hover {\n",
              "      background-color: #434B5C;\n",
              "      box-shadow: 0px 1px 3px 1px rgba(0, 0, 0, 0.15);\n",
              "      filter: drop-shadow(0px 1px 2px rgba(0, 0, 0, 0.3));\n",
              "      fill: #FFFFFF;\n",
              "    }\n",
              "  </style>\n",
              "\n",
              "      <script>\n",
              "        const buttonEl =\n",
              "          document.querySelector('#df-9950a816-4d00-4a3c-9bc3-2340d248aff8 button.colab-df-convert');\n",
              "        buttonEl.style.display =\n",
              "          google.colab.kernel.accessAllowed ? 'block' : 'none';\n",
              "\n",
              "        async function convertToInteractive(key) {\n",
              "          const element = document.querySelector('#df-9950a816-4d00-4a3c-9bc3-2340d248aff8');\n",
              "          const dataTable =\n",
              "            await google.colab.kernel.invokeFunction('convertToInteractive',\n",
              "                                                     [key], {});\n",
              "          if (!dataTable) return;\n",
              "\n",
              "          const docLinkHtml = 'Like what you see? Visit the ' +\n",
              "            '<a target=\"_blank\" href=https://colab.research.google.com/notebooks/data_table.ipynb>data table notebook</a>'\n",
              "            + ' to learn more about interactive tables.';\n",
              "          element.innerHTML = '';\n",
              "          dataTable['output_type'] = 'display_data';\n",
              "          await google.colab.output.renderOutput(dataTable, element);\n",
              "          const docLink = document.createElement('div');\n",
              "          docLink.innerHTML = docLinkHtml;\n",
              "          element.appendChild(docLink);\n",
              "        }\n",
              "      </script>\n",
              "    </div>\n",
              "  </div>\n",
              "  "
            ]
          },
          "metadata": {},
          "execution_count": 21
        }
      ]
    },
    {
      "cell_type": "code",
      "execution_count": 19,
      "metadata": {
        "id": "BRc2r4B2cRYL"
      },
      "outputs": [],
      "source": [
        "#pip install -u plotly\n",
        "import plotly.express as px"
      ]
    },
    {
      "cell_type": "code",
      "execution_count": 22,
      "metadata": {
        "id": "rq4nHX-UdGuf",
        "colab": {
          "base_uri": "https://localhost:8080/",
          "height": 542
        },
        "outputId": "698cf7ed-cd43-4bcf-aa4a-bbd8ee44ab88"
      },
      "outputs": [
        {
          "output_type": "display_data",
          "data": {
            "text/html": [
              "<html>\n",
              "<head><meta charset=\"utf-8\" /></head>\n",
              "<body>\n",
              "    <div>            <script src=\"https://cdnjs.cloudflare.com/ajax/libs/mathjax/2.7.5/MathJax.js?config=TeX-AMS-MML_SVG\"></script><script type=\"text/javascript\">if (window.MathJax && window.MathJax.Hub && window.MathJax.Hub.Config) {window.MathJax.Hub.Config({SVG: {font: \"STIX-Web\"}});}</script>                <script type=\"text/javascript\">window.PlotlyConfig = {MathJaxConfig: 'local'};</script>\n",
              "        <script src=\"https://cdn.plot.ly/plotly-2.18.2.min.js\"></script>                <div id=\"9072f691-9acb-42e9-be9a-4090a95eefca\" class=\"plotly-graph-div\" style=\"height:525px; width:100%;\"></div>            <script type=\"text/javascript\">                                    window.PLOTLYENV=window.PLOTLYENV || {};                                    if (document.getElementById(\"9072f691-9acb-42e9-be9a-4090a95eefca\")) {                    Plotly.newPlot(                        \"9072f691-9acb-42e9-be9a-4090a95eefca\",                        [{\"alignmentgroup\":\"True\",\"bingroup\":\"x\",\"hovertemplate\":\"year_added=%{x}<br>count=%{y}<extra></extra>\",\"legendgroup\":\"\",\"marker\":{\"color\":\"#636efa\",\"pattern\":{\"shape\":\"\"}},\"name\":\"\",\"offsetgroup\":\"\",\"orientation\":\"v\",\"showlegend\":false,\"x\":[\"2021\",\"2021\",\"2021\",\"2021\",\"2021\",\"2021\",\"2021\",\"2021\",\"2021\",\"2021\",\"2021\",\"2021\",\"2021\",\"2021\",\"2021\",\"2021\",\"2021\",\"2021\",\"2021\",\"2021\",\"2021\",\"2021\",\"2021\",\"2021\",\"2021\",\"2021\",\"2021\",\"2021\",\"2021\",\"2021\",\"2021\",\"2021\",\"2021\",\"2021\",\"2021\",\"2021\",\"2021\",\"2021\",\"2021\",\"2021\",\"2021\",\"2021\",\"2021\",\"2021\",\"2021\",\"2021\",\"2021\",\"2021\",\"2021\",\"2021\",\"2021\",\"2021\",\"2021\",\"2021\",\"2021\",\"2021\",\"2021\",\"2021\",\"2021\",\"2021\",\"2021\",\"2021\",\"2021\",\"2021\",\"2021\",\"2021\",\"2021\",\"2021\",\"2021\",\"2021\",\"2021\",\"2021\",\"2021\",\"2021\",\"2021\",\"2021\",\"2021\",\"2021\",\"2021\",\"2021\",\"2021\",\"2021\",\"2021\",\"2021\",\"2021\",\"2021\",\"2021\",\"2021\",\"2021\",\"2021\",\"2021\",\"2021\",\"2021\",\"2021\",\"2021\",\"2021\",\"2021\",\"2021\",\"2021\",\"2021\",\"2021\",\"2021\",\"2021\",\"2021\",\"2021\",\"2021\",\"2021\",\"2021\",\"2021\",\"2021\",\"2021\",\"2021\",\"2021\",\"2021\",\"2021\",\"2021\",\"2021\",\"2021\",\"2021\",\"2021\",\"2021\",\"2021\",\"2021\",\"2021\",\"2021\",\"2021\",\"2021\",\"2021\",\"2021\",\"2021\",\"2021\",\"2021\",\"2021\",\"2021\",\"2021\",\"2021\",\"2021\",\"2021\",\"2021\",\"2021\",\"2021\",\"2021\",\"2021\",\"2021\",\"2021\",\"2021\",\"2021\",\"2021\",\"2021\",\"2021\",\"2021\",\"2021\",\"2021\",\"2021\",\"2021\",\"2021\",\"2021\",\"2021\",\"2021\",\"2021\",\"2021\",\"2021\",\"2021\",\"2021\",\"2021\",\"2021\",\"2021\",\"2021\",\"2021\",\"2021\",\"2021\",\"2021\",\"2021\",\"2021\",\"2021\",\"2021\",\"2021\",\"2021\",\"2021\",\"2021\",\"2021\",\"2021\",\"2021\",\"2021\",\"2021\",\"2021\",\"2021\",\"2021\",\"2021\",\"2021\",\"2021\",\"2021\",\"2021\",\"2021\",\"2021\",\"2021\",\"2021\",\"2021\",\"2021\",\"2021\",\"2021\",\"2021\",\"2021\",\"2021\",\"2021\",\"2021\",\"2021\",\"2021\",\"2021\",\"2021\",\"2021\",\"2021\",\"2021\",\"2021\",\"2021\",\"2021\",\"2021\",\"2021\",\"2021\",\"2021\",\"2021\",\"2021\",\"2021\",\"2021\",\"2021\",\"2021\",\"2021\",\"2021\",\"2021\",\"2021\",\"2021\",\"2021\",\"2021\",\"2021\",\"2021\",\"2021\",\"2021\",\"2021\",\"2021\",\"2021\",\"2021\",\"2021\",\"2021\",\"2021\",\"2021\",\"2021\",\"2021\",\"2021\",\"2021\",\"2021\",\"2021\",\"2021\",\"2021\",\"2021\",\"2021\",\"2021\",\"2021\",\"2021\",\"2021\",\"2021\",\"2021\",\"2021\",\"2021\",\"2021\",\"2021\",\"2021\",\"2021\",\"2021\",\"2021\",\"2021\",\"2021\",\"2021\",\"2021\",\"2021\",\"2021\",\"2021\",\"2021\",\"2021\",\"2021\",\"2021\",\"2021\",\"2021\",\"2021\",\"2021\",\"2021\",\"2021\",\"2021\",\"2021\",\"2021\",\"2021\",\"2021\",\"2021\",\"2021\",\"2021\",\"2021\",\"2021\",\"2021\",\"2021\",\"2021\",\"2021\",\"2021\",\"2021\",\"2021\",\"2021\",\"2021\",\"2021\",\"2021\",\"2021\",\"2021\",\"2021\",\"2021\",\"2021\",\"2021\",\"2021\",\"2021\",\"2021\",\"2021\",\"2021\",\"2021\",\"2021\",\"2021\",\"2021\",\"2021\",\"2021\",\"2021\",\"2021\",\"2021\",\"2021\",\"2021\",\"2021\",\"2021\",\"2021\",\"2021\",\"2021\",\"2021\",\"2021\",\"2021\",\"2021\",\"2021\",\"2021\",\"2021\",\"2021\",\"2021\",\"2021\",\"2021\",\"2021\",\"2021\",\"2021\",\"2021\",\"2021\",\"2021\",\"2021\",\"2021\",\"2021\",\"2021\",\"2021\",\"2021\",\"2021\",\"2021\",\"2021\",\"2021\",\"2021\",\"2021\",\"2021\",\"2021\",\"2021\",\"2021\",\"2021\",\"2021\",\"2021\",\"2021\",\"2021\",\"2021\",\"2021\",\"2021\",\"2021\",\"2021\",\"2021\",\"2021\",\"2021\",\"2021\",\"2021\",\"2021\",\"2021\",\"2021\",\"2021\",\"2021\",\"2021\",\"2021\",\"2021\",\"2021\",\"2021\",\"2021\",\"2021\",\"2021\",\"2021\",\"2021\",\"2021\",\"2021\",\"2021\",\"2021\",\"2021\",\"2021\",\"2021\",\"2021\",\"2021\",\"2021\",\"2021\",\"2021\",\"2021\",\"2021\",\"2021\",\"2021\",\"2021\",\"2021\",\"2021\",\"2021\",\"2021\",\"2021\",\"2021\",\"2021\",\"2021\",\"2021\",\"2021\",\"2021\",\"2021\",\"2021\",\"2021\",\"2021\",\"2021\",\"2021\",\"2021\",\"2021\",\"2021\",\"2021\",\"2021\",\"2021\",\"2021\",\"2021\",\"2021\",\"2021\",\"2021\",\"2021\",\"2021\",\"2021\",\"2021\",\"2021\",\"2021\",\"2021\",\"2021\",\"2021\",\"2021\",\"2021\",\"2021\",\"2021\",\"2021\",\"2021\",\"2021\",\"2021\",\"2021\",\"2021\",\"2021\",\"2021\",\"2021\",\"2021\",\"2021\",\"2021\",\"2021\",\"2021\",\"2021\",\"2021\",\"2021\",\"2021\",\"2021\",\"2021\",\"2021\",\"2021\",\"2021\",\"2021\",\"2021\",\"2021\",\"2021\",\"2021\",\"2021\",\"2021\",\"2021\",\"2021\",\"2021\",\"2021\",\"2021\",\"2021\",\"2021\",\"2021\",\"2021\",\"2021\",\"2021\",\"2021\",\"2021\",\"2021\",\"2021\",\"2021\",\"2021\",\"2021\",\"2021\",\"2021\",\"2021\",\"2021\",\"2021\",\"2021\",\"2021\",\"2021\",\"2021\",\"2021\",\"2021\",\"2021\",\"2021\",\"2021\",\"2021\",\"2021\",\"2021\",\"2021\",\"2021\",\"2021\",\"2021\",\"2021\",\"2021\",\"2021\",\"2021\",\"2021\",\"2021\",\"2021\",\"2021\",\"2021\",\"2021\",\"2021\",\"2021\",\"2021\",\"2021\",\"2021\",\"2021\",\"2021\",\"2021\",\"2021\",\"2021\",\"2021\",\"2021\",\"2021\",\"2021\",\"2021\",\"2021\",\"2021\",\"2021\",\"2021\",\"2021\",\"2021\",\"2021\",\"2021\",\"2021\",\"2021\",\"2021\",\"2021\",\"2021\",\"2021\",\"2021\",\"2021\",\"2021\",\"2021\",\"2021\",\"2021\",\"2021\",\"2021\",\"2021\",\"2021\",\"2021\",\"2021\",\"2021\",\"2021\",\"2021\",\"2021\",\"2021\",\"2021\",\"2021\",\"2021\",\"2021\",\"2021\",\"2021\",\"2021\",\"2021\",\"2021\",\"2021\",\"2021\",\"2021\",\"2021\",\"2021\",\"2021\",\"2021\",\"2021\",\"2021\",\"2021\",\"2021\",\"2021\",\"2021\",\"2021\",\"2021\",\"2021\",\"2021\",\"2021\",\"2021\",\"2021\",\"2021\",\"2021\",\"2021\",\"2021\",\"2021\",\"2021\",\"2021\",\"2021\",\"2021\",\"2021\",\"2021\",\"2021\",\"2021\",\"2021\",\"2021\",\"2021\",\"2021\",\"2021\",\"2021\",\"2021\",\"2021\",\"2021\",\"2021\",\"2021\",\"2021\",\"2021\",\"2021\",\"2021\",\"2021\",\"2021\",\"2021\",\"2021\",\"2021\",\"2021\",\"2021\",\"2021\",\"2021\",\"2021\",\"2021\",\"2021\",\"2021\",\"2021\",\"2021\",\"2021\",\"2021\",\"2021\",\"2021\",\"2021\",\"2021\",\"2021\",\"2021\",\"2021\",\"2021\",\"2021\",\"2021\",\"2021\",\"2021\",\"2021\",\"2021\",\"2021\",\"2021\",\"2021\",\"2021\",\"2021\",\"2021\",\"2021\",\"2021\",\"2021\",\"2021\",\"2021\",\"2021\",\"2021\",\"2021\",\"2021\",\"2021\",\"2021\",\"2021\",\"2021\",\"2021\",\"2021\",\"2021\",\"2021\",\"2021\",\"2021\",\"2021\",\"2021\",\"2021\",\"2021\",\"2021\",\"2021\",\"2021\",\"2021\",\"2021\",\"2021\",\"2021\",\"2021\",\"2021\",\"2021\",\"2021\",\"2021\",\"2021\",\"2021\",\"2021\",\"2021\",\"2021\",\"2021\",\"2021\",\"2021\",\"2021\",\"2021\",\"2021\",\"2021\",\"2021\",\"2021\",\"2021\",\"2021\",\"2021\",\"2021\",\"2021\",\"2021\",\"2021\",\"2021\",\"2021\",\"2021\",\"2021\",\"2021\",\"2021\",\"2021\",\"2021\",\"2021\",\"2021\",\"2021\",\"2021\",\"2021\",\"2021\",\"2021\",\"2021\",\"2021\",\"2021\",\"2021\",\"2021\",\"2021\",\"2021\",\"2021\",\"2021\",\"2021\",\"2021\",\"2021\",\"2021\",\"2021\",\"2021\",\"2021\",\"2021\",\"2021\",\"2021\",\"2021\",\"2021\",\"2021\",\"2021\",\"2021\",\"2021\",\"2021\",\"2021\",\"2021\",\"2021\",\"2021\",\"2021\",\"2021\",\"2021\",\"2021\",\"2021\",\"2021\",\"2021\",\"2021\",\"2021\",\"2021\",\"2021\",\"2021\",\"2021\",\"2021\",\"2021\",\"2021\",\"2021\",\"2021\",\"2021\",\"2021\",\"2021\",\"2021\",\"2021\",\"2021\",\"2021\",\"2021\",\"2021\",\"2021\",\"2021\",\"2021\",\"2021\",\"2021\",\"2021\",\"2021\",\"2021\",\"2021\",\"2021\",\"2021\",\"2021\",\"2021\",\"2021\",\"2021\",\"2021\",\"2021\",\"2021\",\"2021\",\"2021\",\"2021\",\"2021\",\"2021\",\"2021\",\"2021\",\"2021\",\"2021\",\"2021\",\"2021\",\"2021\",\"2021\",\"2021\",\"2021\",\"2021\",\"2021\",\"2021\",\"2021\",\"2021\",\"2021\",\"2021\",\"2021\",\"2021\",\"2021\",\"2021\",\"2021\",\"2021\",\"2021\",\"2021\",\"2021\",\"2021\",\"2021\",\"2021\",\"2021\",\"2021\",\"2021\",\"2021\",\"2021\",\"2021\",\"2021\",\"2021\",\"2021\",\"2021\",\"2021\",\"2021\",\"2021\",\"2021\",\"2021\",\"2021\",\"2021\",\"2021\",\"2021\",\"2021\",\"2021\",\"2021\",\"2021\",\"2021\",\"2021\",\"2021\",\"2021\",\"2021\",\"2021\",\"2021\",\"2021\",\"2021\",\"2021\",\"2021\",\"2021\",\"2021\",\"2021\",\"2021\",\"2021\",\"2021\",\"2021\",\"2021\",\"2021\",\"2021\",\"2021\",\"2021\",\"2021\",\"2021\",\"2021\",\"2021\",\"2021\",\"2021\",\"2021\",\"2021\",\"2021\",\"2021\",\"2021\",\"2021\",\"2021\",\"2021\",\"2021\",\"2021\",\"2021\",\"2021\",\"2021\",\"2021\",\"2021\",\"2021\",\"2021\",\"2021\",\"2021\",\"2021\",\"2021\",\"2021\",\"2021\",\"2021\",\"2021\",\"2021\",\"2021\",\"2021\",\"2021\",\"2021\",\"2021\",\"2021\",\"2021\",\"2021\",\"2021\",\"2021\",\"2021\",\"2021\",\"2021\",\"2021\",\"2021\",\"2021\",\"2021\",\"2021\",\"2021\",\"2021\",\"2021\",\"2021\",\"2021\",\"2021\",\"2021\",\"2021\",\"2021\",\"2021\",\"2021\",\"2021\",\"2021\",\"2021\",\"2021\",\"2021\",\"2021\",\"2021\",\"2021\",\"2021\",\"2021\",\"2021\",\"2021\",\"2021\",\"2021\",\"2021\",\"2021\",\"2021\",\"2021\",\"2021\",\"2021\",\"2021\",\"2021\",\"2021\",\"2021\",\"2021\",\"2021\",\"2021\",\"2021\",\"2021\",\"2021\",\"2021\",\"2021\",\"2021\",\"2021\",\"2021\",\"2021\",\"2021\",\"2021\",\"2021\",\"2021\",\"2021\",\"2021\",\"2021\",\"2021\",\"2021\",\"2021\",\"2021\",\"2021\",\"2021\",\"2021\",\"2021\",\"2021\",\"2021\",\"2021\",\"2021\",\"2021\",\"2021\",\"2021\",\"2021\",\"2021\",\"2021\",\"2021\",\"2021\",\"2021\",\"2021\",\"2021\",\"2021\",\"2021\",\"2021\",\"2021\",\"2021\",\"2021\",\"2021\",\"2021\",\"2021\",\"2021\",\"2021\",\"2021\",\"2021\",\"2021\",\"2021\",\"2021\",\"2021\",\"2021\",\"2021\",\"2021\",\"2021\",\"2021\",\"2021\",\"2021\",\"2021\",\"2021\",\"2021\",\"2021\",\"2021\",\"2021\",\"2021\",\"2021\",\"2021\",\"2021\",\"2021\",\"2021\",\"2021\",\"2021\",\"2021\",\"2021\",\"2021\",\"2021\",\"2021\",\"2021\",\"2021\",\"2021\",\"2021\",\"2021\",\"2021\",\"2021\",\"2021\",\"2021\",\"2021\",\"2021\",\"2021\",\"2021\",\"2021\",\"2021\",\"2021\",\"2021\",\"2021\",\"2021\",\"2021\",\"2021\",\"2021\",\"2021\",\"2021\",\"2021\",\"2021\",\"2021\",\"2021\",\"2021\",\"2021\",\"2021\",\"2021\",\"2021\",\"2021\",\"2021\",\"2021\",\"2021\",\"2021\",\"2021\",\"2021\",\"2021\",\"2021\",\"2021\",\"2021\",\"2021\",\"2021\",\"2021\",\"2021\",\"2021\",\"2021\",\"2021\",\"2021\",\"2021\",\"2021\",\"2021\",\"2021\",\"2021\",\"2021\",\"2021\",\"2021\",\"2021\",\"2021\",\"2021\",\"2021\",\"2021\",\"2021\",\"2021\",\"2021\",\"2021\",\"2021\",\"2021\",\"2021\",\"2021\",\"2021\",\"2021\",\"2021\",\"2021\",\"2021\",\"2021\",\"2021\",\"2021\",\"2021\",\"2021\",\"2021\",\"2021\",\"2021\",\"2021\",\"2021\",\"2021\",\"2021\",\"2021\",\"2021\",\"2021\",\"2021\",\"2021\",\"2021\",\"2021\",\"2021\",\"2021\",\"2021\",\"2021\",\"2021\",\"2021\",\"2021\",\"2021\",\"2021\",\"2021\",\"2021\",\"2021\",\"2021\",\"2021\",\"2021\",\"2021\",\"2021\",\"2021\",\"2021\",\"2021\",\"2021\",\"2021\",\"2021\",\"2021\",\"2021\",\"2021\",\"2021\",\"2021\",\"2021\",\"2021\",\"2021\",\"2021\",\"2021\",\"2021\",\"2021\",\"2021\",\"2021\",\"2021\",\"2021\",\"2021\",\"2021\",\"2021\",\"2021\",\"2021\",\"2021\",\"2021\",\"2021\",\"2021\",\"2021\",\"2021\",\"2021\",\"2021\",\"2021\",\"2021\",\"2021\",\"2021\",\"2021\",\"2021\",\"2021\",\"2021\",\"2021\",\"2021\",\"2021\",\"2021\",\"2021\",\"2021\",\"2021\",\"2021\",\"2021\",\"2021\",\"2021\",\"2021\",\"2021\",\"2021\",\"2021\",\"2021\",\"2021\",\"2021\",\"2021\",\"2021\",\"2021\",\"2021\",\"2021\",\"2021\",\"2021\",\"2021\",\"2021\",\"2021\",\"2021\",\"2021\",\"2021\",\"2021\",\"2021\",\"2021\",\"2021\",\"2021\",\"2021\",\"2021\",\"2021\",\"2021\",\"2021\",\"2021\",\"2021\",\"2021\",\"2021\",\"2021\",\"2021\",\"2021\",\"2021\",\"2021\",\"2021\",\"2021\",\"2021\",\"2021\",\"2021\",\"2021\",\"2021\",\"2021\",\"2021\",\"2021\",\"2021\",\"2021\",\"2021\",\"2021\",\"2021\",\"2021\",\"2021\",\"2021\",\"2021\",\"2021\",\"2021\",\"2021\",\"2021\",\"2021\",\"2021\",\"2021\",\"2021\",\"2021\",\"2021\",\"2021\",\"2021\",\"2021\",\"2021\",\"2021\",\"2021\",\"2021\",\"2021\",\"2021\",\"2021\",\"2021\",\"2021\",\"2021\",\"2021\",\"2021\",\"2021\",\"2021\",\"2021\",\"2021\",\"2021\",\"2021\",\"2021\",\"2021\",\"2021\",\"2021\",\"2021\",\"2021\",\"2021\",\"2021\",\"2021\",\"2021\",\"2021\",\"2021\",\"2021\",\"2021\",\"2021\",\"2021\",\"2021\",\"2021\",\"2021\",\"2021\",\"2021\",\"2021\",\"2021\",\"2021\",\"2021\",\"2021\",\"2021\",\"2021\",\"2021\",\"2021\",\"2021\",\"2021\",\"2021\",\"2021\",\"2021\",\"2021\",\"2021\",\"2021\",\"2021\",\"2021\",\"2021\",\"2021\",\"2021\",\"2021\",\"2021\",\"2021\",\"2021\",\"2021\",\"2021\",\"2021\",\"2021\",\"2021\",\"2021\",\"2021\",\"2021\",\"2021\",\"2021\",\"2021\",\"2021\",\"2021\",\"2021\",\"2021\",\"2021\",\"2021\",\"2021\",\"2021\",\"2021\",\"2021\",\"2021\",\"2021\",\"2021\",\"2021\",\"2021\",\"2021\",\"2021\",\"2021\",\"2021\",\"2021\",\"2021\",\"2021\",\"2021\",\"2021\",\"2021\",\"2021\",\"2021\",\"2021\",\"2021\",\"2021\",\"2021\",\"2021\",\"2021\",\"2021\",\"2021\",\"2021\",\"2021\",\"2021\",\"2021\",\"2021\",\"2021\",\"2021\",\"2021\",\"2021\",\"2021\",\"2021\",\"2021\",\"2021\",\"2021\",\"2021\",\"2021\",\"2021\",\"2021\",\"2021\",\"2021\",\"2021\",\"2021\",\"2021\",\"2021\",\"2021\",\"2021\",\"2021\",\"2021\",\"2021\",\"2021\",\"2021\",\"2021\",\"2021\",\"2021\",\"2021\",\"2021\",\"2021\",\"2021\",\"2021\",\"2021\",\"2021\",\"2021\",\"2021\",\"2021\",\"2021\",\"2021\",\"2021\",\"2021\",\"2021\",\"2021\",\"2020\",\"2020\",\"2020\",\"2020\",\"2020\",\"2020\",\"2020\",\"2020\",\"2020\",\"2020\",\"2020\",\"2020\",\"2020\",\"2020\",\"2020\",\"2020\",\"2020\",\"2020\",\"2020\",\"2020\",\"2020\",\"2020\",\"2020\",\"2020\",\"2020\",\"2020\",\"2020\",\"2020\",\"2020\",\"2020\",\"2020\",\"2020\",\"2020\",\"2020\",\"2020\",\"2020\",\"2020\",\"2020\",\"2020\",\"2020\",\"2020\",\"2020\",\"2020\",\"2020\",\"2020\",\"2020\",\"2020\",\"2020\",\"2020\",\"2020\",\"2020\",\"2020\",\"2020\",\"2020\",\"2020\",\"2020\",\"2020\",\"2020\",\"2020\",\"2020\",\"2020\",\"2020\",\"2020\",\"2020\",\"2020\",\"2020\",\"2020\",\"2020\",\"2020\",\"2020\",\"2020\",\"2020\",\"2020\",\"2020\",\"2020\",\"2020\",\"2020\",\"2020\",\"2020\",\"2020\",\"2020\",\"2020\",\"2020\",\"2020\",\"2020\",\"2020\",\"2020\",\"2020\",\"2020\",\"2020\",\"2020\",\"2020\",\"2020\",\"2020\",\"2020\",\"2020\",\"2020\",\"2020\",\"2020\",\"2020\",\"2020\",\"2020\",\"2020\",\"2020\",\"2020\",\"2020\",\"2020\",\"2020\",\"2020\",\"2020\",\"2020\",\"2020\",\"2020\",\"2020\",\"2020\",\"2020\",\"2020\",\"2020\",\"2020\",\"2020\",\"2020\",\"2020\",\"2020\",\"2020\",\"2020\",\"2020\",\"2020\",\"2020\",\"2020\",\"2020\",\"2020\",\"2020\",\"2020\",\"2020\",\"2020\",\"2020\",\"2020\",\"2020\",\"2020\",\"2020\",\"2020\",\"2020\",\"2020\",\"2020\",\"2020\",\"2020\",\"2020\",\"2020\",\"2020\",\"2020\",\"2020\",\"2020\",\"2020\",\"2020\",\"2020\",\"2020\",\"2020\",\"2020\",\"2020\",\"2020\",\"2020\",\"2020\",\"2020\",\"2020\",\"2020\",\"2020\",\"2020\",\"2020\",\"2020\",\"2020\",\"2020\",\"2020\",\"2020\",\"2020\",\"2020\",\"2020\",\"2020\",\"2020\",\"2020\",\"2020\",\"2020\",\"2020\",\"2020\",\"2020\",\"2020\",\"2020\",\"2020\",\"2020\",\"2020\",\"2020\",\"2020\",\"2020\",\"2020\",\"2020\",\"2020\",\"2020\",\"2020\",\"2020\",\"2020\",\"2020\",\"2020\",\"2020\",\"2020\",\"2020\",\"2020\",\"2020\",\"2020\",\"2020\",\"2020\",\"2020\",\"2020\",\"2020\",\"2020\",\"2020\",\"2020\",\"2020\",\"2020\",\"2020\",\"2020\",\"2020\",\"2020\",\"2020\",\"2020\",\"2020\",\"2020\",\"2020\",\"2020\",\"2020\",\"2020\",\"2020\",\"2020\",\"2020\",\"2020\",\"2020\",\"2020\",\"2020\",\"2020\",\"2020\",\"2020\",\"2020\",\"2020\",\"2020\",\"2020\",\"2020\",\"2020\",\"2020\",\"2020\",\"2020\",\"2020\",\"2020\",\"2020\",\"2020\",\"2020\",\"2020\",\"2020\",\"2020\",\"2020\",\"2020\",\"2020\",\"2020\",\"2020\",\"2020\",\"2020\",\"2020\",\"2020\",\"2020\",\"2020\",\"2020\",\"2020\",\"2020\",\"2020\",\"2020\",\"2020\",\"2020\",\"2020\",\"2020\",\"2020\",\"2020\",\"2020\",\"2020\",\"2020\",\"2020\",\"2020\",\"2020\",\"2020\",\"2020\",\"2020\",\"2020\",\"2020\",\"2020\",\"2020\",\"2020\",\"2020\",\"2020\",\"2020\",\"2020\",\"2020\",\"2020\",\"2020\",\"2020\",\"2020\",\"2020\",\"2020\",\"2020\",\"2020\",\"2020\",\"2020\",\"2020\",\"2020\",\"2020\",\"2020\",\"2020\",\"2020\",\"2020\",\"2020\",\"2020\",\"2020\",\"2020\",\"2020\",\"2020\",\"2020\",\"2020\",\"2020\",\"2020\",\"2020\",\"2020\",\"2020\",\"2020\",\"2020\",\"2020\",\"2020\",\"2020\",\"2020\",\"2020\",\"2020\",\"2020\",\"2020\",\"2020\",\"2020\",\"2020\",\"2020\",\"2020\",\"2020\",\"2020\",\"2020\",\"2020\",\"2020\",\"2020\",\"2020\",\"2020\",\"2020\",\"2020\",\"2020\",\"2020\",\"2020\",\"2020\",\"2020\",\"2020\",\"2020\",\"2020\",\"2020\",\"2020\",\"2020\",\"2020\",\"2020\",\"2020\",\"2020\",\"2020\",\"2020\",\"2020\",\"2020\",\"2020\",\"2020\",\"2020\",\"2020\",\"2020\",\"2020\",\"2020\",\"2020\",\"2020\",\"2020\",\"2020\",\"2020\",\"2020\",\"2020\",\"2020\",\"2020\",\"2020\",\"2020\",\"2020\",\"2020\",\"2020\",\"2020\",\"2020\",\"2020\",\"2020\",\"2020\",\"2020\",\"2020\",\"2020\",\"2020\",\"2020\",\"2020\",\"2020\",\"2020\",\"2020\",\"2020\",\"2020\",\"2020\",\"2020\",\"2020\",\"2020\",\"2020\",\"2020\",\"2020\",\"2020\",\"2020\",\"2020\",\"2020\",\"2020\",\"2020\",\"2020\",\"2020\",\"2020\",\"2020\",\"2020\",\"2020\",\"2020\",\"2020\",\"2020\",\"2020\",\"2020\",\"2020\",\"2020\",\"2020\",\"2020\",\"2020\",\"2020\",\"2020\",\"2020\",\"2020\",\"2020\",\"2020\",\"2020\",\"2020\",\"2020\",\"2020\",\"2020\",\"2020\",\"2020\",\"2020\",\"2020\",\"2020\",\"2020\",\"2020\",\"2020\",\"2020\",\"2020\",\"2020\",\"2020\",\"2020\",\"2020\",\"2020\",\"2020\",\"2020\",\"2020\",\"2020\",\"2020\",\"2020\",\"2020\",\"2020\",\"2020\",\"2020\",\"2020\",\"2020\",\"2020\",\"2020\",\"2020\",\"2020\",\"2020\",\"2020\",\"2020\",\"2020\",\"2020\",\"2020\",\"2020\",\"2020\",\"2020\",\"2020\",\"2020\",\"2020\",\"2020\",\"2020\",\"2020\",\"2020\",\"2020\",\"2020\",\"2020\",\"2020\",\"2020\",\"2020\",\"2020\",\"2020\",\"2020\",\"2020\",\"2020\",\"2020\",\"2020\",\"2020\",\"2020\",\"2020\",\"2020\",\"2020\",\"2020\",\"2020\",\"2020\",\"2020\",\"2020\",\"2020\",\"2020\",\"2020\",\"2020\",\"2020\",\"2020\",\"2020\",\"2020\",\"2020\",\"2020\",\"2020\",\"2020\",\"2020\",\"2020\",\"2020\",\"2020\",\"2020\",\"2020\",\"2020\",\"2020\",\"2020\",\"2020\",\"2020\",\"2020\",\"2020\",\"2020\",\"2020\",\"2020\",\"2020\",\"2020\",\"2020\",\"2020\",\"2020\",\"2020\",\"2020\",\"2020\",\"2020\",\"2020\",\"2020\",\"2020\",\"2020\",\"2020\",\"2020\",\"2020\",\"2020\",\"2020\",\"2020\",\"2020\",\"2020\",\"2020\",\"2020\",\"2020\",\"2020\",\"2020\",\"2020\",\"2020\",\"2020\",\"2020\",\"2020\",\"2020\",\"2020\",\"2020\",\"2020\",\"2020\",\"2020\",\"2020\",\"2020\",\"2020\",\"2020\",\"2020\",\"2020\",\"2020\",\"2020\",\"2020\",\"2020\",\"2020\",\"2020\",\"2020\",\"2020\",\"2020\",\"2020\",\"2020\",\"2020\",\"2020\",\"2020\",\"2020\",\"2020\",\"2020\",\"2020\",\"2020\",\"2020\",\"2020\",\"2020\",\"2020\",\"2020\",\"2020\",\"2020\",\"2020\",\"2020\",\"2020\",\"2020\",\"2020\",\"2020\",\"2020\",\"2020\",\"2020\",\"2020\",\"2020\",\"2020\",\"2020\",\"2020\",\"2020\",\"2020\",\"2020\",\"2020\",\"2020\",\"2020\",\"2020\",\"2020\",\"2020\",\"2020\",\"2020\",\"2020\",\"2020\",\"2020\",\"2020\",\"2020\",\"2020\",\"2020\",\"2020\",\"2020\",\"2020\",\"2020\",\"2020\",\"2020\",\"2020\",\"2020\",\"2020\",\"2020\",\"2020\",\"2020\",\"2020\",\"2020\",\"2020\",\"2020\",\"2020\",\"2020\",\"2020\",\"2020\",\"2020\",\"2020\",\"2020\",\"2020\",\"2020\",\"2020\",\"2020\",\"2020\",\"2020\",\"2020\",\"2020\",\"2020\",\"2020\",\"2020\",\"2020\",\"2020\",\"2020\",\"2020\",\"2020\",\"2020\",\"2020\",\"2020\",\"2020\",\"2020\",\"2020\",\"2020\",\"2020\",\"2020\",\"2020\",\"2020\",\"2020\",\"2020\",\"2020\",\"2020\",\"2020\",\"2020\",\"2020\",\"2020\",\"2020\",\"2020\",\"2020\",\"2020\",\"2020\",\"2020\",\"2020\",\"2020\",\"2020\",\"2020\",\"2020\",\"2020\",\"2020\",\"2020\",\"2020\",\"2020\",\"2020\",\"2020\",\"2020\",\"2020\",\"2020\",\"2020\",\"2020\",\"2020\",\"2020\",\"2020\",\"2020\",\"2020\",\"2020\",\"2020\",\"2020\",\"2020\",\"2020\",\"2020\",\"2020\",\"2020\",\"2020\",\"2020\",\"2020\",\"2020\",\"2020\",\"2020\",\"2020\",\"2020\",\"2020\",\"2020\",\"2020\",\"2020\",\"2020\",\"2020\",\"2020\",\"2020\",\"2020\",\"2020\",\"2020\",\"2020\",\"2020\",\"2020\",\"2020\",\"2020\",\"2020\",\"2020\",\"2020\",\"2020\",\"2020\",\"2020\",\"2020\",\"2020\",\"2020\",\"2020\",\"2020\",\"2020\",\"2020\",\"2020\",\"2020\",\"2020\",\"2020\",\"2020\",\"2020\",\"2020\",\"2020\",\"2020\",\"2020\",\"2020\",\"2020\",\"2020\",\"2020\",\"2020\",\"2020\",\"2020\",\"2020\",\"2020\",\"2020\",\"2020\",\"2020\",\"2020\",\"2020\",\"2020\",\"2020\",\"2020\",\"2020\",\"2020\",\"2020\",\"2020\",\"2020\",\"2020\",\"2020\",\"2020\",\"2020\",\"2020\",\"2020\",\"2020\",\"2020\",\"2020\",\"2020\",\"2020\",\"2020\",\"2020\",\"2020\",\"2020\",\"2020\",\"2020\",\"2020\",\"2020\",\"2020\",\"2020\",\"2020\",\"2020\",\"2020\",\"2020\",\"2020\",\"2020\",\"2020\",\"2020\",\"2020\",\"2020\",\"2020\",\"2020\",\"2020\",\"2020\",\"2020\",\"2020\",\"2020\",\"2020\",\"2020\",\"2020\",\"2020\",\"2020\",\"2020\",\"2020\",\"2020\",\"2020\",\"2020\",\"2020\",\"2020\",\"2020\",\"2020\",\"2020\",\"2020\",\"2020\",\"2020\",\"2020\",\"2020\",\"2020\",\"2020\",\"2020\",\"2020\",\"2020\",\"2020\",\"2020\",\"2020\",\"2020\",\"2020\",\"2020\",\"2020\",\"2020\",\"2020\",\"2020\",\"2020\",\"2020\",\"2020\",\"2020\",\"2020\",\"2020\",\"2020\",\"2020\",\"2020\",\"2020\",\"2020\",\"2020\",\"2020\",\"2020\",\"2020\",\"2020\",\"2020\",\"2020\",\"2020\",\"2020\",\"2020\",\"2020\",\"2020\",\"2020\",\"2020\",\"2020\",\"2020\",\"2020\",\"2020\",\"2020\",\"2020\",\"2020\",\"2020\",\"2020\",\"2020\",\"2020\",\"2020\",\"2020\",\"2020\",\"2020\",\"2020\",\"2020\",\"2020\",\"2020\",\"2020\",\"2020\",\"2020\",\"2020\",\"2020\",\"2020\",\"2020\",\"2020\",\"2020\",\"2020\",\"2020\",\"2020\",\"2020\",\"2020\",\"2020\",\"2020\",\"2020\",\"2020\",\"2020\",\"2020\",\"2020\",\"2020\",\"2020\",\"2020\",\"2020\",\"2020\",\"2020\",\"2020\",\"2020\",\"2020\",\"2020\",\"2020\",\"2020\",\"2020\",\"2020\",\"2020\",\"2020\",\"2020\",\"2020\",\"2020\",\"2020\",\"2020\",\"2020\",\"2020\",\"2020\",\"2020\",\"2020\",\"2020\",\"2020\",\"2020\",\"2020\",\"2020\",\"2020\",\"2020\",\"2020\",\"2020\",\"2020\",\"2020\",\"2020\",\"2020\",\"2020\",\"2020\",\"2020\",\"2020\",\"2020\",\"2020\",\"2020\",\"2020\",\"2020\",\"2020\",\"2020\",\"2020\",\"2020\",\"2020\",\"2020\",\"2020\",\"2020\",\"2020\",\"2020\",\"2020\",\"2020\",\"2020\",\"2020\",\"2020\",\"2020\",\"2020\",\"2020\",\"2020\",\"2020\",\"2020\",\"2020\",\"2020\",\"2020\",\"2020\",\"2020\",\"2020\",\"2020\",\"2020\",\"2020\",\"2020\",\"2020\",\"2020\",\"2020\",\"2020\",\"2020\",\"2020\",\"2020\",\"2020\",\"2020\",\"2020\",\"2020\",\"2020\",\"2020\",\"2020\",\"2020\",\"2020\",\"2020\",\"2020\",\"2020\",\"2020\",\"2020\",\"2020\",\"2020\",\"2020\",\"2020\",\"2020\",\"2020\",\"2020\",\"2020\",\"2020\",\"2020\",\"2020\",\"2020\",\"2020\",\"2020\",\"2020\",\"2020\",\"2020\",\"2020\",\"2020\",\"2020\",\"2020\",\"2020\",\"2020\",\"2020\",\"2020\",\"2020\",\"2020\",\"2020\",\"2020\",\"2020\",\"2020\",\"2020\",\"2020\",\"2020\",\"2020\",\"2020\",\"2020\",\"2020\",\"2020\",\"2020\",\"2020\",\"2020\",\"2020\",\"2020\",\"2020\",\"2020\",\"2020\",\"2020\",\"2020\",\"2020\",\"2020\",\"2020\",\"2020\",\"2020\",\"2020\",\"2020\",\"2020\",\"2020\",\"2020\",\"2020\",\"2020\",\"2020\",\"2020\",\"2020\",\"2020\",\"2020\",\"2020\",\"2020\",\"2020\",\"2020\",\"2020\",\"2020\",\"2020\",\"2020\",\"2020\",\"2020\",\"2020\",\"2020\",\"2020\",\"2020\",\"2020\",\"2020\",\"2020\",\"2020\",\"2020\",\"2020\",\"2020\",\"2020\",\"2020\",\"2020\",\"2020\",\"2020\",\"2020\",\"2020\",\"2020\",\"2020\",\"2020\",\"2020\",\"2020\",\"2020\",\"2020\",\"2020\",\"2020\",\"2020\",\"2020\",\"2020\",\"2020\",\"2020\",\"2020\",\"2020\",\"2020\",\"2020\",\"2020\",\"2020\",\"2020\",\"2020\",\"2020\",\"2020\",\"2020\",\"2020\",\"2020\",\"2020\",\"2020\",\"2020\",\"2020\",\"2020\",\"2020\",\"2020\",\"2020\",\"2020\",\"2020\",\"2020\",\"2020\",\"2020\",\"2020\",\"2020\",\"2020\",\"2020\",\"2020\",\"2020\",\"2020\",\"2020\",\"2020\",\"2020\",\"2020\",\"2020\",\"2020\",\"2020\",\"2020\",\"2020\",\"2020\",\"2020\",\"2020\",\"2020\",\"2020\",\"2020\",\"2020\",\"2020\",\"2020\",\"2020\",\"2020\",\"2020\",\"2020\",\"2020\",\"2020\",\"2020\",\"2020\",\"2020\",\"2020\",\"2020\",\"2020\",\"2020\",\"2020\",\"2020\",\"2020\",\"2020\",\"2020\",\"2020\",\"2020\",\"2020\",\"2020\",\"2020\",\"2020\",\"2020\",\"2020\",\"2020\",\"2020\",\"2020\",\"2020\",\"2020\",\"2020\",\"2020\",\"2020\",\"2020\",\"2020\",\"2020\",\"2020\",\"2020\",\"2020\",\"2020\",\"2020\",\"2020\",\"2020\",\"2020\",\"2020\",\"2020\",\"2020\",\"2020\",\"2020\",\"2020\",\"2020\",\"2020\",\"2020\",\"2020\",\"2020\",\"2020\",\"2020\",\"2020\",\"2020\",\"2020\",\"2020\",\"2020\",\"2020\",\"2020\",\"2020\",\"2020\",\"2020\",\"2020\",\"2020\",\"2020\",\"2020\",\"2020\",\"2020\",\"2020\",\"2020\",\"2020\",\"2020\",\"2020\",\"2020\",\"2020\",\"2020\",\"2020\",\"2020\",\"2020\",\"2020\",\"2020\",\"2020\",\"2020\",\"2020\",\"2020\",\"2020\",\"2020\",\"2020\",\"2020\",\"2020\",\"2020\",\"2020\",\"2020\",\"2020\",\"2020\",\"2020\",\"2020\",\"2020\",\"2020\",\"2020\",\"2020\",\"2020\",\"2020\",\"2020\",\"2020\",\"2020\",\"2020\",\"2020\",\"2020\",\"2020\",\"2020\",\"2020\",\"2020\",\"2020\",\"2020\",\"2020\",\"2020\",\"2020\",\"2020\",\"2020\",\"2020\",\"2020\",\"2020\",\"2020\",\"2020\",\"2020\",\"2020\",\"2020\",\"2020\",\"2020\",\"2020\",\"2020\",\"2020\",\"2020\",\"2020\",\"2020\",\"2020\",\"2020\",\"2020\",\"2020\",\"2020\",\"2020\",\"2020\",\"2020\",\"2020\",\"2020\",\"2020\",\"2020\",\"2020\",\"2020\",\"2020\",\"2020\",\"2020\",\"2020\",\"2020\",\"2020\",\"2020\",\"2020\",\"2020\",\"2020\",\"2020\",\"2020\",\"2020\",\"2020\",\"2020\",\"2020\",\"2020\",\"2020\",\"2020\",\"2020\",\"2020\",\"2020\",\"2020\",\"2020\",\"2020\",\"2020\",\"2020\",\"2020\",\"2020\",\"2020\",\"2020\",\"2020\",\"2020\",\"2020\",\"2020\",\"2020\",\"2020\",\"2020\",\"2020\",\"2020\",\"2020\",\"2020\",\"2020\",\"2020\",\"2020\",\"2020\",\"2020\",\"2020\",\"2020\",\"2020\",\"2020\",\"2020\",\"2020\",\"2020\",\"2020\",\"2020\",\"2020\",\"2020\",\"2020\",\"2020\",\"2020\",\"2020\",\"2020\",\"2020\",\"2020\",\"2020\",\"2020\",\"2020\",\"2020\",\"2020\",\"2020\",\"2020\",\"2020\",\"2020\",\"2020\",\"2020\",\"2020\",\"2020\",\"2020\",\"2020\",\"2020\",\"2020\",\"2020\",\"2020\",\"2020\",\"2020\",\"2020\",\"2020\",\"2020\",\"2020\",\"2020\",\"2020\",\"2020\",\"2020\",\"2020\",\"2020\",\"2020\",\"2020\",\"2020\",\"2020\",\"2020\",\"2020\",\"2020\",\"2020\",\"2020\",\"2020\",\"2020\",\"2020\",\"2020\",\"2020\",\"2020\",\"2020\",\"2020\",\"2020\",\"2020\",\"2020\",\"2020\",\"2020\",\"2020\",\"2020\",\"2020\",\"2020\",\"2020\",\"2020\",\"2020\",\"2020\",\"2020\",\"2020\",\"2020\",\"2020\",\"2020\",\"2020\",\"2020\",\"2020\",\"2020\",\"2020\",\"2020\",\"2020\",\"2020\",\"2020\",\"2020\",\"2020\",\"2020\",\"2020\",\"2020\",\"2020\",\"2020\",\"2020\",\"2020\",\"2020\",\"2020\",\"2020\",\"2020\",\"2020\",\"2020\",\"2020\",\"2020\",\"2020\",\"2020\",\"2020\",\"2020\",\"2020\",\"2020\",\"2020\",\"2020\",\"2020\",\"2020\",\"2020\",\"2020\",\"2020\",\"2020\",\"2020\",\"2020\",\"2020\",\"2020\",\"2020\",\"2020\",\"2020\",\"2020\",\"2020\",\"2020\",\"2020\",\"2020\",\"2020\",\"2020\",\"2020\",\"2020\",\"2020\",\"2020\",\"2020\",\"2020\",\"2020\",\"2020\",\"2020\",\"2020\",\"2020\",\"2020\",\"2020\",\"2020\",\"2020\",\"2020\",\"2020\",\"2020\",\"2020\",\"2020\",\"2020\",\"2020\",\"2020\",\"2020\",\"2020\",\"2020\",\"2020\",\"2020\",\"2020\",\"2020\",\"2020\",\"2020\",\"2020\",\"2020\",\"2020\",\"2020\",\"2020\",\"2020\",\"2020\",\"2020\",\"2020\",\"2020\",\"2020\",\"2020\",\"2020\",\"2020\",\"2020\",\"2020\",\"2020\",\"2020\",\"2020\",\"2020\",\"2020\",\"2020\",\"2020\",\"2020\",\"2020\",\"2020\",\"2020\",\"2019\",\"2019\",\"2019\",\"2019\",\"2019\",\"2019\",\"2019\",\"2019\",\"2019\",\"2019\",\"2019\",\"2019\",\"2019\",\"2019\",\"2019\",\"2019\",\"2019\",\"2019\",\"2019\",\"2019\",\"2019\",\"2019\",\"2019\",\"2019\",\"2019\",\"2019\",\"2019\",\"2019\",\"2019\",\"2019\",\"2019\",\"2019\",\"2019\",\"2019\",\"2019\",\"2019\",\"2019\",\"2019\",\"2019\",\"2019\",\"2019\",\"2019\",\"2019\",\"2019\",\"2019\",\"2019\",\"2019\",\"2019\",\"2019\",\"2019\",\"2019\",\"2019\",\"2019\",\"2019\",\"2019\",\"2019\",\"2019\",\"2019\",\"2019\",\"2019\",\"2019\",\"2019\",\"2019\",\"2019\",\"2019\",\"2019\",\"2019\",\"2019\",\"2019\",\"2019\",\"2019\",\"2019\",\"2019\",\"2019\",\"2019\",\"2019\",\"2019\",\"2019\",\"2019\",\"2019\",\"2019\",\"2019\",\"2019\",\"2019\",\"2019\",\"2019\",\"2019\",\"2019\",\"2019\",\"2019\",\"2019\",\"2019\",\"2019\",\"2019\",\"2019\",\"2019\",\"2019\",\"2019\",\"2019\",\"2019\",\"2019\",\"2019\",\"2019\",\"2019\",\"2019\",\"2019\",\"2019\",\"2019\",\"2019\",\"2019\",\"2019\",\"2019\",\"2019\",\"2019\",\"2019\",\"2019\",\"2019\",\"2019\",\"2019\",\"2019\",\"2019\",\"2019\",\"2019\",\"2019\",\"2019\",\"2019\",\"2019\",\"2019\",\"2019\",\"2019\",\"2019\",\"2019\",\"2019\",\"2019\",\"2019\",\"2019\",\"2019\",\"2019\",\"2019\",\"2019\",\"2019\",\"2019\",\"2019\",\"2019\",\"2019\",\"2019\",\"2019\",\"2019\",\"2019\",\"2019\",\"2019\",\"2019\",\"2019\",\"2019\",\"2019\",\"2019\",\"2019\",\"2019\",\"2019\",\"2019\",\"2019\",\"2019\",\"2019\",\"2019\",\"2019\",\"2019\",\"2019\",\"2019\",\"2019\",\"2019\",\"2019\",\"2019\",\"2019\",\"2019\",\"2019\",\"2019\",\"2019\",\"2019\",\"2019\",\"2019\",\"2019\",\"2019\",\"2019\",\"2019\",\"2019\",\"2019\",\"2019\",\"2019\",\"2019\",\"2019\",\"2019\",\"2019\",\"2019\",\"2019\",\"2019\",\"2019\",\"2019\",\"2019\",\"2019\",\"2019\",\"2019\",\"2019\",\"2019\",\"2019\",\"2019\",\"2019\",\"2019\",\"2019\",\"2019\",\"2019\",\"2019\",\"2019\",\"2019\",\"2019\",\"2019\",\"2019\",\"2019\",\"2019\",\"2019\",\"2019\",\"2019\",\"2019\",\"2019\",\"2019\",\"2019\",\"2019\",\"2019\",\"2019\",\"2019\",\"2019\",\"2019\",\"2019\",\"2019\",\"2019\",\"2019\",\"2019\",\"2019\",\"2019\",\"2019\",\"2019\",\"2019\",\"2019\",\"2019\",\"2019\",\"2019\",\"2019\",\"2019\",\"2019\",\"2019\",\"2019\",\"2019\",\"2019\",\"2019\",\"2019\",\"2019\",\"2019\",\"2019\",\"2019\",\"2019\",\"2019\",\"2019\",\"2019\",\"2019\",\"2019\",\"2019\",\"2019\",\"2019\",\"2019\",\"2019\",\"2019\",\"2019\",\"2019\",\"2019\",\"2019\",\"2019\",\"2019\",\"2019\",\"2019\",\"2019\",\"2019\",\"2019\",\"2019\",\"2019\",\"2019\",\"2019\",\"2019\",\"2019\",\"2019\",\"2019\",\"2019\",\"2019\",\"2019\",\"2019\",\"2019\",\"2019\",\"2019\",\"2019\",\"2019\",\"2019\",\"2019\",\"2019\",\"2019\",\"2019\",\"2019\",\"2019\",\"2019\",\"2019\",\"2019\",\"2019\",\"2019\",\"2019\",\"2019\",\"2019\",\"2019\",\"2019\",\"2019\",\"2019\",\"2019\",\"2019\",\"2019\",\"2019\",\"2019\",\"2019\",\"2019\",\"2019\",\"2019\",\"2019\",\"2019\",\"2019\",\"2019\",\"2019\",\"2019\",\"2019\",\"2019\",\"2019\",\"2019\",\"2019\",\"2019\",\"2019\",\"2019\",\"2019\",\"2019\",\"2019\",\"2019\",\"2019\",\"2019\",\"2019\",\"2019\",\"2019\",\"2019\",\"2019\",\"2019\",\"2019\",\"2019\",\"2019\",\"2019\",\"2019\",\"2019\",\"2019\",\"2019\",\"2019\",\"2019\",\"2019\",\"2019\",\"2019\",\"2019\",\"2019\",\"2019\",\"2019\",\"2019\",\"2019\",\"2019\",\"2019\",\"2019\",\"2019\",\"2019\",\"2019\",\"2019\",\"2019\",\"2019\",\"2019\",\"2019\",\"2019\",\"2019\",\"2019\",\"2019\",\"2019\",\"2019\",\"2019\",\"2019\",\"2019\",\"2019\",\"2019\",\"2019\",\"2019\",\"2019\",\"2019\",\"2019\",\"2019\",\"2019\",\"2019\",\"2019\",\"2019\",\"2019\",\"2019\",\"2019\",\"2019\",\"2019\",\"2019\",\"2019\",\"2019\",\"2019\",\"2019\",\"2019\",\"2019\",\"2019\",\"2019\",\"2019\",\"2019\",\"2019\",\"2019\",\"2019\",\"2019\",\"2019\",\"2019\",\"2019\",\"2019\",\"2019\",\"2019\",\"2019\",\"2019\",\"2019\",\"2019\",\"2019\",\"2019\",\"2019\",\"2019\",\"2019\",\"2019\",\"2019\",\"2019\",\"2019\",\"2019\",\"2019\",\"2019\",\"2019\",\"2019\",\"2019\",\"2019\",\"2019\",\"2019\",\"2019\",\"2019\",\"2019\",\"2019\",\"2019\",\"2019\",\"2019\",\"2019\",\"2019\",\"2019\",\"2019\",\"2019\",\"2019\",\"2019\",\"2019\",\"2019\",\"2019\",\"2019\",\"2019\",\"2019\",\"2019\",\"2019\",\"2019\",\"2019\",\"2019\",\"2019\",\"2019\",\"2019\",\"2019\",\"2019\",\"2019\",\"2019\",\"2019\",\"2019\",\"2019\",\"2019\",\"2019\",\"2019\",\"2019\",\"2019\",\"2019\",\"2019\",\"2019\",\"2019\",\"2019\",\"2019\",\"2019\",\"2019\",\"2019\",\"2019\",\"2019\",\"2019\",\"2019\",\"2019\",\"2019\",\"2019\",\"2019\",\"2019\",\"2019\",\"2019\",\"2019\",\"2019\",\"2019\",\"2019\",\"2019\",\"2019\",\"2019\",\"2019\",\"2019\",\"2019\",\"2019\",\"2019\",\"2019\",\"2019\",\"2019\",\"2019\",\"2019\",\"2019\",\"2019\",\"2019\",\"2019\",\"2019\",\"2019\",\"2019\",\"2019\",\"2019\",\"2019\",\"2019\",\"2019\",\"2019\",\"2019\",\"2019\",\"2019\",\"2019\",\"2019\",\"2019\",\"2019\",\"2019\",\"2019\",\"2019\",\"2019\",\"2019\",\"2019\",\"2019\",\"2019\",\"2019\",\"2019\",\"2019\",\"2019\",\"2019\",\"2019\",\"2019\",\"2019\",\"2019\",\"2019\",\"2019\",\"2019\",\"2019\",\"2019\",\"2019\",\"2019\",\"2019\",\"2019\",\"2019\",\"2019\",\"2019\",\"2019\",\"2019\",\"2019\",\"2019\",\"2019\",\"2019\",\"2019\",\"2019\",\"2019\",\"2019\",\"2019\",\"2019\",\"2019\",\"2019\",\"2019\",\"2019\",\"2019\",\"2019\",\"2019\",\"2019\",\"2019\",\"2019\",\"2019\",\"2019\",\"2019\",\"2019\",\"2019\",\"2019\",\"2019\",\"2019\",\"2019\",\"2019\",\"2019\",\"2019\",\"2019\",\"2019\",\"2019\",\"2019\",\"2019\",\"2019\",\"2019\",\"2019\",\"2019\",\"2019\",\"2019\",\"2019\",\"2019\",\"2019\",\"2019\",\"2019\",\"2019\",\"2019\",\"2019\",\"2019\",\"2019\",\"2019\",\"2019\",\"2019\",\"2019\",\"2019\",\"2019\",\"2019\",\"2019\",\"2019\",\"2019\",\"2019\",\"2019\",\"2019\",\"2019\",\"2019\",\"2019\",\"2019\",\"2019\",\"2019\",\"2019\",\"2019\",\"2019\",\"2019\",\"2019\",\"2019\",\"2019\",\"2019\",\"2019\",\"2019\",\"2019\",\"2019\",\"2019\",\"2019\",\"2019\",\"2019\",\"2019\",\"2019\",\"2019\",\"2019\",\"2019\",\"2019\",\"2019\",\"2019\",\"2019\",\"2019\",\"2019\",\"2019\",\"2019\",\"2019\",\"2019\",\"2019\",\"2019\",\"2019\",\"2019\",\"2019\",\"2019\",\"2019\",\"2019\",\"2019\",\"2019\",\"2019\",\"2019\",\"2019\",\"2019\",\"2019\",\"2019\",\"2019\",\"2019\",\"2019\",\"2019\",\"2019\",\"2019\",\"2019\",\"2019\",\"2019\",\"2019\",\"2019\",\"2019\",\"2019\",\"2019\",\"2019\",\"2019\",\"2019\",\"2019\",\"2019\",\"2019\",\"2019\",\"2019\",\"2019\",\"2019\",\"2019\",\"2019\",\"2019\",\"2019\",\"2019\",\"2019\",\"2019\",\"2019\",\"2019\",\"2019\",\"2019\",\"2019\",\"2019\",\"2019\",\"2019\",\"2019\",\"2019\",\"2019\",\"2019\",\"2019\",\"2019\",\"2019\",\"2019\",\"2019\",\"2019\",\"2019\",\"2019\",\"2019\",\"2019\",\"2019\",\"2019\",\"2019\",\"2019\",\"2019\",\"2019\",\"2019\",\"2019\",\"2019\",\"2019\",\"2019\",\"2019\",\"2019\",\"2019\",\"2019\",\"2019\",\"2019\",\"2019\",\"2019\",\"2019\",\"2019\",\"2019\",\"2019\",\"2019\",\"2019\",\"2019\",\"2019\",\"2019\",\"2019\",\"2019\",\"2019\",\"2019\",\"2019\",\"2019\",\"2019\",\"2019\",\"2019\",\"2019\",\"2019\",\"2019\",\"2019\",\"2019\",\"2019\",\"2019\",\"2019\",\"2019\",\"2019\",\"2019\",\"2019\",\"2019\",\"2019\",\"2019\",\"2019\",\"2019\",\"2019\",\"2019\",\"2019\",\"2019\",\"2019\",\"2019\",\"2019\",\"2019\",\"2019\",\"2019\",\"2019\",\"2019\",\"2019\",\"2019\",\"2019\",\"2019\",\"2019\",\"2019\",\"2019\",\"2019\",\"2019\",\"2019\",\"2019\",\"2019\",\"2019\",\"2019\",\"2019\",\"2019\",\"2019\",\"2019\",\"2019\",\"2019\",\"2019\",\"2019\",\"2019\",\"2019\",\"2019\",\"2019\",\"2019\",\"2019\",\"2019\",\"2019\",\"2019\",\"2019\",\"2019\",\"2019\",\"2019\",\"2019\",\"2019\",\"2019\",\"2019\",\"2019\",\"2019\",\"2019\",\"2019\",\"2019\",\"2019\",\"2019\",\"2019\",\"2019\",\"2019\",\"2019\",\"2019\",\"2019\",\"2019\",\"2019\",\"2019\",\"2019\",\"2019\",\"2019\",\"2019\",\"2019\",\"2019\",\"2019\",\"2019\",\"2019\",\"2019\",\"2019\",\"2019\",\"2019\",\"2019\",\"2019\",\"2019\",\"2019\",\"2019\",\"2019\",\"2019\",\"2019\",\"2019\",\"2019\",\"2019\",\"2019\",\"2019\",\"2019\",\"2019\",\"2019\",\"2019\",\"2019\",\"2019\",\"2019\",\"2019\",\"2019\",\"2019\",\"2019\",\"2019\",\"2019\",\"2019\",\"2019\",\"2019\",\"2019\",\"2019\",\"2019\",\"2019\",\"2019\",\"2019\",\"2019\",\"2019\",\"2019\",\"2019\",\"2019\",\"2019\",\"2019\",\"2019\",\"2019\",\"2019\",\"2019\",\"2019\",\"2019\",\"2019\",\"2019\",\"2019\",\"2019\",\"2019\",\"2019\",\"2019\",\"2019\",\"2019\",\"2019\",\"2019\",\"2019\",\"2019\",\"2019\",\"2019\",\"2019\",\"2019\",\"2019\",\"2019\",\"2019\",\"2019\",\"2019\",\"2019\",\"2019\",\"2019\",\"2019\",\"2019\",\"2019\",\"2019\",\"2019\",\"2019\",\"2019\",\"2019\",\"2019\",\"2019\",\"2019\",\"2019\",\"2019\",\"2019\",\"2019\",\"2019\",\"2019\",\"2019\",\"2019\",\"2019\",\"2019\",\"2019\",\"2019\",\"2019\",\"2019\",\"2019\",\"2019\",\"2019\",\"2019\",\"2019\",\"2019\",\"2019\",\"2019\",\"2019\",\"2019\",\"2019\",\"2019\",\"2019\",\"2019\",\"2019\",\"2019\",\"2019\",\"2019\",\"2019\",\"2019\",\"2019\",\"2019\",\"2019\",\"2019\",\"2019\",\"2019\",\"2019\",\"2019\",\"2019\",\"2019\",\"2019\",\"2019\",\"2019\",\"2019\",\"2019\",\"2019\",\"2019\",\"2019\",\"2019\",\"2019\",\"2019\",\"2019\",\"2019\",\"2019\",\"2019\",\"2019\",\"2019\",\"2019\",\"2019\",\"2019\",\"2019\",\"2019\",\"2019\",\"2019\",\"2019\",\"2019\",\"2019\",\"2019\",\"2019\",\"2019\",\"2019\",\"2019\",\"2019\",\"2019\",\"2019\",\"2019\",\"2019\",\"2019\",\"2019\",\"2019\",\"2019\",\"2019\",\"2019\",\"2019\",\"2019\",\"2019\",\"2019\",\"2019\",\"2019\",\"2019\",\"2019\",\"2019\",\"2019\",\"2019\",\"2019\",\"2019\",\"2019\",\"2019\",\"2019\",\"2019\",\"2019\",\"2019\",\"2019\",\"2019\",\"2019\",\"2019\",\"2019\",\"2019\",\"2019\",\"2019\",\"2019\",\"2019\",\"2019\",\"2019\",\"2019\",\"2019\",\"2019\",\"2019\",\"2019\",\"2019\",\"2019\",\"2019\",\"2019\",\"2019\",\"2019\",\"2019\",\"2019\",\"2019\",\"2019\",\"2019\",\"2019\",\"2019\",\"2019\",\"2019\",\"2019\",\"2019\",\"2019\",\"2019\",\"2019\",\"2019\",\"2019\",\"2019\",\"2019\",\"2019\",\"2019\",\"2019\",\"2019\",\"2019\",\"2019\",\"2019\",\"2019\",\"2019\",\"2019\",\"2019\",\"2019\",\"2019\",\"2019\",\"2019\",\"2019\",\"2019\",\"2019\",\"2019\",\"2019\",\"2019\",\"2019\",\"2019\",\"2019\",\"2019\",\"2019\",\"2019\",\"2019\",\"2019\",\"2019\",\"2019\",\"2019\",\"2019\",\"2019\",\"2019\",\"2019\",\"2018\",\"2018\",\"2018\",\"2018\",\"2018\",\"2018\",\"2018\",\"2018\",\"2018\",\"2018\",\"2018\",\"2018\",\"2018\",\"2018\",\"2018\",\"2018\",\"2018\",\"2018\",\"2018\",\"2018\",\"2018\",\"2018\",\"2018\",\"2018\",\"2018\",\"2018\",\"2018\",\"2018\",\"2018\",\"2018\",\"2018\",\"2018\",\"2018\",\"2018\",\"2018\",\"2018\",\"2018\",\"2018\",\"2018\",\"2018\",\"2018\",\"2018\",\"2018\",\"2018\",\"2018\",\"2018\",\"2018\",\"2018\",\"2018\",\"2018\",\"2018\",\"2018\",\"2018\",\"2018\",\"2018\",\"2018\",\"2018\",\"2018\",\"2018\",\"2018\",\"2018\",\"2018\",\"2018\",\"2018\",\"2018\",\"2018\",\"2018\",\"2018\",\"2018\",\"2018\",\"2018\",\"2018\",\"2018\",\"2018\",\"2018\",\"2018\",\"2018\",\"2018\",\"2018\",\"2018\",\"2018\",\"2018\",\"2018\",\"2018\",\"2018\",\"2018\",\"2018\",\"2018\",\"2018\",\"2018\",\"2018\",\"2018\",\"2018\",\"2018\",\"2018\",\"2018\",\"2018\",\"2018\",\"2018\",\"2018\",\"2018\",\"2018\",\"2018\",\"2018\",\"2018\",\"2018\",\"2018\",\"2018\",\"2018\",\"2018\",\"2018\",\"2018\",\"2018\",\"2018\",\"2018\",\"2018\",\"2018\",\"2018\",\"2018\",\"2018\",\"2018\",\"2018\",\"2018\",\"2018\",\"2018\",\"2018\",\"2018\",\"2018\",\"2018\",\"2018\",\"2018\",\"2018\",\"2018\",\"2018\",\"2018\",\"2018\",\"2018\",\"2018\",\"2018\",\"2018\",\"2018\",\"2018\",\"2018\",\"2018\",\"2018\",\"2018\",\"2018\",\"2018\",\"2018\",\"2018\",\"2018\",\"2018\",\"2018\",\"2018\",\"2018\",\"2018\",\"2018\",\"2018\",\"2018\",\"2018\",\"2018\",\"2018\",\"2018\",\"2018\",\"2018\",\"2018\",\"2018\",\"2018\",\"2018\",\"2018\",\"2018\",\"2018\",\"2018\",\"2018\",\"2018\",\"2018\",\"2018\",\"2018\",\"2018\",\"2018\",\"2018\",\"2018\",\"2018\",\"2018\",\"2018\",\"2018\",\"2018\",\"2018\",\"2018\",\"2018\",\"2018\",\"2018\",\"2018\",\"2018\",\"2018\",\"2018\",\"2018\",\"2018\",\"2018\",\"2018\",\"2018\",\"2018\",\"2018\",\"2018\",\"2018\",\"2018\",\"2018\",\"2018\",\"2018\",\"2018\",\"2018\",\"2018\",\"2018\",\"2018\",\"2018\",\"2018\",\"2018\",\"2018\",\"2018\",\"2018\",\"2018\",\"2018\",\"2018\",\"2018\",\"2018\",\"2018\",\"2018\",\"2018\",\"2018\",\"2018\",\"2018\",\"2018\",\"2018\",\"2018\",\"2018\",\"2018\",\"2018\",\"2018\",\"2018\",\"2018\",\"2018\",\"2018\",\"2018\",\"2018\",\"2018\",\"2018\",\"2018\",\"2018\",\"2018\",\"2018\",\"2018\",\"2018\",\"2018\",\"2018\",\"2018\",\"2018\",\"2018\",\"2018\",\"2018\",\"2018\",\"2018\",\"2018\",\"2018\",\"2018\",\"2018\",\"2018\",\"2018\",\"2018\",\"2018\",\"2018\",\"2018\",\"2018\",\"2018\",\"2018\",\"2018\",\"2018\",\"2018\",\"2018\",\"2018\",\"2018\",\"2018\",\"2018\",\"2018\",\"2018\",\"2018\",\"2018\",\"2018\",\"2018\",\"2018\",\"2018\",\"2018\",\"2018\",\"2018\",\"2018\",\"2018\",\"2018\",\"2018\",\"2018\",\"2018\",\"2018\",\"2018\",\"2018\",\"2018\",\"2018\",\"2018\",\"2018\",\"2018\",\"2018\",\"2018\",\"2018\",\"2018\",\"2018\",\"2018\",\"2018\",\"2018\",\"2018\",\"2018\",\"2018\",\"2018\",\"2018\",\"2018\",\"2018\",\"2018\",\"2018\",\"2018\",\"2018\",\"2018\",\"2018\",\"2018\",\"2018\",\"2018\",\"2018\",\"2018\",\"2018\",\"2018\",\"2018\",\"2018\",\"2018\",\"2018\",\"2018\",\"2018\",\"2018\",\"2018\",\"2018\",\"2018\",\"2018\",\"2018\",\"2018\",\"2018\",\"2018\",\"2018\",\"2018\",\"2018\",\"2018\",\"2018\",\"2018\",\"2018\",\"2018\",\"2018\",\"2018\",\"2018\",\"2018\",\"2018\",\"2018\",\"2018\",\"2018\",\"2018\",\"2018\",\"2018\",\"2018\",\"2018\",\"2018\",\"2018\",\"2018\",\"2018\",\"2018\",\"2018\",\"2018\",\"2018\",\"2018\",\"2018\",\"2018\",\"2018\",\"2018\",\"2018\",\"2018\",\"2018\",\"2018\",\"2018\",\"2018\",\"2018\",\"2018\",\"2018\",\"2018\",\"2018\",\"2018\",\"2018\",\"2018\",\"2018\",\"2018\",\"2018\",\"2018\",\"2018\",\"2018\",\"2018\",\"2018\",\"2018\",\"2018\",\"2018\",\"2018\",\"2018\",\"2018\",\"2018\",\"2018\",\"2018\",\"2018\",\"2018\",\"2018\",\"2018\",\"2018\",\"2018\",\"2018\",\"2018\",\"2018\",\"2018\",\"2018\",\"2018\",\"2018\",\"2018\",\"2018\",\"2018\",\"2018\",\"2018\",\"2018\",\"2018\",\"2018\",\"2018\",\"2018\",\"2018\",\"2018\",\"2018\",\"2018\",\"2018\",\"2018\",\"2018\",\"2018\",\"2018\",\"2018\",\"2018\",\"2018\",\"2018\",\"2018\",\"2018\",\"2018\",\"2018\",\"2018\",\"2018\",\"2018\",\"2018\",\"2018\",\"2018\",\"2018\",\"2018\",\"2018\",\"2018\",\"2018\",\"2018\",\"2018\",\"2018\",\"2018\",\"2018\",\"2018\",\"2018\",\"2018\",\"2018\",\"2018\",\"2018\",\"2018\",\"2018\",\"2018\",\"2018\",\"2018\",\"2018\",\"2018\",\"2018\",\"2018\",\"2018\",\"2018\",\"2018\",\"2018\",\"2018\",\"2018\",\"2018\",\"2018\",\"2018\",\"2018\",\"2018\",\"2018\",\"2018\",\"2018\",\"2018\",\"2018\",\"2018\",\"2018\",\"2018\",\"2018\",\"2018\",\"2018\",\"2018\",\"2018\",\"2018\",\"2018\",\"2018\",\"2018\",\"2018\",\"2018\",\"2018\",\"2018\",\"2018\",\"2018\",\"2018\",\"2018\",\"2018\",\"2018\",\"2018\",\"2018\",\"2018\",\"2018\",\"2018\",\"2018\",\"2018\",\"2018\",\"2018\",\"2018\",\"2018\",\"2018\",\"2018\",\"2018\",\"2018\",\"2018\",\"2018\",\"2018\",\"2018\",\"2018\",\"2018\",\"2018\",\"2018\",\"2018\",\"2018\",\"2018\",\"2018\",\"2018\",\"2018\",\"2018\",\"2018\",\"2018\",\"2018\",\"2018\",\"2018\",\"2018\",\"2018\",\"2018\",\"2018\",\"2018\",\"2018\",\"2018\",\"2018\",\"2018\",\"2018\",\"2018\",\"2018\",\"2018\",\"2018\",\"2018\",\"2018\",\"2018\",\"2018\",\"2018\",\"2018\",\"2018\",\"2018\",\"2018\",\"2018\",\"2018\",\"2018\",\"2018\",\"2018\",\"2018\",\"2018\",\"2018\",\"2018\",\"2018\",\"2018\",\"2018\",\"2018\",\"2018\",\"2018\",\"2018\",\"2018\",\"2018\",\"2018\",\"2018\",\"2018\",\"2018\",\"2018\",\"2018\",\"2018\",\"2018\",\"2018\",\"2018\",\"2018\",\"2018\",\"2018\",\"2018\",\"2018\",\"2018\",\"2018\",\"2018\",\"2018\",\"2018\",\"2018\",\"2018\",\"2018\",\"2018\",\"2018\",\"2018\",\"2018\",\"2018\",\"2018\",\"2018\",\"2018\",\"2018\",\"2018\",\"2018\",\"2018\",\"2018\",\"2018\",\"2018\",\"2018\",\"2018\",\"2018\",\"2018\",\"2018\",\"2018\",\"2018\",\"2018\",\"2018\",\"2018\",\"2018\",\"2018\",\"2018\",\"2018\",\"2018\",\"2018\",\"2018\",\"2018\",\"2018\",\"2018\",\"2018\",\"2018\",\"2018\",\"2018\",\"2018\",\"2018\",\"2018\",\"2018\",\"2018\",\"2018\",\"2018\",\"2018\",\"2018\",\"2018\",\"2018\",\"2018\",\"2018\",\"2018\",\"2018\",\"2018\",\"2018\",\"2018\",\"2018\",\"2018\",\"2018\",\"2018\",\"2018\",\"2018\",\"2018\",\"2018\",\"2018\",\"2018\",\"2018\",\"2018\",\"2018\",\"2018\",\"2018\",\"2018\",\"2018\",\"2018\",\"2018\",\"2018\",\"2018\",\"2018\",\"2018\",\"2018\",\"2018\",\"2018\",\"2018\",\"2018\",\"2018\",\"2018\",\"2018\",\"2018\",\"2018\",\"2018\",\"2018\",\"2018\",\"2018\",\"2018\",\"2018\",\"2018\",\"2018\",\"2018\",\"2018\",\"2018\",\"2018\",\"2018\",\"2018\",\"2018\",\"2018\",\"2018\",\"2018\",\"2018\",\"2018\",\"2018\",\"2018\",\"2018\",\"2018\",\"2018\",\"2018\",\"2018\",\"2018\",\"2018\",\"2018\",\"2018\",\"2018\",\"2018\",\"2018\",\"2018\",\"2018\",\"2018\",\"2018\",\"2018\",\"2018\",\"2018\",\"2018\",\"2018\",\"2018\",\"2018\",\"2018\",\"2018\",\"2018\",\"2018\",\"2018\",\"2018\",\"2018\",\"2018\",\"2018\",\"2018\",\"2018\",\"2018\",\"2018\",\"2018\",\"2018\",\"2018\",\"2018\",\"2018\",\"2018\",\"2018\",\"2018\",\"2018\",\"2018\",\"2018\",\"2018\",\"2018\",\"2018\",\"2018\",\"2018\",\"2018\",\"2018\",\"2018\",\"2018\",\"2018\",\"2018\",\"2018\",\"2018\",\"2018\",\"2018\",\"2018\",\"2018\",\"2018\",\"2018\",\"2018\",\"2018\",\"2018\",\"2018\",\"2018\",\"2018\",\"2018\",\"2018\",\"2018\",\"2018\",\"2018\",\"2018\",\"2018\",\"2018\",\"2018\",\"2018\",\"2018\",\"2018\",\"2018\",\"2018\",\"2018\",\"2018\",\"2018\",\"2018\",\"2018\",\"2018\",\"2018\",\"2018\",\"2018\",\"2018\",\"2018\",\"2018\",\"2018\",\"2018\",\"2018\",\"2018\",\"2018\",\"2018\",\"2018\",\"2018\",\"2018\",\"2018\",\"2018\",\"2018\",\"2018\",\"2018\",\"2018\",\"2018\",\"2018\",\"2018\",\"2018\",\"2018\",\"2018\",\"2018\",\"2018\",\"2018\",\"2018\",\"2018\",\"2018\",\"2018\",\"2018\",\"2018\",\"2018\",\"2018\",\"2018\",\"2018\",\"2018\",\"2018\",\"2018\",\"2018\",\"2017\",\"2017\",\"2017\",\"2017\",\"2017\",\"2017\",\"2017\",\"2017\",\"2017\",\"2017\",\"2017\",\"2017\",\"2017\",\"2017\",\"2017\",\"2017\",\"2017\",\"2017\",\"2017\",\"2017\",\"2017\",\"2017\",\"2017\",\"2017\",\"2017\",\"2017\",\"2017\",\"2017\",\"2017\",\"2017\",\"2017\",\"2017\",\"2017\",\"2017\",\"2017\",\"2017\",\"2017\",\"2017\",\"2017\",\"2017\",\"2017\",\"2017\",\"2017\",\"2017\",\"2017\",\"2017\",\"2017\",\"2017\",\"2017\",\"2017\",\"2017\",\"2017\",\"2017\",\"2017\",\"2017\",\"2017\",\"2017\",\"2017\",\"2017\",\"2017\",\"2017\",\"2017\",\"2017\",\"2017\",\"2017\",\"2017\",\"2017\",\"2017\",\"2017\",\"2017\",\"2017\",\"2017\",\"2017\",\"2017\",\"2017\",\"2017\",\"2017\",\"2017\",\"2017\",\"2017\",\"2017\",\"2017\",\"2017\",\"2017\",\"2017\",\"2017\",\"2017\",\"2017\",\"2017\",\"2017\",\"2017\",\"2017\",\"2017\",\"2017\",\"2017\",\"2017\",\"2017\",\"2017\",\"2017\",\"2017\",\"2017\",\"2017\",\"2017\",\"2017\",\"2017\",\"2017\",\"2017\",\"2017\",\"2017\",\"2017\",\"2017\",\"2017\",\"2017\",\"2017\",\"2017\",\"2017\",\"2017\",\"2017\",\"2017\",\"2017\",\"2017\",\"2017\",\"2017\",\"2017\",\"2017\",\"2017\",\"2017\",\"2017\",\"2017\",\"2017\",\"2017\",\"2017\",\"2017\",\"2017\",\"2017\",\"2017\",\"2017\",\"2017\",\"2017\",\"2017\",\"2017\",\"2017\",\"2017\",\"2017\",\"2017\",\"2017\",\"2017\",\"2017\",\"2017\",\"2017\",\"2017\",\"2017\",\"2017\",\"2017\",\"2017\",\"2017\",\"2017\",\"2017\",\"2017\",\"2017\",\"2017\",\"2017\",\"2017\",\"2017\",\"2017\",\"2017\",\"2017\",\"2017\",\"2017\",\"2017\",\"2017\",\"2017\",\"2017\",\"2017\",\"2017\",\"2017\",\"2017\",\"2017\",\"2017\",\"2017\",\"2017\",\"2017\",\"2017\",\"2017\",\"2017\",\"2017\",\"2017\",\"2017\",\"2017\",\"2017\",\"2017\",\"2017\",\"2017\",\"2017\",\"2017\",\"2017\",\"2017\",\"2017\",\"2017\",\"2017\",\"2017\",\"2017\",\"2017\",\"2017\",\"2017\",\"2017\",\"2017\",\"2017\",\"2017\",\"2017\",\"2017\",\"2017\",\"2017\",\"2017\",\"2017\",\"2017\",\"2017\",\"2017\",\"2017\",\"2017\",\"2017\",\"2017\",\"2017\",\"2017\",\"2017\",\"2017\",\"2017\",\"2017\",\"2017\",\"2017\",\"2017\",\"2017\",\"2017\",\"2017\",\"2017\",\"2017\",\"2017\",\"2017\",\"2017\",\"2017\",\"2017\",\"2017\",\"2017\",\"2017\",\"2017\",\"2017\",\"2017\",\"2017\",\"2017\",\"2017\",\"2017\",\"2017\",\"2017\",\"2017\",\"2017\",\"2017\",\"2017\",\"2017\",\"2017\",\"2017\",\"2017\",\"2017\",\"2017\",\"2017\",\"2017\",\"2017\",\"2017\",\"2017\",\"2017\",\"2017\",\"2017\",\"2017\",\"2017\",\"2017\",\"2017\",\"2017\",\"2017\",\"2017\",\"2017\",\"2017\",\"2017\",\"2017\",\"2017\",\"2017\",\"2017\",\"2017\",\"2017\",\"2017\",\"2017\",\"2017\",\"2017\",\"2017\",\"2017\",\"2017\",\"2017\",\"2017\",\"2017\",\"2017\",\"2017\",\"2017\",\"2017\",\"2017\",\"2017\",\"2017\",\"2017\",\"2017\",\"2017\",\"2017\",\"2017\",\"2017\",\"2017\",\"2017\",\"2017\",\"2017\",\"2017\",\"2017\",\"2017\",\"2017\",\"2017\",\"2017\",\"2017\",\"2017\",\"2017\",\"2017\",\"2017\",\"2017\",\"2017\",\"2017\",\"2017\",\"2017\",\"2017\",\"2017\",\"2017\",\"2017\",\"2017\",\"2017\",\"2017\",\"2017\",\"2017\",\"2017\",\"2017\",\"2017\",\"2017\",\"2017\",\"2017\",\"2017\",\"2017\",\"2017\",\"2017\",\"2017\",\"2017\",\"2017\",\"2017\",\"2017\",\"2017\",\"2017\",\"2017\",\"2017\",\"2017\",\"2017\",\"2017\",\"2017\",\"2017\",\"2017\",\"2017\",\"2017\",\"2017\",\"2017\",\"2017\",\"2017\",\"2017\",\"2017\",\"2017\",\"2017\",\"2017\",\"2017\",\"2017\",\"2017\",\"2017\",\"2017\",\"2017\",\"2017\",\"2017\",\"2017\",\"2017\",\"2017\",\"2017\",\"2017\",\"2017\",\"2017\",\"2017\",\"2017\",\"2017\",\"2017\",\"2017\",\"2017\",\"2017\",\"2017\",\"2017\",\"2017\",\"2017\",\"2017\",\"2017\",\"2017\",\"2017\",\"2017\",\"2017\",\"2017\",\"2017\",\"2017\",\"2017\",\"2017\",\"2017\",\"2017\",\"2017\",\"2017\",\"2017\",\"2017\",\"2017\",\"2017\",\"2017\",\"2017\",\"2017\",\"2017\",\"2017\",\"2017\",\"2017\",\"2017\",\"2017\",\"2017\",\"2017\",\"2017\",\"2017\",\"2017\",\"2017\",\"2017\",\"2017\",\"2017\",\"2017\",\"2017\",\"2017\",\"2017\",\"2017\",\"2017\",\"2017\",\"2017\",\"2017\",\"2017\",\"2017\",\"2017\",\"2017\",\"2017\",\"2017\",\"2017\",\"2017\",\"2017\",\"2017\",\"2017\",\"2017\",\"2017\",\"2017\",\"2017\",\"2017\",\"2017\",\"2017\",\"2017\",\"2017\",\"2017\",\"2017\",\"2017\",\"2017\",\"2017\",\"2017\",\"2017\",\"2017\",\"2017\",\"2017\",\"2017\",\"2017\",\"2017\",\"2017\",\"2017\",\"2017\",\"2017\",\"2017\",\"2017\",\"2017\",\"2017\",\"2017\",\"2017\",\"2017\",\"2017\",\"2017\",\"2017\",\"2017\",\"2017\",\"2017\",\"2017\",\"2017\",\"2017\",\"2017\",\"2017\",\"2017\",\"2017\",\"2017\",\"2017\",\"2017\",\"2017\",\"2017\",\"2017\",\"2017\",\"2017\",\"2017\",\"2017\",\"2017\",\"2017\",\"2017\",\"2017\",\"2017\",\"2017\",\"2017\",\"2017\",\"2017\",\"2017\",\"2017\",\"2017\",\"2017\",\"2017\",\"2017\",\"2017\",\"2017\",\"2017\",\"2017\",\"2017\",\"2017\",\"2017\",\"2017\",\"2017\",\"2017\",\"2017\",\"2017\",\"2017\",\"2017\",\"2017\",\"2017\",\"2017\",\"2017\",\"2017\",\"2017\",\"2017\",\"2017\",\"2016\",\"2016\",\"2016\",\"2016\",\"2016\",\"2016\",\"2016\",\"2016\",\"2016\",\"2016\",\"2016\",\"2016\",\"2016\",\"2016\",\"2016\",\"2016\",\"2016\",\"2016\",\"2016\",\"2016\",\"2016\",\"2016\",\"2016\",\"2016\",\"2016\",\"2016\",\"2016\",\"2016\",\"2016\",\"2016\",\"2016\",\"2016\",\"2016\",\"2016\",\"2016\",\"2016\",\"2016\",\"2016\",\"2016\",\"2016\",\"2016\",\"2016\",\"2016\",\"2016\",\"2016\",\"2016\",\"2016\",\"2016\",\"2016\",\"2016\",\"2016\",\"2016\",\"2016\",\"2016\",\"2016\",\"2016\",\"2016\",\"2016\",\"2016\",\"2016\",\"2016\",\"2016\",\"2016\",\"2016\",\"2016\",\"2016\",\"2016\",\"2016\",\"2016\",\"2016\",\"2016\",\"2016\",\"2016\",\"2016\",\"2016\",\"2016\",\"2016\",\"2016\",\"2016\",\"2016\",\"2016\",\"2016\",\"2016\",\"2016\",\"2016\",\"2016\",\"2016\",\"2016\",\"2016\",\"2016\",\"2016\",\"2016\",\"2016\",\"2016\",\"2016\",\"2016\",\"2016\",\"2016\",\"2016\",\"2016\",\"2016\",\"2016\",\"2016\",\"2016\",\"2016\",\"2016\",\"2016\",\"2016\",\"2016\",\"2016\",\"2016\",\"2016\",\"2016\",\"2016\",\"2016\",\"2016\",\"2016\",\"2016\",\"2016\",\"2016\",\"2016\",\"2016\",\"2016\",\"2016\",\"2016\",\"2016\",\"2016\",\"2016\",\"2016\",\"2016\",\"2016\",\"2016\",\"2016\",\"2016\",\"2016\",\"2016\",\"2016\",\"2016\",\"2016\",\"2016\",\"2016\",\"2016\",\"2016\",\"2016\",\"2016\",\"2016\",\"2016\",\"2016\",\"2016\",\"2016\",\"2016\",\"2016\",\"2016\",\"2016\",\"2016\",\"2016\",\"2016\",\"2016\",\"2016\",\"2016\",\"2016\",\"2016\",\"2016\",\"2016\",\"2016\",\"2016\",\"2016\",\"2016\",\"2016\",\"2016\",\"2016\",\"2016\",\"2016\",\"2016\",\"2016\",\"2016\",\"2016\",\"2016\",\"2016\",\"2016\",\"2016\",\"2016\",\"2016\",\"2016\",\"2016\",\"2016\",\"2016\",\"2016\",\"2016\",\"2016\",\"2016\",\"2016\",\"2016\",\"2016\",\"2016\",\"2016\",\"2016\",\"2016\",\"2016\",\"2016\",\"2016\",\"2016\",\"2016\",\"2016\",\"2016\",\"2016\",\"2016\",\"2016\",\"2016\",\"2016\",\"2016\",\"2016\",\"2016\",\"2016\",\"2016\",\"2016\",\"2016\",\"2016\",\"2016\",\"2016\",\"2016\",\"2016\",\"2015\",\"2015\",\"2015\",\"2015\",\"2015\",\"2015\",\"2015\",\"2015\",\"2015\",\"2015\",\"2015\",\"2015\",\"2015\",\"2015\",\"2015\",\"2015\",\"2015\",\"2015\",\"2015\",\"2015\",\"2015\",\"2015\",\"2015\",\"2015\",\"2015\",\"2015\",\"2015\",\"2015\",\"2015\",\"2015\",\"2015\",\"2015\",\"2015\",\"2015\",\"2015\",\"2015\",\"2015\",\"2015\",\"2015\",\"2015\",\"2015\",\"2015\",\"2015\",\"2015\",\"2014\",\"2014\",\"2014\",\"2014\",\"2014\",\"2014\",\"2014\",\"2014\",\"2014\",\"2014\",\"2014\",\"2014\",\"2014\",\"2014\",\"2014\",\"2014\",\"2013\",\"2013\",\"2013\",\"2013\",\"2013\",\"2012\",\"2011\",\"2011\",\"2011\",\"2011\",\"2011\",\"2011\",\"2011\",\"2011\",\"2011\",\"2011\",\"2011\",\"2011\",\"2011\",\"2009\",\"2009\",\"2008\",\"2017\",\"2020\",\"2019\",\"2019\",\"2017\",\"2019\",\"2019\",\"2018\",\"2019\",\"2018\",\"2018\",\"2018\",\"2018\",\"2016\",\"2020\",\"2019\",\"2019\",\"2018\",\"2017\",\"2018\",\"2017\",\"2017\",\"2017\",\"2019\",\"2018\",\"2018\",\"2019\",\"2019\",\"2017\",\"2016\",\"2019\",\"2019\",\"2018\",\"2019\",\"2021\",\"2020\",\"2019\",\"2018\",\"2017\",\"2018\",\"2019\",\"2019\",\"2018\",\"2018\",\"2018\",\"2018\",\"2018\",\"2020\",\"2019\",\"2017\",\"2019\",\"2019\",\"2019\",\"2021\",\"2019\",\"2018\",\"2016\",\"2019\",\"2017\",\"2020\",\"2019\",\"2018\",\"2018\",\"2017\",\"2019\",\"2019\",\"2019\",\"2017\",\"2020\",\"2018\",\"2018\",\"2020\",\"2020\",\"2018\",\"2016\",\"2019\",\"2017\",\"2018\",\"2017\",\"2017\",\"2020\",\"2019\",\"2019\",\"2017\",\"2018\",\"2019\",\"2019\",\"2018\",\"2017\",\"2018\",\"2019\",\"2016\",\"2017\",\"2019\",\"2020\",\"2013\",\"2017\",\"2019\",\"2018\",\"2017\",\"2019\",\"2020\",\"2020\",\"2020\",\"2018\",\"2018\",\"2018\",\"2017\",\"2020\",\"2019\",\"2018\",\"2018\",\"2018\",\"2019\",\"2017\",\"2018\",\"2017\",\"2019\",\"2018\",\"2017\",\"2016\",\"2019\",\"2016\",\"2017\",\"2019\",\"2019\",\"2020\",\"2018\",\"2020\",\"2018\",\"2020\",\"2019\",\"2019\",\"2018\",\"2016\",\"2019\",\"2018\",\"2020\",\"2018\",\"2019\",\"2019\",\"2017\",\"2017\",\"2019\",\"2018\",\"2019\",\"2017\",\"2018\",\"2019\",\"2017\",\"2018\",\"2019\",\"2018\",\"2018\",\"2017\",\"2019\",\"2020\",\"2019\",\"2017\",\"2019\",\"2018\",\"2019\",\"2019\",\"2019\",\"2019\",\"2020\",\"2020\",\"2018\",\"2020\",\"2017\",\"2019\",\"2019\",\"2019\",\"2017\",\"2020\",\"2020\",\"2018\",\"2017\",\"2017\",\"2019\",\"2019\",\"2019\",\"2019\",\"2019\",\"2019\",\"2019\",\"2016\",\"2019\",\"2019\",\"2018\",\"2017\",\"2018\",\"2018\",\"2018\",\"2018\",\"2019\",\"2017\",\"2019\",\"2019\",\"2017\",\"2019\",\"2019\",\"2018\",\"2020\",\"2019\",\"2017\",\"2018\",\"2018\",\"2017\",\"2017\",\"2017\",\"2019\",\"2019\",\"2019\",\"2019\",\"2019\",\"2018\",\"2019\",\"2016\",\"2019\",\"2017\",\"2017\",\"2019\",\"2018\",\"2019\",\"2020\",\"2018\",\"2020\",\"2019\",\"2018\",\"2016\",\"2018\",\"2018\",\"2017\",\"2016\",\"2018\",\"2019\",\"2017\",\"2017\",\"2018\",\"2018\",\"2019\",\"2018\",\"2018\",\"2019\",\"2018\",\"2017\",\"2017\",\"2019\",\"2018\",\"2019\",\"2019\",\"2018\",\"2018\",\"2017\",\"2017\",\"2018\",\"2020\",\"2017\",\"2018\",\"2018\",\"2018\",\"2018\",\"2017\",\"2019\",\"2016\",\"2018\",\"2018\",\"2018\",\"2018\",\"2018\",\"2019\",\"2017\",\"2017\",\"2017\",\"2017\",\"2017\",\"2017\",\"2017\",\"2017\",\"2017\",\"2017\",\"2017\",\"2018\",\"2018\",\"2018\",\"2018\",\"2020\",\"2017\",\"2018\",\"2019\",\"2015\",\"2016\",\"2019\",\"2019\",\"2017\",\"2019\",\"2018\",\"2017\",\"2018\",\"2017\",\"2019\",\"2017\",\"2016\",\"2019\",\"2019\",\"2019\",\"2018\",\"2019\",\"2019\",\"2019\",\"2018\",\"2017\",\"2018\",\"2018\",\"2017\",\"2017\",\"2016\",\"2017\",\"2017\",\"2018\",\"2019\",\"2018\",\"2018\",\"2017\",\"2019\",\"2019\",\"2017\",\"2019\",\"2019\",\"2017\",\"2017\",\"2018\",\"2018\",\"2017\",\"2019\",\"2019\",\"2017\",\"2019\",\"2017\",\"2016\",\"2018\",\"2020\",\"2019\",\"2020\",\"2019\",\"2018\",\"2017\",\"2019\",\"2017\",\"2019\",\"2019\",\"2018\",\"2018\",\"2018\",\"2018\",\"2017\",\"2016\",\"2019\",\"2020\",\"2019\",\"2019\",\"2018\",\"2016\",\"2018\",\"2017\",\"2019\",\"2017\",\"2020\",\"2017\",\"2020\",\"2020\",\"2017\",\"2018\",\"2018\",\"2020\",\"2019\",\"2016\",\"2019\",\"2016\",\"2018\",\"2019\",\"2021\",\"2018\",\"2017\",\"2019\",\"2016\",\"2015\",\"2018\",\"2019\",\"2018\",\"2017\",\"2017\",\"2018\",\"2018\",\"2016\",\"2019\",\"2021\",\"2018\",\"2019\",\"2017\",\"2017\",\"2017\",\"2019\",\"2020\",\"2017\",\"2019\",\"2019\",\"2019\",\"2020\",\"2018\",\"2017\",\"2020\",\"2017\",\"2018\",\"2018\",\"2017\",\"2019\",\"2018\",\"2018\",\"2016\",\"2017\",\"2017\",\"2017\",\"2018\",\"2019\",\"2018\",\"2019\",\"2018\",\"2019\",\"2017\",\"2019\",\"2019\",\"2017\",\"2019\",\"2017\",\"2019\",\"2018\",\"2018\",\"2017\",\"2019\",\"2019\",\"2017\",\"2018\",\"2018\",\"2018\",\"2016\",\"2017\",\"2017\",\"2018\",\"2019\",\"2017\",\"2017\",\"2021\",\"2019\",\"2016\",\"2020\",\"2018\",\"2018\",\"2019\",\"2019\",\"2020\",\"2019\",\"2019\",\"2012\",\"2019\",\"2020\",\"2018\",\"2018\",\"2018\",\"2019\",\"2016\",\"2019\",\"2019\",\"2017\",\"2017\",\"2020\",\"2018\",\"2018\",\"2019\",\"2018\",\"2017\",\"2020\",\"2019\",\"2018\",\"2020\",\"2019\",\"2019\",\"2017\",\"2020\",\"2017\",\"2018\",\"2017\",\"2017\",\"2017\",\"2017\",\"2017\",\"2018\",\"2016\",\"2017\",\"2019\",\"2019\",\"2019\",\"2019\",\"2018\",\"2016\",\"2019\",\"2019\",\"2016\",\"2018\",\"2017\",\"2018\",\"2020\",\"2020\",\"2017\",\"2019\",\"2018\",\"2019\",\"2019\",\"2019\",\"2019\",\"2018\",\"2017\",\"2019\",\"2019\",\"2018\",\"2017\",\"2020\",\"2017\",\"2018\",\"2019\",\"2019\",\"2018\",\"2018\",\"2017\",\"2019\",\"2020\",\"2017\",\"2019\",\"2017\",\"2017\",\"2017\",\"2020\",\"2019\",\"2018\",\"2019\",\"2018\",\"2018\",\"2018\",\"2020\",\"2019\",\"2017\",\"2019\",\"2020\",\"2017\",\"2018\",\"2018\",\"2019\",\"2016\",\"2018\",\"2017\",\"2018\",\"2018\",\"2018\",\"2017\",\"2018\",\"2018\",\"2018\",\"2019\",\"2019\",\"2019\",\"2018\",\"2021\",\"2017\",\"2017\",\"2017\",\"2018\",\"2019\",\"2016\",\"2019\",\"2019\",\"2019\",\"2019\",\"2017\",\"2018\",\"2018\",\"2019\",\"2018\",\"2018\",\"2019\",\"2019\",\"2016\",\"2018\",\"2018\",\"2018\",\"2017\",\"2018\",\"2017\",\"2018\",\"2019\",\"2017\",\"2019\",\"2018\",\"2017\",\"2019\",\"2018\",\"2019\",\"2018\",\"2017\",\"2017\",\"2018\",\"2018\",\"2018\",\"2019\",\"2018\",\"2019\",\"2019\",\"2019\",\"2020\",\"2019\",\"2016\",\"2019\",\"2020\",\"2019\",\"2018\",\"2018\",\"2017\",\"2020\",\"2017\",\"2018\",\"2016\",\"2020\",\"2017\",\"2020\",\"2018\",\"2019\",\"2017\",\"2019\",\"2017\",\"2020\",\"2018\",\"2018\",\"2018\",\"2019\",\"2019\",\"2017\",\"2017\",\"2016\",\"2019\",\"2018\",\"2008\",\"2020\",\"2017\",\"2018\",\"2017\",\"2018\",\"2019\",\"2019\",\"2019\",\"2016\",\"2019\",\"2019\",\"2019\",\"2018\",\"2020\",\"2019\",\"2020\",\"2020\",\"2020\",\"2019\",\"2017\",\"2017\",\"2020\",\"2020\",\"2019\",\"2018\",\"2019\",\"2018\",\"2019\",\"2019\",\"2020\",\"2020\",\"2020\",\"2017\",\"2019\",\"2016\",\"2018\",\"2017\",\"2018\",\"2019\",\"2019\",\"2017\",\"2016\",\"2018\",\"2019\",\"2019\",\"2019\",\"2020\",\"2017\",\"2018\",\"2020\",\"2020\",\"2016\",\"2019\",\"2018\",\"2018\",\"2017\",\"2018\",\"2019\",\"2018\",\"2017\",\"2018\",\"2018\",\"2017\",\"2017\",\"2017\",\"2017\",\"2018\",\"2017\",\"2018\",\"2017\",\"2020\",\"2017\",\"2018\",\"2017\",\"2016\",\"2018\",\"2018\",\"2018\",\"2018\",\"2018\",\"2020\",\"2018\",\"2019\",\"2019\",\"2019\",\"2018\",\"2018\",\"2017\",\"2018\",\"2021\",\"2018\",\"2019\",\"2019\",\"2018\",\"2017\",\"2018\",\"2019\",\"2019\",\"2019\",\"2020\",\"2020\",\"2019\",\"2017\",\"2019\",\"2018\",\"2017\",\"2017\",\"2019\",\"2016\",\"2019\",\"2019\",\"2019\",\"2017\",\"2017\",\"2017\",\"2017\",\"2016\",\"2018\",\"2018\",\"2017\",\"2019\",\"2018\",\"2020\",\"2019\",\"2019\",\"2016\",\"2019\",\"2018\",\"2019\",\"2018\",\"2018\",\"2019\",\"2017\",\"2017\",\"2020\",\"2015\",\"2016\",\"2016\",\"2017\",\"2018\",\"2018\",\"2020\",\"2020\",\"2020\",\"2017\",\"2019\",\"2019\",\"2019\",\"2017\",\"2018\",\"2018\",\"2018\",\"2020\",\"2019\",\"2018\",\"2017\",\"2019\",\"2018\",\"2019\",\"2018\",\"2018\",\"2017\",\"2017\",\"2017\",\"2020\",\"2016\",\"2019\",\"2019\",\"2019\",\"2018\",\"2018\",\"2017\",\"2019\",\"2017\",\"2018\",\"2017\",\"2017\",\"2019\",\"2021\",\"2016\",\"2019\",\"2019\",\"2017\",\"2020\",\"2021\",\"2020\",\"2017\",\"2019\",\"2016\",\"2020\",\"2018\",\"2020\",\"2018\",\"2019\",\"2020\",\"2018\",\"2016\",\"2016\",\"2016\",\"2019\",\"2016\",\"2018\",\"2019\",\"2019\",\"2019\",\"2018\",\"2018\",\"2017\",\"2016\",\"2018\",\"2016\",\"2017\",\"2019\",\"2018\",\"2018\",\"2018\",\"2017\",\"2018\",\"2018\",\"2017\",\"2017\",\"2016\",\"2016\",\"2017\",\"2020\",\"2014\",\"2018\",\"2019\",\"2019\",\"2019\",\"2017\",\"2019\",\"2020\",\"2019\",\"2019\",\"2019\",\"2019\",\"2018\",\"2019\",\"2018\",\"2019\",\"2017\",\"2017\",\"2019\",\"2018\",\"2017\",\"2020\",\"2018\",\"2018\",\"2019\",\"2017\",\"2019\",\"2020\",\"2018\",\"2018\",\"2019\",\"2017\",\"2019\",\"2017\",\"2017\",\"2017\",\"2020\",\"2019\",\"2019\",\"2017\",\"2021\",\"2018\",\"2017\",\"2019\",\"2019\",\"2013\",\"2021\",\"2017\",\"2020\",\"2019\",\"2017\",\"2018\",\"2019\",\"2019\",\"2018\",\"2017\",\"2018\",\"2018\",\"2018\",\"2017\",\"2017\",\"2019\",\"2018\",\"2017\",\"2017\",\"2018\",\"2018\",\"2018\",\"2020\",\"2017\",\"2016\",\"2018\",\"2019\",\"2019\",\"2020\",\"2018\",\"2020\",\"2018\",\"2017\",\"2018\",\"2017\",\"2016\",\"2016\",\"2017\",\"2020\",\"2019\",\"2019\",\"2020\",\"2018\",\"2019\",\"2018\",\"2017\",\"2017\",\"2017\",\"2015\",\"2018\",\"2017\",\"2018\",\"2019\",\"2019\",\"2015\",\"2017\",\"2020\",\"2018\",\"2019\",\"2019\",\"2018\",\"2019\",\"2019\",\"2018\",\"2018\",\"2019\",\"2018\",\"2018\",\"2016\",\"2019\",\"2018\",\"2018\",\"2019\",\"2019\",\"2017\",\"2018\",\"2019\",\"2020\",\"2017\",\"2018\",\"2017\",\"2017\",\"2019\",\"2016\",\"2017\",\"2017\",\"2017\",\"2017\",\"2018\",\"2019\",\"2020\",\"2016\",\"2017\",\"2017\",\"2017\",\"2017\",\"2016\",\"2016\",\"2016\",\"2018\",\"2018\",\"2018\",\"2019\",\"2019\",\"2018\",\"2018\",\"2018\",\"2018\",\"2019\",\"2018\",\"2019\",\"2019\",\"2019\",\"2017\",\"2018\",\"2018\",\"2016\",\"2017\",\"2019\",\"2017\",\"2019\",\"2019\",\"2020\",\"2018\",\"2017\",\"2018\",\"2017\",\"2019\",\"2019\",\"2016\",\"2018\",\"2018\",\"2016\",\"2018\",\"2020\",\"2018\",\"2017\",\"2016\",\"2018\",\"2020\",\"2019\",\"2019\",\"2018\",\"2017\",\"2018\",\"2019\",\"2018\",\"2017\",\"2019\",\"2017\",\"2017\",\"2019\",\"2017\",\"2017\",\"2017\",\"2018\",\"2019\",\"2019\",\"2019\",\"2018\",\"2019\",\"2019\",\"2017\",\"2019\",\"2017\",\"2018\",\"2018\",\"2018\",\"2019\",\"2013\",\"2019\",\"2019\",\"2017\",\"2018\",\"2018\",\"2017\",\"2018\",\"2017\",\"2018\",\"2017\",\"2019\",\"2017\",\"2017\",\"2019\",\"2019\",\"2019\",\"2019\",\"2017\",\"2018\",\"2018\",\"2019\",\"2019\",\"2018\",\"2018\",\"2019\",\"2019\",\"2018\",\"2020\",\"2017\",\"2016\",\"2018\",\"2017\",\"2017\",\"2017\",\"2019\",\"2019\",\"2018\",\"2018\",\"2018\",\"2019\",\"2014\",\"2020\",\"2018\",\"2017\",\"2018\",\"2018\",\"2019\",\"2019\",\"2016\",\"2019\",\"2016\",\"2018\",\"2019\",\"2017\",\"2019\",\"2013\",\"2019\",\"2018\",\"2019\",\"2017\",\"2017\",\"2018\",\"2017\",\"2017\",\"2019\",\"2019\",\"2020\",\"2016\",\"2017\",\"2019\",\"2019\",\"2018\",\"2017\",\"2019\",\"2019\",\"2019\",\"2019\",\"2017\",\"2016\",\"2019\",\"2019\",\"2018\",\"2019\",\"2016\",\"2018\",\"2017\",\"2017\",\"2019\",\"2019\",\"2018\",\"2021\",\"2015\",\"2020\",\"2019\",\"2019\",\"2019\",\"2018\",\"2018\",\"2016\",\"2019\",\"2016\",\"2017\",\"2018\",\"2019\",\"2018\",\"2017\",\"2017\",\"2017\",\"2017\",\"2018\",\"2018\",\"2018\",\"2017\",\"2020\",\"2019\",\"2018\",\"2018\",\"2018\",\"2017\",\"2017\",\"2017\",\"2018\",\"2018\",\"2018\",\"2019\",\"2019\",\"2018\",\"2018\",\"2017\",\"2018\",\"2018\",\"2019\",\"2018\",\"2019\",\"2018\",\"2016\",\"2019\",\"2019\",\"2017\",\"2020\",\"2020\",\"2017\",\"2019\",\"2017\",\"2020\",\"2020\",\"2021\",\"2018\",\"2019\",\"2016\",\"2019\",\"2018\",\"2020\",\"2018\",\"2017\",\"2020\",\"2019\",\"2019\",\"2017\",\"2019\",\"2020\",\"2017\",\"2019\",\"2017\",\"2018\",\"2019\",\"2019\",\"2017\",\"2017\",\"2017\",\"2017\",\"2017\",\"2017\",\"2017\",\"2017\",\"2017\",\"2018\",\"2019\",\"2015\",\"2019\",\"2019\",\"2020\",\"2018\",\"2012\",\"2017\",\"2018\",\"2019\",\"2016\",\"2017\",\"2018\",\"2018\",\"2018\",\"2017\",\"2018\",\"2020\",\"2017\",\"2017\",\"2018\",\"2019\",\"2019\",\"2018\",\"2018\",\"2017\",\"2019\",\"2019\",\"2018\",\"2018\",\"2017\",\"2017\",\"2017\",\"2020\",\"2019\",\"2019\",\"2018\",\"2019\",\"2019\",\"2020\",\"2020\",\"2020\",\"2020\",\"2020\",\"2018\",\"2018\",\"2020\",\"2018\",\"2018\",\"2019\",\"2019\",\"2019\",\"2019\",\"2018\",\"2019\",\"2018\",\"2015\",\"2017\",\"2017\",\"2017\",\"2019\",\"2019\",\"2018\",\"2019\",\"2015\",\"2016\",\"2019\",\"2018\",\"2019\",\"2019\",\"2016\",\"2019\",\"2018\",\"2019\",\"2019\",\"2018\",\"2018\",\"2018\",\"2017\",\"2020\",\"2018\",\"2019\",\"2019\",\"2017\",\"2017\",\"2016\",\"2016\",\"2019\",\"2017\",\"2019\",\"2018\",\"2020\",\"2017\",\"2019\",\"2018\",\"2019\",\"2017\",\"2017\",\"2018\",\"2016\",\"2017\",\"2018\",\"2017\",\"2018\",\"2017\",\"2016\",\"2016\",\"2020\",\"2018\",\"2018\",\"2018\",\"2018\",\"2018\",\"2019\",\"2019\",\"2019\",\"2019\",\"2019\",\"2017\",\"2018\",\"2018\",\"2018\",\"2016\",\"2017\",\"2019\",\"2016\",\"2018\",\"2018\",\"2016\",\"2017\",\"2020\",\"2015\",\"2019\",\"2010\",\"2018\",\"2017\",\"2018\",\"2017\",\"2019\",\"2016\",\"2015\",\"2020\",\"2017\",\"2018\",\"2017\",\"2017\",\"2018\",\"2018\",\"2016\",\"2019\",\"2018\",\"2018\",\"2019\",\"2018\",\"2018\",\"2018\",\"2020\",\"2018\",\"2017\",\"2018\",\"2017\",\"2018\",\"2020\",\"2017\",\"2017\",\"2019\",\"2020\",\"2018\",\"2016\",\"2017\",\"2020\",\"2019\",\"2018\",\"2019\",\"2018\",\"2018\",\"2015\",\"2014\",\"2018\",\"2019\",\"2019\",\"2019\",\"2018\",\"2018\",\"2018\",\"2017\",\"2018\",\"2019\",\"2017\",\"2018\",\"2018\",\"2017\",\"2019\",\"2019\",\"2018\",\"2019\",\"2017\",\"2019\",\"2019\",\"2018\",\"2019\",\"2018\",\"2018\",\"2019\",\"2019\",\"2019\",\"2017\",\"2019\",\"2018\",\"2016\",\"2019\",\"2017\",\"2018\",\"2019\",\"2019\",\"2019\",\"2020\",\"2016\",\"2017\",\"2018\",\"2018\",\"2018\",\"2018\",\"2020\",\"2017\",\"2018\",\"2017\",\"2015\",\"2017\",\"2017\",\"2016\",\"2017\",\"2016\",\"2017\",\"2019\",\"2017\",\"2018\",\"2017\",\"2018\",\"2018\",\"2019\",\"2020\",\"2017\",\"2019\",\"2017\",\"2019\",\"2019\",\"2017\",\"2016\",\"2019\",\"2018\",\"2018\",\"2015\",\"2018\",\"2018\",\"2018\",\"2018\",\"2018\",\"2018\",\"2017\",\"2018\",\"2017\",\"2015\",\"2018\",\"2020\",\"2020\",\"2019\",\"2019\",\"2020\",\"2019\",\"2017\",\"2017\",\"2018\",\"2018\",\"2018\",\"2017\",\"2018\",\"2019\",\"2018\",\"2020\",\"2017\",\"2018\",\"2019\",\"2019\",\"2019\",\"2021\",\"2019\",\"2018\",\"2020\",\"2018\",\"2018\",\"2017\",\"2019\",\"2018\",\"2018\",\"2018\",\"2019\",\"2018\",\"2017\",\"2019\",\"2017\",\"2017\",\"2015\",\"2014\",\"2019\",\"2018\",\"2017\",\"2019\",\"2019\",\"2018\",\"2019\",\"2019\",\"2018\",\"2018\",\"2019\",\"2017\",\"2018\",\"2020\",\"2019\",\"2017\",\"2017\",\"2017\",\"2017\",\"2019\",\"2018\",\"2018\",\"2018\",\"2016\",\"2016\",\"2018\",\"2017\",\"2017\",\"2015\",\"2015\",\"2017\",\"2019\",\"2017\",\"2017\",\"2017\",\"2019\",\"2020\",\"2017\",\"2019\",\"2018\",\"2020\",\"2019\",\"2020\",\"2019\",\"2019\",\"2018\",\"2016\",\"2018\",\"2018\",\"2019\",\"2016\",\"2020\",\"2020\",\"2019\",\"2017\",\"2018\",\"2019\",\"2019\",\"2019\",\"2019\",\"2019\",\"2019\",\"2019\",\"2019\",\"2019\",\"2019\",\"2019\",\"2019\",\"2019\",\"2019\",\"2019\",\"2019\",\"2019\",\"2019\",\"2019\",\"2019\",\"2020\",\"2019\",\"2018\",\"2018\",\"2016\",\"2018\",\"2017\",\"2018\",\"2016\",\"2015\",\"2017\",\"2018\",\"2018\",\"2018\",\"2018\",\"2018\",\"2019\",\"2019\",\"2019\",\"2019\",\"2019\",\"2018\",\"2016\",\"2017\",\"2018\",\"2018\",\"2018\",\"2015\",\"2017\",\"2016\",\"2018\",\"2019\",\"2018\",\"2018\",\"2018\",\"2018\",\"2018\",\"2018\",\"2018\",\"2020\",\"2019\",\"2018\",\"2019\",\"2017\",\"2019\",\"2018\",\"2017\",\"2019\",\"2018\",\"2018\",\"2019\",\"2018\",\"2019\",\"2017\",\"2020\",\"2020\",\"2016\",\"2018\",\"2017\",\"2018\",\"2018\",\"2018\",\"2017\",\"2017\",\"2019\",\"2020\",\"2018\",\"2019\",\"2019\",\"2018\",\"2017\",\"2019\",\"2018\",\"2018\",\"2016\",\"2018\",\"2019\",\"2018\",\"2018\",\"2020\",\"2016\",\"2016\",\"2019\",\"2017\",\"2019\",\"2020\",\"2017\",\"2018\",\"2018\",\"2017\",\"2016\",\"2017\",\"2021\",\"2017\",\"2018\",\"2020\",\"2017\",\"2020\",\"2018\",\"2019\",\"2018\",\"2018\",\"2014\",\"2014\",\"2017\",\"2019\",\"2016\",\"2017\",\"2019\",\"2019\",\"2016\",\"2019\",\"2017\",\"2018\",\"2019\",\"2017\",\"2019\",\"2018\",\"2018\",\"2019\",\"2019\",\"2020\",\"2019\",\"2018\",\"2017\",\"2018\",\"2018\",\"2019\",\"2017\",\"2015\",\"2020\",\"2018\",\"2020\",\"2017\",\"2019\",\"2019\",\"2019\",\"2019\",\"2018\",\"2019\",\"2018\",\"2017\",\"2015\",\"2016\",\"2016\",\"2016\",\"2016\",\"2016\",\"2016\",\"2016\",\"2016\",\"2016\",\"2016\",\"2016\",\"2016\",\"2016\",\"2016\",\"2016\",\"2016\",\"2016\",\"2016\",\"2016\",\"2016\",\"2016\",\"2016\",\"2016\",\"2016\",\"2016\",\"2016\",\"2016\",\"2017\",\"2017\",\"2018\",\"2016\",\"2019\",\"2018\",\"2020\",\"2018\",\"2019\",\"2017\",\"2019\",\"2018\",\"2018\",\"2019\",\"2017\",\"2017\",\"2017\",\"2017\",\"2020\",\"2016\",\"2020\",\"2016\",\"2019\",\"2018\",\"2018\",\"2018\",\"2017\",\"2019\",\"2019\",\"2017\",\"2017\",\"2019\",\"2018\",\"2016\",\"2017\",\"2017\",\"2019\",\"2019\",\"2019\",\"2018\",\"2019\",\"2019\",\"2019\",\"2018\",\"2018\",\"2016\",\"2017\",\"2019\",\"2017\",\"2018\",\"2019\",\"2017\",\"2019\",\"2017\",\"2017\",\"2019\",\"2018\",\"2018\",\"2017\",\"2019\",\"2017\",\"2016\",\"2017\",\"2018\",\"2020\",\"2020\",\"2020\",\"2020\",\"2018\",\"2017\",\"2018\",\"2017\",\"2019\",\"2018\",\"2018\",\"2019\",\"2016\",\"2019\",\"2019\",\"2018\",\"2017\",\"2017\",\"2018\",\"2017\",\"2019\",\"2016\",\"2018\",\"2019\",\"2016\",\"2019\",\"2019\",\"2019\",\"2019\",\"2019\",\"2017\",\"2019\",\"2019\",\"2017\",\"2017\",\"2018\",\"2019\",\"2019\",\"2019\",\"2017\",\"2019\",\"2019\",\"2017\",\"2017\",\"2018\",\"2017\",\"2019\",\"2019\",\"2018\",\"2020\",\"2019\",\"2019\",\"2020\",\"2015\",\"2013\",\"2013\",\"2017\",\"2017\",\"2021\",\"2019\",\"2017\",\"2017\",\"2017\",\"2019\",\"2016\",\"2017\",\"2020\",\"2017\",\"2018\",\"2018\",\"2019\",\"2018\",\"2018\",\"2019\",\"2018\",\"2019\",\"2017\",\"2018\",\"2019\",\"2017\",\"2015\",\"2019\",\"2017\",\"2017\",\"2018\",\"2018\",\"2019\",\"2019\",\"2017\",\"2018\",\"2019\",\"2020\",\"2017\",\"2019\",\"2018\",\"2019\",\"2020\",\"2018\",\"2020\",\"2018\",\"2020\",\"2020\",\"2020\",\"2018\",\"2020\",\"2019\",\"2018\",\"2019\",\"2019\",\"2020\",\"2020\",\"2019\",\"2019\",\"2018\",\"2017\",\"2018\",\"2017\",\"2017\",\"2017\",\"2017\",\"2017\",\"2017\",\"2017\",\"2017\",\"2017\",\"2017\",\"2017\",\"2019\",\"2019\",\"2018\",\"2017\",\"2020\",\"2021\",\"2021\",\"2017\",\"2017\",\"2019\",\"2017\",\"2018\",\"2019\",\"2018\",\"2018\",\"2018\",\"2018\",\"2019\",\"2018\",\"2020\",\"2017\",\"2017\",\"2021\",\"2019\",\"2018\",\"2018\",\"2018\",\"2018\",\"2019\",\"2019\",\"2017\",\"2018\",\"2018\",\"2019\",\"2020\",\"2018\",\"2018\",\"2019\",\"2017\",\"2017\",\"2017\",\"2019\",\"2017\",\"2018\",\"2018\",\"2019\",\"2020\",\"2016\",\"2018\",\"2016\",\"2018\",\"2019\",\"2017\",\"2018\",\"2019\",\"2017\",\"2020\",\"2019\",\"2020\",\"2018\",\"2018\",\"2019\",\"2019\",\"2017\",\"2015\",\"2020\",\"2018\",\"2019\",\"2019\",\"2018\",\"2019\",\"2019\",\"2018\",\"2017\",\"2019\",\"2018\",\"2016\",\"2019\",\"2020\",\"2019\",\"2016\",\"2020\",\"2019\",\"2015\",\"2017\",\"2020\",\"2019\",\"2019\",\"2019\",\"2018\",\"2020\",\"2021\",\"2020\",\"2019\",\"2019\",\"2019\",\"2016\",\"2019\",\"2019\",\"2018\",\"2017\",\"2018\",\"2015\",\"2019\",\"2016\",\"2016\",\"2019\",\"2019\",\"2018\",\"2018\",\"2018\",\"2018\",\"2017\",\"2019\",\"2017\",\"2015\",\"2019\",\"2017\",\"2020\",\"2020\",\"2020\",\"2016\",\"2020\",\"2017\",\"2019\",\"2021\",\"2019\",\"2017\",\"2019\",\"2020\",\"2019\",\"2015\",\"2018\",\"2018\",\"2016\",\"2017\",\"2019\",\"2020\",\"2016\",\"2017\",\"2019\",\"2019\",\"2018\",\"2018\",\"2020\",\"2021\",\"2019\",\"2019\",\"2017\",\"2019\",\"2018\",\"2020\",\"2018\",\"2018\",\"2017\",\"2019\",\"2018\",\"2020\",\"2019\",\"2019\",\"2017\",\"2018\",\"2019\",\"2018\",\"2018\",\"2019\",\"2019\",\"2019\",\"2017\",\"2018\",\"2018\",\"2017\",\"2019\",\"2019\",\"2017\",\"2018\",\"2017\",\"2019\",\"2020\",\"2020\",\"2018\",\"2016\",\"2018\",\"2019\",\"2017\",\"2020\",\"2020\",\"2016\",\"2018\",\"2017\",\"2017\",\"2018\",\"2019\",\"2017\",\"2019\",\"2019\",\"2018\",\"2019\",\"2018\",\"2017\",\"2017\",\"2020\",\"2019\",\"2018\",\"2018\",\"2021\",\"2020\",\"2017\",\"2020\",\"2020\",\"2019\",\"2018\",\"2017\",\"2018\",\"2020\",\"2020\",\"2018\",\"2019\",\"2018\",\"2018\",\"2017\",\"2018\",\"2019\",\"2017\",\"2017\",\"2016\",\"2019\",\"2019\",\"2018\",\"2017\",\"2019\",\"2019\",\"2015\",\"2017\",\"2019\",\"2019\",\"2017\",\"2019\",\"2019\",\"2020\",\"2019\",\"2019\",\"2019\",\"2018\",\"2019\",\"2019\",\"2019\",\"2019\",\"2019\",\"2018\",\"2019\",\"2020\",\"2018\",\"2019\",\"2018\",\"2020\",\"2018\",\"2017\",\"2019\",\"2019\",\"2017\",\"2019\",\"2019\",\"2017\",\"2016\",\"2019\",\"2019\",\"2019\",\"2018\",\"2018\",\"2019\",\"2019\",\"2019\",\"2019\",\"2020\",\"2017\",\"2019\",\"2019\",\"2019\",\"2020\",\"2019\",\"2017\",\"2018\",\"2018\",\"2019\",\"2019\",\"2018\",\"2017\",\"2019\",\"2015\",\"2021\",\"2018\",\"2019\",\"2018\",\"2019\",\"2019\",\"2019\",\"2018\",\"2018\",\"2017\",\"2018\",\"2019\",\"2020\",\"2020\",\"2017\",\"2018\",\"2018\",\"2018\",\"2020\",\"2019\",\"2017\",\"2017\",\"2016\",\"2018\",\"2019\",\"2019\",\"2020\",\"2016\",\"2019\",\"2019\",\"2017\",\"2018\",\"2019\",\"2019\",\"2018\",\"2019\",\"2018\",\"2020\",\"2017\",\"2017\",\"2020\",\"2017\",\"2020\",\"2017\",\"2016\",\"2018\",\"2019\",\"2020\",\"2021\",\"2017\",\"2019\",\"2018\",\"2016\",\"2019\",\"2018\",\"2018\",\"2018\",\"2018\",\"2019\",\"2018\",\"2019\",\"2019\",\"2017\",\"2020\",\"2019\",\"2017\",\"2018\",\"2020\",\"2019\",\"2020\",\"2019\",\"2016\",\"2018\",\"2017\",\"2018\",\"2017\",\"2017\",\"2017\",\"2017\",\"2018\",\"2019\",\"2017\",\"2018\",\"2017\",\"2019\",\"2018\",\"2017\",\"2019\",\"2019\",\"2020\",\"2018\",\"2017\",\"2019\",\"2020\",\"2020\",\"2016\",\"2016\",\"2019\",\"2018\",\"2017\",\"2019\",\"2019\",\"2018\",\"2018\",\"2019\",\"2018\",\"2018\",\"2018\",\"2019\",\"2018\",\"2017\",\"2016\",\"2019\",\"2020\",\"2018\",\"2016\",\"2019\",\"2019\",\"2017\",\"2019\",\"2017\",\"2018\",\"2018\",\"2020\",\"2019\",\"2016\",\"2018\",\"2018\",\"2019\",\"2019\",\"2019\",\"2016\",\"2020\",\"2020\",\"2019\",\"2017\",\"2019\",\"2018\",\"2018\",\"2016\",\"2018\",\"2020\",\"2019\",\"2019\",\"2019\",\"2019\",\"2017\",\"2017\",\"2019\",\"2016\",\"2017\",\"2018\",\"2018\",\"2016\",\"2019\",\"2015\",\"2018\",\"2017\",\"2020\",\"2017\",\"2018\",\"2020\",\"2021\",\"2020\",\"2017\",\"2021\",\"2019\",\"2018\",\"2016\",\"2019\",\"2016\",\"2019\",\"2019\",\"2020\",\"2018\",\"2019\",\"2020\",\"2019\",\"2018\",\"2020\",\"2019\",\"2015\",\"2019\",\"2014\",\"2018\",\"2020\",\"2017\",\"2018\",\"2019\",\"2021\",\"2018\",\"2017\",\"2019\",\"2020\",\"2019\",\"2017\",\"2019\",\"2019\",\"2019\",\"2016\",\"2018\",\"2019\",\"2019\",\"2017\",\"2017\",\"2017\",\"2019\",\"2018\",\"2018\",\"2019\",\"2019\",\"2017\",\"2018\",\"2019\",\"2020\",\"2017\",\"2017\",\"2018\",\"2018\",\"2019\",\"2020\",\"2018\",\"2019\",\"2017\",\"2017\",\"2019\",\"2019\",\"2018\",\"2018\",\"2019\",\"2017\",\"2018\",\"2018\",\"2020\",\"2020\",\"2018\",\"2017\",\"2018\",\"2018\",\"2020\",\"2019\",\"2018\",\"2019\",\"2020\",\"2019\",\"2017\",\"2019\",\"2019\",\"2019\",\"2017\",\"2019\",\"2016\",\"2018\",\"2019\",\"2020\",\"2019\",\"2019\",\"2018\",\"2018\",\"2019\",\"2019\",\"2018\",\"2019\",\"2018\",\"2017\",\"2019\",\"2017\",\"2018\",\"2019\",\"2017\",\"2019\",\"2018\",\"2018\",\"2019\",\"2017\",\"2019\",\"2020\",\"2018\",\"2019\",\"2017\",\"2019\",\"2018\",\"2017\",\"2019\",\"2019\",\"2015\",\"2018\",\"2019\",\"2016\",\"2017\",\"2017\",\"2018\",\"2019\",\"2019\",\"2019\",\"2016\",\"2017\",\"2018\",\"2017\",\"2018\",\"2019\",\"2016\",\"2019\",\"2017\",\"2017\",\"2015\",\"2017\",\"2018\",\"2018\",\"2020\",\"2016\",\"2016\",\"2017\",\"2019\",\"2018\",\"2017\",\"2018\",\"2017\",\"2018\",\"2018\",\"2017\",\"2018\",\"2015\",\"2019\",\"2017\",\"2017\",\"2019\",\"2017\",\"2019\",\"2017\",\"2019\",\"2019\",\"2019\",\"2018\",\"2018\",\"2020\",\"2016\",\"2017\",\"2019\",\"2019\",\"2018\",\"2017\",\"2019\",\"2018\",\"2018\",\"2019\",\"2017\",\"2018\",\"2016\",\"2020\",\"2020\",\"2020\",\"2020\",\"2020\",\"2018\",\"2019\",\"2019\",\"2018\",\"2017\",\"2020\",\"2018\",\"2018\",\"2018\",\"2020\",\"2018\",\"2020\",\"2019\",\"2018\",\"2017\",\"2019\",\"2018\",\"2017\",\"2017\",\"2019\",\"2020\",\"2017\",\"2019\",\"2017\",\"2015\",\"2019\",\"2017\",\"2019\",\"2018\",\"2019\",\"2017\",\"2017\",\"2018\",\"2017\",\"2017\",\"2019\",\"2019\",\"2019\",\"2020\",\"2018\",\"2019\",\"2019\",\"2018\",\"2016\",\"2019\",\"2017\",\"2019\",\"2017\",\"2017\",\"2017\",\"2019\",\"2017\",\"2017\",\"2018\",\"2018\",\"2017\",\"2017\",\"2019\",\"2017\",\"2019\",\"2017\",\"2017\",\"2018\",\"2020\",\"2018\",\"2019\",\"2017\",\"2019\",\"2019\",\"2019\",\"2019\",\"2019\",\"2019\",\"2017\",\"2016\",\"2018\",\"2018\",\"2020\",\"2019\",\"2016\",\"2019\",\"2018\",\"2017\",\"2019\",\"2014\",\"2018\",\"2017\",\"2018\",\"2017\",\"2017\",\"2018\",\"2019\",\"2019\",\"2018\",\"2017\",\"2017\",\"2020\",\"2019\",\"2018\",\"2018\",\"2018\",\"2016\",\"2016\",\"2020\",\"2018\",\"2017\",\"2019\",\"2017\",\"2017\",\"2019\",\"2017\",\"2019\",\"2017\",\"2017\",\"2017\",\"2017\",\"2020\",\"2020\",\"2017\",\"2020\",\"2018\",\"2018\",\"2016\",\"2017\",\"2019\",\"2018\",\"2019\",\"2018\",\"2019\",\"2016\",\"2019\",\"2019\",\"2019\",\"2019\",\"2019\",\"2017\",\"2017\",\"2017\",\"2020\",\"2017\",\"2019\",\"2019\",\"2017\",\"2018\",\"2018\",\"2017\",\"2017\",\"2018\",\"2019\",\"2018\",\"2015\",\"2018\",\"2018\",\"2018\",\"2016\",\"2016\",\"2016\",\"2018\",\"2018\",\"2018\",\"2017\",\"2017\",\"2016\",\"2019\",\"2019\",\"2019\",\"2016\",\"2019\",\"2018\",\"2018\",\"2017\",\"2018\",\"2019\",\"2018\",\"2016\",\"2016\",\"2019\",\"2019\",\"2019\",\"2020\",\"2019\"],\"xaxis\":\"x\",\"yaxis\":\"y\",\"type\":\"histogram\"}],                        {\"template\":{\"data\":{\"histogram2dcontour\":[{\"type\":\"histogram2dcontour\",\"colorbar\":{\"outlinewidth\":0,\"ticks\":\"\"},\"colorscale\":[[0.0,\"#0d0887\"],[0.1111111111111111,\"#46039f\"],[0.2222222222222222,\"#7201a8\"],[0.3333333333333333,\"#9c179e\"],[0.4444444444444444,\"#bd3786\"],[0.5555555555555556,\"#d8576b\"],[0.6666666666666666,\"#ed7953\"],[0.7777777777777778,\"#fb9f3a\"],[0.8888888888888888,\"#fdca26\"],[1.0,\"#f0f921\"]]}],\"choropleth\":[{\"type\":\"choropleth\",\"colorbar\":{\"outlinewidth\":0,\"ticks\":\"\"}}],\"histogram2d\":[{\"type\":\"histogram2d\",\"colorbar\":{\"outlinewidth\":0,\"ticks\":\"\"},\"colorscale\":[[0.0,\"#0d0887\"],[0.1111111111111111,\"#46039f\"],[0.2222222222222222,\"#7201a8\"],[0.3333333333333333,\"#9c179e\"],[0.4444444444444444,\"#bd3786\"],[0.5555555555555556,\"#d8576b\"],[0.6666666666666666,\"#ed7953\"],[0.7777777777777778,\"#fb9f3a\"],[0.8888888888888888,\"#fdca26\"],[1.0,\"#f0f921\"]]}],\"heatmap\":[{\"type\":\"heatmap\",\"colorbar\":{\"outlinewidth\":0,\"ticks\":\"\"},\"colorscale\":[[0.0,\"#0d0887\"],[0.1111111111111111,\"#46039f\"],[0.2222222222222222,\"#7201a8\"],[0.3333333333333333,\"#9c179e\"],[0.4444444444444444,\"#bd3786\"],[0.5555555555555556,\"#d8576b\"],[0.6666666666666666,\"#ed7953\"],[0.7777777777777778,\"#fb9f3a\"],[0.8888888888888888,\"#fdca26\"],[1.0,\"#f0f921\"]]}],\"heatmapgl\":[{\"type\":\"heatmapgl\",\"colorbar\":{\"outlinewidth\":0,\"ticks\":\"\"},\"colorscale\":[[0.0,\"#0d0887\"],[0.1111111111111111,\"#46039f\"],[0.2222222222222222,\"#7201a8\"],[0.3333333333333333,\"#9c179e\"],[0.4444444444444444,\"#bd3786\"],[0.5555555555555556,\"#d8576b\"],[0.6666666666666666,\"#ed7953\"],[0.7777777777777778,\"#fb9f3a\"],[0.8888888888888888,\"#fdca26\"],[1.0,\"#f0f921\"]]}],\"contourcarpet\":[{\"type\":\"contourcarpet\",\"colorbar\":{\"outlinewidth\":0,\"ticks\":\"\"}}],\"contour\":[{\"type\":\"contour\",\"colorbar\":{\"outlinewidth\":0,\"ticks\":\"\"},\"colorscale\":[[0.0,\"#0d0887\"],[0.1111111111111111,\"#46039f\"],[0.2222222222222222,\"#7201a8\"],[0.3333333333333333,\"#9c179e\"],[0.4444444444444444,\"#bd3786\"],[0.5555555555555556,\"#d8576b\"],[0.6666666666666666,\"#ed7953\"],[0.7777777777777778,\"#fb9f3a\"],[0.8888888888888888,\"#fdca26\"],[1.0,\"#f0f921\"]]}],\"surface\":[{\"type\":\"surface\",\"colorbar\":{\"outlinewidth\":0,\"ticks\":\"\"},\"colorscale\":[[0.0,\"#0d0887\"],[0.1111111111111111,\"#46039f\"],[0.2222222222222222,\"#7201a8\"],[0.3333333333333333,\"#9c179e\"],[0.4444444444444444,\"#bd3786\"],[0.5555555555555556,\"#d8576b\"],[0.6666666666666666,\"#ed7953\"],[0.7777777777777778,\"#fb9f3a\"],[0.8888888888888888,\"#fdca26\"],[1.0,\"#f0f921\"]]}],\"mesh3d\":[{\"type\":\"mesh3d\",\"colorbar\":{\"outlinewidth\":0,\"ticks\":\"\"}}],\"scatter\":[{\"fillpattern\":{\"fillmode\":\"overlay\",\"size\":10,\"solidity\":0.2},\"type\":\"scatter\"}],\"parcoords\":[{\"type\":\"parcoords\",\"line\":{\"colorbar\":{\"outlinewidth\":0,\"ticks\":\"\"}}}],\"scatterpolargl\":[{\"type\":\"scatterpolargl\",\"marker\":{\"colorbar\":{\"outlinewidth\":0,\"ticks\":\"\"}}}],\"bar\":[{\"error_x\":{\"color\":\"#2a3f5f\"},\"error_y\":{\"color\":\"#2a3f5f\"},\"marker\":{\"line\":{\"color\":\"#E5ECF6\",\"width\":0.5},\"pattern\":{\"fillmode\":\"overlay\",\"size\":10,\"solidity\":0.2}},\"type\":\"bar\"}],\"scattergeo\":[{\"type\":\"scattergeo\",\"marker\":{\"colorbar\":{\"outlinewidth\":0,\"ticks\":\"\"}}}],\"scatterpolar\":[{\"type\":\"scatterpolar\",\"marker\":{\"colorbar\":{\"outlinewidth\":0,\"ticks\":\"\"}}}],\"histogram\":[{\"marker\":{\"pattern\":{\"fillmode\":\"overlay\",\"size\":10,\"solidity\":0.2}},\"type\":\"histogram\"}],\"scattergl\":[{\"type\":\"scattergl\",\"marker\":{\"colorbar\":{\"outlinewidth\":0,\"ticks\":\"\"}}}],\"scatter3d\":[{\"type\":\"scatter3d\",\"line\":{\"colorbar\":{\"outlinewidth\":0,\"ticks\":\"\"}},\"marker\":{\"colorbar\":{\"outlinewidth\":0,\"ticks\":\"\"}}}],\"scattermapbox\":[{\"type\":\"scattermapbox\",\"marker\":{\"colorbar\":{\"outlinewidth\":0,\"ticks\":\"\"}}}],\"scatterternary\":[{\"type\":\"scatterternary\",\"marker\":{\"colorbar\":{\"outlinewidth\":0,\"ticks\":\"\"}}}],\"scattercarpet\":[{\"type\":\"scattercarpet\",\"marker\":{\"colorbar\":{\"outlinewidth\":0,\"ticks\":\"\"}}}],\"carpet\":[{\"aaxis\":{\"endlinecolor\":\"#2a3f5f\",\"gridcolor\":\"white\",\"linecolor\":\"white\",\"minorgridcolor\":\"white\",\"startlinecolor\":\"#2a3f5f\"},\"baxis\":{\"endlinecolor\":\"#2a3f5f\",\"gridcolor\":\"white\",\"linecolor\":\"white\",\"minorgridcolor\":\"white\",\"startlinecolor\":\"#2a3f5f\"},\"type\":\"carpet\"}],\"table\":[{\"cells\":{\"fill\":{\"color\":\"#EBF0F8\"},\"line\":{\"color\":\"white\"}},\"header\":{\"fill\":{\"color\":\"#C8D4E3\"},\"line\":{\"color\":\"white\"}},\"type\":\"table\"}],\"barpolar\":[{\"marker\":{\"line\":{\"color\":\"#E5ECF6\",\"width\":0.5},\"pattern\":{\"fillmode\":\"overlay\",\"size\":10,\"solidity\":0.2}},\"type\":\"barpolar\"}],\"pie\":[{\"automargin\":true,\"type\":\"pie\"}]},\"layout\":{\"autotypenumbers\":\"strict\",\"colorway\":[\"#636efa\",\"#EF553B\",\"#00cc96\",\"#ab63fa\",\"#FFA15A\",\"#19d3f3\",\"#FF6692\",\"#B6E880\",\"#FF97FF\",\"#FECB52\"],\"font\":{\"color\":\"#2a3f5f\"},\"hovermode\":\"closest\",\"hoverlabel\":{\"align\":\"left\"},\"paper_bgcolor\":\"white\",\"plot_bgcolor\":\"#E5ECF6\",\"polar\":{\"bgcolor\":\"#E5ECF6\",\"angularaxis\":{\"gridcolor\":\"white\",\"linecolor\":\"white\",\"ticks\":\"\"},\"radialaxis\":{\"gridcolor\":\"white\",\"linecolor\":\"white\",\"ticks\":\"\"}},\"ternary\":{\"bgcolor\":\"#E5ECF6\",\"aaxis\":{\"gridcolor\":\"white\",\"linecolor\":\"white\",\"ticks\":\"\"},\"baxis\":{\"gridcolor\":\"white\",\"linecolor\":\"white\",\"ticks\":\"\"},\"caxis\":{\"gridcolor\":\"white\",\"linecolor\":\"white\",\"ticks\":\"\"}},\"coloraxis\":{\"colorbar\":{\"outlinewidth\":0,\"ticks\":\"\"}},\"colorscale\":{\"sequential\":[[0.0,\"#0d0887\"],[0.1111111111111111,\"#46039f\"],[0.2222222222222222,\"#7201a8\"],[0.3333333333333333,\"#9c179e\"],[0.4444444444444444,\"#bd3786\"],[0.5555555555555556,\"#d8576b\"],[0.6666666666666666,\"#ed7953\"],[0.7777777777777778,\"#fb9f3a\"],[0.8888888888888888,\"#fdca26\"],[1.0,\"#f0f921\"]],\"sequentialminus\":[[0.0,\"#0d0887\"],[0.1111111111111111,\"#46039f\"],[0.2222222222222222,\"#7201a8\"],[0.3333333333333333,\"#9c179e\"],[0.4444444444444444,\"#bd3786\"],[0.5555555555555556,\"#d8576b\"],[0.6666666666666666,\"#ed7953\"],[0.7777777777777778,\"#fb9f3a\"],[0.8888888888888888,\"#fdca26\"],[1.0,\"#f0f921\"]],\"diverging\":[[0,\"#8e0152\"],[0.1,\"#c51b7d\"],[0.2,\"#de77ae\"],[0.3,\"#f1b6da\"],[0.4,\"#fde0ef\"],[0.5,\"#f7f7f7\"],[0.6,\"#e6f5d0\"],[0.7,\"#b8e186\"],[0.8,\"#7fbc41\"],[0.9,\"#4d9221\"],[1,\"#276419\"]]},\"xaxis\":{\"gridcolor\":\"white\",\"linecolor\":\"white\",\"ticks\":\"\",\"title\":{\"standoff\":15},\"zerolinecolor\":\"white\",\"automargin\":true,\"zerolinewidth\":2},\"yaxis\":{\"gridcolor\":\"white\",\"linecolor\":\"white\",\"ticks\":\"\",\"title\":{\"standoff\":15},\"zerolinecolor\":\"white\",\"automargin\":true,\"zerolinewidth\":2},\"scene\":{\"xaxis\":{\"backgroundcolor\":\"#E5ECF6\",\"gridcolor\":\"white\",\"linecolor\":\"white\",\"showbackground\":true,\"ticks\":\"\",\"zerolinecolor\":\"white\",\"gridwidth\":2},\"yaxis\":{\"backgroundcolor\":\"#E5ECF6\",\"gridcolor\":\"white\",\"linecolor\":\"white\",\"showbackground\":true,\"ticks\":\"\",\"zerolinecolor\":\"white\",\"gridwidth\":2},\"zaxis\":{\"backgroundcolor\":\"#E5ECF6\",\"gridcolor\":\"white\",\"linecolor\":\"white\",\"showbackground\":true,\"ticks\":\"\",\"zerolinecolor\":\"white\",\"gridwidth\":2}},\"shapedefaults\":{\"line\":{\"color\":\"#2a3f5f\"}},\"annotationdefaults\":{\"arrowcolor\":\"#2a3f5f\",\"arrowhead\":0,\"arrowwidth\":1},\"geo\":{\"bgcolor\":\"white\",\"landcolor\":\"#E5ECF6\",\"subunitcolor\":\"white\",\"showland\":true,\"showlakes\":true,\"lakecolor\":\"white\"},\"title\":{\"x\":0.05},\"mapbox\":{\"style\":\"light\"}}},\"xaxis\":{\"anchor\":\"y\",\"domain\":[0.0,1.0],\"title\":{\"text\":\"year_added\"}},\"yaxis\":{\"anchor\":\"x\",\"domain\":[0.0,1.0],\"title\":{\"text\":\"count\"}},\"legend\":{\"tracegroupgap\":0},\"margin\":{\"t\":60},\"barmode\":\"relative\"},                        {\"responsive\": true}                    ).then(function(){\n",
              "                            \n",
              "var gd = document.getElementById('9072f691-9acb-42e9-be9a-4090a95eefca');\n",
              "var x = new MutationObserver(function (mutations, observer) {{\n",
              "        var display = window.getComputedStyle(gd).display;\n",
              "        if (!display || display === 'none') {{\n",
              "            console.log([gd, 'removed!']);\n",
              "            Plotly.purge(gd);\n",
              "            observer.disconnect();\n",
              "        }}\n",
              "}});\n",
              "\n",
              "// Listen for the removal of the full notebook cells\n",
              "var notebookContainer = gd.closest('#notebook-container');\n",
              "if (notebookContainer) {{\n",
              "    x.observe(notebookContainer, {childList: true});\n",
              "}}\n",
              "\n",
              "// Listen for the clearing of the current output cell\n",
              "var outputEl = gd.closest('.output');\n",
              "if (outputEl) {{\n",
              "    x.observe(outputEl, {childList: true});\n",
              "}}\n",
              "\n",
              "                        })                };                            </script>        </div>\n",
              "</body>\n",
              "</html>"
            ]
          },
          "metadata": {}
        }
      ],
      "source": [
        "#grafico temporal da total de títulos adicionados na plataforma\n",
        "px.histogram(df2, x='year_added')"
      ]
    },
    {
      "cell_type": "code",
      "source": [
        "#gráfico temporal de títulos adicionados na plataforma considerando a classificação filmes \"movies\" e séries \"TV Show\"\n",
        "sns.set_theme(style='whitegrid')\n",
        "sns.set(font_scale=0.8)\n",
        "sns.countplot(data=df2, x='year_added', hue='type')\n",
        "plt.show()"
      ],
      "metadata": {
        "colab": {
          "base_uri": "https://localhost:8080/",
          "height": 451
        },
        "id": "_EtH7xGF0TqL",
        "outputId": "448ea091-1f02-4b9e-8d95-2052efb0d5b0"
      },
      "execution_count": 23,
      "outputs": [
        {
          "output_type": "display_data",
          "data": {
            "text/plain": [
              "<Figure size 640x480 with 1 Axes>"
            ],
            "image/png": "[encoded data removed]"
          },
          "metadata": {}
        }
      ]
    },
    {
      "cell_type": "code",
      "source": [
        "#grafico temporal da total de filmes lançados por ano de lançamento\n",
        "px.histogram(df, x='release_year')"
      ],
      "metadata": {
        "colab": {
          "base_uri": "https://localhost:8080/",
          "height": 542
        },
        "id": "ODSy8iZH7Ojg",
        "outputId": "10874152-1b70-488c-f370-61eb15eb5072"
      },
      "execution_count": null,
      "outputs": [
        {
          "output_type": "display_data",
          "data": {
            "text/html": [
              "<html>\n",
              "<head><meta charset=\"utf-8\" /></head>\n",
              "<body>\n",
              "    <div>            <script src=\"https://cdnjs.cloudflare.com/ajax/libs/mathjax/2.7.5/MathJax.js?config=TeX-AMS-MML_SVG\"></script><script type=\"text/javascript\">if (window.MathJax && window.MathJax.Hub && window.MathJax.Hub.Config) {window.MathJax.Hub.Config({SVG: {font: \"STIX-Web\"}});}</script>                <script type=\"text/javascript\">window.PlotlyConfig = {MathJaxConfig: 'local'};</script>\n",
              "        <script src=\"https://cdn.plot.ly/plotly-2.18.2.min.js\"></script>                <div id=\"d5a202be-16b3-4d75-810e-dfafef168295\" class=\"plotly-graph-div\" style=\"height:525px; width:100%;\"></div>            <script type=\"text/javascript\">                                    window.PLOTLYENV=window.PLOTLYENV || {};                                    if (document.getElementById(\"d5a202be-16b3-4d75-810e-dfafef168295\")) {                    Plotly.newPlot(                        \"d5a202be-16b3-4d75-810e-dfafef168295\",                        [{\"alignmentgroup\":\"True\",\"bingroup\":\"x\",\"hovertemplate\":\"release_year=%{x}<br>count=%{y}<extra></extra>\",\"legendgroup\":\"\",\"marker\":{\"color\":\"#636efa\",\"pattern\":{\"shape\":\"\"}},\"name\":\"\",\"offsetgroup\":\"\",\"orientation\":\"v\",\"showlegend\":false,\"x\":[2020,2021,2021,2021,2021,2021,2021,1993,2021,2021,2021,2021,2021,2021,2021,2021,2020,2020,2021,2021,2021,2018,1996,2021,1998,2021,1997,2010,2013,2013,2021,2021,2020,2021,2020,2021,2021,2018,2017,2021,2021,1975,1978,1983,1987,2021,2012,2020,2001,2021,2014,2002,2003,2004,2001,2021,2011,2008,2009,2007,2010,2005,2006,2004,2021,2021,2014,1994,2021,2015,2021,2021,2021,2018,2021,2021,2013,2021,2020,2021,2021,2021,2021,2021,2020,2021,2021,2019,2021,2017,2019,2021,2021,2021,2018,2021,2018,2021,2021,2021,2019,2021,2021,2020,2016,2017,2021,2018,2021,2021,2021,2021,2021,2021,1994,2009,2015,2021,2017,2020,2021,2019,2003,2012,2013,2021,2020,2004,2017,2005,2021,1982,2021,2015,1994,1993,2003,2001,2010,1989,2014,2015,2007,2011,1990,1991,1994,2021,2020,1998,1999,2005,2016,2016,2015,1986,2010,2018,2003,2010,1992,1996,2017,2003,1999,2019,1984,2008,2001,2006,1997,2017,2003,2015,2003,1980,1986,1961,2014,1996,2000,2021,2008,1993,2021,2021,2021,2021,2008,2020,2021,2017,2008,2021,2002,2008,2021,2021,2021,2006,2004,2003,2005,2016,2012,2001,2010,2008,2010,2013,2011,2014,2016,2021,2021,2007,2011,2011,2021,2021,2021,2021,2021,2021,2021,2021,2021,2020,2014,2020,2021,2021,2019,2021,2021,2021,2021,2021,2021,2021,2021,2021,2021,2021,2018,2021,2021,2021,2021,2021,2020,2011,2021,1995,2021,2021,2020,2015,2020,2018,2020,2021,2021,2016,2014,2018,2020,1993,2020,2015,2021,2021,2021,2021,2021,2021,2021,2021,2021,2021,2021,2016,2020,2021,2021,2013,2021,2021,2018,2019,2021,2021,2012,2021,2020,2021,2021,2021,2020,2021,2021,2013,2013,1985,2021,1993,2016,2021,2012,2021,2021,2021,2021,2009,1995,2010,2011,2021,2021,2005,2021,2013,2008,2012,2020,1992,1993,2007,2016,2002,2009,2020,1999,1986,2019,2006,2010,2007,2014,2021,2010,1999,1995,1991,1994,2015,2008,2009,2019,2003,2000,2004,2016,2013,1991,2011,2010,2004,1995,2000,2010,2021,2018,2021,2021,2014,2021,2020,2009,2021,2021,2009,2021,2021,2013,2021,2021,2021,2019,2021,2021,2021,2021,2012,2021,2021,2021,2021,2021,2019,2019,2020,2012,2021,2021,2021,2021,2021,2021,2021,2021,2021,2021,2021,2021,2015,2013,2009,2011,2010,2013,2013,2013,2013,2012,2009,2013,2015,2019,2010,2012,2014,2011,2011,2012,2019,2021,2019,2021,2020,2021,2021,2021,2020,2020,2019,2021,2021,2020,2021,2021,2021,2021,1999,2021,2017,2017,2011,2012,2010,2009,2008,2021,2021,1983,2021,2019,2021,2021,2021,2007,2019,2019,2021,2021,2021,2021,2021,2021,2019,2021,2021,2021,2020,2015,2019,2016,2021,2021,2021,2020,2021,2021,2021,2021,2021,2016,2021,2021,2017,2021,2017,2018,2021,2015,2019,2014,2021,2020,2021,2021,2020,2010,2021,2021,2020,2021,2019,2019,2019,2016,2017,2007,2018,2019,2019,2021,2017,2020,2020,2021,2021,2015,2019,2019,2018,2019,2016,2012,1976,2015,2018,2019,2021,2019,2015,2018,2018,2021,2020,2020,2018,1959,2020,2021,2020,2021,2021,2020,2020,2021,2021,2020,2019,2020,2013,2021,2018,2012,1997,2021,2002,1997,1999,1997,2020,2000,1995,1993,2019,2021,2021,2019,2008,2011,2010,2019,2021,2005,1988,2021,1995,2016,2011,2001,2018,1992,2020,2018,2019,2016,2008,2010,2000,2009,1999,2019,2006,2010,2019,1997,1984,1986,1989,2003,1980,2006,2008,2002,2010,2003,2012,2009,2020,1998,1998,2019,2021,2021,2020,2019,2020,2019,2021,2021,2021,2021,2020,2021,2020,2012,2021,2019,2018,2019,2010,2021,2021,2021,2021,2021,2021,2021,2021,2021,2021,2021,2021,2021,2019,2016,2003,2004,2021,2014,2016,2015,2001,2021,2018,2021,2018,2018,2019,2020,2020,2020,2015,2018,2020,1981,1982,1988,2019,2019,2018,2019,2020,2018,2018,2020,2018,2021,2021,2021,2021,2021,2021,2020,1981,2021,2021,2021,2021,2019,2015,2021,2021,2020,2021,2021,2019,2012,2021,2018,2019,2021,2021,2016,2020,2021,2021,2020,2020,2021,2021,1972,2021,2013,2021,2021,2020,2005,2014,2021,2021,2014,2020,2021,2021,2021,2021,2021,2016,2021,2021,2021,2021,2021,2021,2014,2012,2021,2014,2021,2019,2021,2013,2021,2021,2021,2018,2014,2007,2018,2021,2020,2021,2021,2015,2015,2021,2021,2021,2021,2021,2021,2021,2021,2020,2021,2021,2021,2019,2020,2012,2001,2009,2013,2000,2019,2021,1997,2021,2011,2021,2013,2003,2001,2015,2015,2008,2010,1997,2019,2012,2011,2001,1997,2004,2012,2011,2009,2006,2006,2021,2017,2017,2014,2004,1984,2021,2001,1993,1981,2015,2005,2015,1996,1976,2021,2018,2019,2019,2018,2020,2021,2021,2016,2021,2021,2021,2021,2021,2021,2021,2021,2021,2021,2018,2021,2021,2021,2016,2021,2014,2015,2021,2021,2020,2021,2021,2021,2021,2021,2021,2020,2021,2009,2011,2020,2021,2021,2011,2006,2014,2017,1998,1997,2021,2021,2021,2016,2021,2021,2020,2021,2021,2021,2021,2021,2021,2021,2021,2021,2018,2020,2020,2021,2021,2021,2004,2018,2020,2021,2021,2021,2021,2020,2020,2021,2019,2021,2021,2017,2021,1999,2020,2021,2021,2021,2017,2021,2020,2017,2020,2013,2019,2021,2021,2020,2018,2018,2021,2020,2010,2006,2010,1989,2017,2010,2005,2010,2009,2018,2012,2020,2017,2019,2013,2014,2013,2003,2008,2018,2020,1994,2009,2018,2011,2009,2002,2000,2016,2018,1992,2008,2021,2019,2021,2021,2021,2018,2021,2021,2021,2021,2021,2021,2014,2011,2018,2021,2020,2019,2021,2017,2016,2014,2013,2015,2004,2015,2021,2015,2015,2016,2019,2021,2017,2015,2020,2020,2021,2020,2001,2021,2021,2021,2021,2020,2015,2021,2021,2021,2013,2018,2017,2019,2020,2019,2014,2021,2016,2019,1992,2011,2010,2008,2001,2004,2010,2007,2021,2021,2021,2021,2015,2021,2013,2020,2020,2021,2013,2020,2017,2017,2021,2016,2020,2016,2016,2019,2006,2021,2020,2019,2018,2020,2019,2021,2003,2012,2014,2020,1981,2015,2021,2021,2018,2020,2020,2021,2019,2016,2019,2021,2020,2019,2020,2021,2017,2018,2018,2019,2021,2018,2019,2017,2020,2021,2018,2021,2020,2020,2021,2016,2021,2021,2021,2020,2021,2021,2021,2021,2021,2021,2020,2021,2020,2020,2013,2006,2018,2012,2021,2019,2018,2021,2021,2021,2008,2017,2009,2009,2012,2020,2019,2010,2015,2016,2001,2020,2021,1996,2017,1964,2021,2017,2016,2017,2017,2017,2016,2017,2010,2021,2019,2002,2009,1999,2016,2017,2021,2008,2018,2021,2020,2015,2005,2021,2021,2020,2013,2012,2021,2021,2021,2013,2018,1998,2020,2020,2021,2020,2021,2021,2021,2021,2021,2021,2021,2021,2021,2021,2013,2020,2020,2020,2010,2021,2021,2021,2020,2021,2020,2021,2021,2021,2021,2020,2014,2020,2020,2017,2021,2021,2014,2021,2012,2021,2021,2021,2016,2020,2021,2021,2020,2015,2020,2021,2015,2021,2021,2020,2010,2013,2021,2021,2016,2021,2020,2020,2021,2021,2021,2021,2021,2021,2015,2021,2021,2021,2020,2021,2021,2021,2020,2021,2013,2013,2021,2021,2014,2020,2021,2019,2009,2021,2021,2021,1990,2018,2019,1988,2011,2006,2011,2021,2016,2021,2006,2021,2015,2011,2021,2008,2014,2019,2021,2018,2018,2021,2020,2021,2021,2019,2021,2021,2020,2021,2021,2020,2013,2016,2021,2020,2021,2018,2020,2021,2020,2017,2021,2021,2019,2021,2018,2021,2021,2021,2021,2021,2018,2021,2002,2020,2017,2021,2018,2021,2021,2020,2021,2005,2021,2019,2021,2021,2021,2019,2016,2018,2020,2012,2021,2021,2008,2021,2021,2019,1945,2008,2016,2020,2020,2017,2017,2021,2021,2020,2021,2021,2021,2020,2021,2020,2020,2021,2012,2018,2020,2021,1997,2019,2018,2018,2019,2010,2008,2020,2019,2015,2019,2005,2019,2020,2018,2021,2021,2021,2021,2021,2021,2021,2021,2020,2018,2021,2018,2021,2019,2019,2021,2021,2019,2020,2010,2021,2020,2020,2020,2021,2020,2021,2021,2013,2016,2020,2018,2021,2021,2021,2020,2016,2021,2014,2019,2020,2020,2021,2021,2021,2011,2020,2017,2021,2019,2021,2020,2021,2011,2005,2005,2021,2021,2003,2021,2018,2021,2021,2021,2021,2020,2016,2020,2021,2021,2020,2021,2021,1999,2020,2019,2012,2020,2014,2009,2021,2021,1987,2020,2013,1997,2009,2021,2007,2017,2017,2011,2021,1988,2020,2014,2019,2013,2021,2011,2021,1993,2017,2020,2014,2020,2020,2019,2020,2019,2020,2020,2018,2020,2020,2020,2020,2011,2020,2019,2020,2020,2020,2020,2020,2019,2020,2019,2018,2019,2012,2020,2020,2020,2020,2020,2020,2020,2016,2020,2010,2020,2018,2019,2020,2012,2019,2020,2020,2020,2020,2006,2020,2004,2009,2020,2018,2019,2017,2020,2020,2019,2020,2019,2020,2020,2012,2020,2016,2013,2011,2011,2016,2020,2020,2014,2018,2020,2020,2011,2006,2019,2020,2021,2020,2020,2020,2018,2020,2020,2020,2020,2020,2020,2020,2020,2020,2016,2013,2019,2019,2013,2019,2020,2020,2020,2020,2020,2020,2020,2019,2020,2020,2020,2016,2018,2020,2020,2020,2020,2020,2020,2020,2020,2020,2020,2020,2020,2020,2020,2019,2018,2020,2020,2013,2020,2020,2020,2020,2020,2014,2020,2009,2014,2014,2014,2018,2012,2006,2020,2015,2017,2018,1990,2006,2010,2006,2018,2018,2020,2018,2020,2020,2018,2019,2020,2020,2020,2020,2020,2020,1999,2020,2020,2020,2020,2018,2020,2020,2017,2020,2020,2020,2020,2020,2020,2015,2020,2020,2020,2020,2020,2020,2017,2018,2020,2013,2019,2020,2020,2019,2020,2020,2020,2020,2004,2011,2010,2015,2010,2016,2011,2016,2020,2018,2009,2020,2020,2020,2020,2020,2016,2017,2017,2013,2019,2013,2018,2021,2014,2020,1954,2019,2019,2020,2020,2020,2020,2020,2008,2020,2018,2013,2020,2020,2019,2008,2020,2020,2020,2020,1979,2020,2006,2020,2020,2018,2020,2020,2020,2019,2016,2018,2020,2019,2020,2020,2012,2020,2020,2018,2018,2020,2020,2020,2020,2016,2020,2020,2018,2019,2019,2002,2020,2020,2018,2019,2018,2019,2018,2020,2019,2019,1989,2018,2018,2016,2018,2020,2012,1994,2018,2020,2017,2018,2019,2019,2020,2017,2020,2020,2020,2020,2020,2020,2020,2013,2020,2016,2013,2020,2020,2020,2020,2020,2020,2020,2009,2018,2019,2019,2020,2020,2020,2018,2020,2020,2017,2020,2018,2019,2018,2018,2020,2020,2020,2020,2020,2020,1975,2005,2013,2014,2017,1991,2017,2012,2003,1982,2007,2020,1999,2018,1980,2005,2012,2020,2020,2018,2020,2016,2020,2020,2020,2020,2014,2020,2016,2018,2018,2005,2017,2020,2006,2020,2020,2020,2020,2020,2020,2004,2020,2020,1990,1982,2015,2020,2006,2002,2017,2020,2020,2018,2020,2020,2020,2020,2020,2004,2020,2020,2020,2020,2020,2019,2020,2017,2020,2020,2020,2018,2016,2017,2016,2020,2005,2020,2009,2020,2020,2020,2017,2020,2020,2020,2017,2019,2013,2019,2018,2016,2016,2020,2019,2016,2019,2018,2020,2005,2019,2018,2019,2020,2020,2003,2019,2018,2020,2020,2019,2010,2020,2018,2020,2020,2020,2012,2020,2020,2002,2013,2014,2008,2003,2009,2007,1999,2007,2007,2020,2019,2020,2015,2020,2020,2016,2020,2020,2019,2011,2020,2020,2020,2020,2020,2018,2016,2017,2017,2016,2019,2016,2019,2013,2015,2020,2013,2016,2014,2020,2020,2020,2019,2020,2014,2020,2020,2020,2014,2020,2020,2020,2020,2020,2018,2020,2020,2020,2020,2016,2020,2020,2020,2002,2020,2013,2020,2018,2020,2020,2020,2007,2014,2020,2020,2020,2014,2018,2018,2019,2019,2018,2017,2020,2020,2019,2018,2016,2016,2017,2018,2020,2020,2020,2020,2020,2020,2020,2020,2020,2020,2010,2020,2010,2017,2020,2020,2020,2019,2020,2019,2015,2020,2018,2020,2020,2020,2020,2009,2020,2020,2018,2016,2020,2017,2020,2012,2019,2016,2016,2020,2002,2020,2011,2008,1998,1998,2018,2020,2020,2019,2011,2020,2020,2020,2020,2020,2020,2020,2020,2020,2020,1998,2020,2016,2020,2019,2020,2020,2020,2020,2020,2016,2019,2013,2020,2020,2020,2020,2020,2020,2020,2019,2020,2020,2020,2020,2019,2017,2020,2020,2018,2012,2014,2020,2016,2020,2014,2009,2020,2020,2020,2018,2020,2020,2020,2020,2014,2018,2019,2016,2012,2020,2020,2014,2020,2020,2019,2020,2018,2016,2020,2020,2020,2020,2020,2018,2020,2020,2020,2020,2020,2016,2020,2020,2020,2019,2020,2020,2020,2020,2020,2020,2020,2017,2000,2020,2014,2020,2020,2018,2017,2008,2020,2020,2018,2020,2020,2020,2020,2020,2020,2020,2017,2020,2020,2020,2016,2019,2020,2020,2020,2019,2020,2020,2019,2020,2020,2016,2020,2020,2019,2020,2020,2020,2020,2015,2020,2019,2020,2020,2019,2019,2020,2020,2017,2018,2019,2018,2020,2020,2020,2020,2019,2020,2018,2019,2020,2020,2020,2016,2018,2020,2020,2020,2020,2016,2020,2020,2018,2020,2020,2020,2019,2019,2020,2020,2020,2018,2020,2020,2018,2012,2020,2019,2020,2012,2011,2012,2013,2013,2016,2013,2015,2015,2015,2014,2020,2013,2013,2014,2011,2014,2012,2014,2019,2019,2012,2015,2014,2011,2013,2011,2013,2020,2019,2020,2020,2017,2020,2020,2020,2019,1993,2020,2020,2019,2019,2016,2019,2020,2015,2019,1999,2014,2020,2007,2019,2019,1990,2004,2020,2020,2020,2020,2011,2020,2019,2019,2020,2020,2020,2020,2020,2019,2016,2019,2019,2019,2020,2020,2015,2006,2020,2020,2020,2020,2020,2020,2020,2017,2020,2017,2019,2020,2020,1997,2020,2020,2020,2020,2020,2020,1994,2020,2020,2020,1979,1989,1982,1958,1956,2020,2019,2020,1963,2010,1954,1970,2014,2020,2018,2020,2012,2016,2015,2019,2013,2019,2019,2020,2020,2020,2020,2020,2020,2020,2020,2020,2020,2018,2002,2020,2020,2014,2008,2020,2020,2020,2009,2018,2020,2018,2017,2020,2020,2018,2018,2020,2020,2016,2014,2020,2019,2020,2019,2020,2010,2020,2017,2017,2007,2017,2020,2019,2008,2006,2006,2009,2012,2008,2004,2020,2006,2011,2019,1999,2020,2017,2016,2019,2018,2014,2018,2017,2017,2017,2016,2019,2018,2020,2020,1999,2018,2020,2014,2015,2020,2016,2019,2020,2019,2019,2019,2020,2019,2020,2020,2020,2019,2018,2020,2020,2018,1981,1996,1982,2019,2020,1979,1984,1985,1981,1973,1976,2010,2020,2020,2014,2010,2020,2020,2020,2006,2009,2012,2007,2008,2009,2020,2020,2006,2004,2012,2005,2019,2020,2020,2019,2009,2009,2007,2017,2019,2020,2019,2020,2014,2020,2020,2019,2015,2020,2018,2019,2018,2020,2017,2018,2018,2018,2012,2020,2019,2020,2020,2010,1994,2019,2020,2020,2020,2020,2020,2020,2020,2020,2016,2019,2020,2018,2020,2020,2020,2019,2020,2019,2020,2019,2020,2015,2020,2019,2013,2020,2020,2015,2009,2020,2018,2019,2020,2020,2013,2008,2019,2012,2019,2014,2020,2020,2020,2019,2020,2007,2020,2020,2020,2003,2020,2020,2019,2019,2020,2020,2020,2020,2016,2020,2019,2020,2020,2019,2017,2006,2016,2008,2011,2016,2017,2016,2010,2009,2005,2019,2012,2019,2020,2020,2020,2020,2020,2010,2017,2005,2006,2011,2010,2009,2008,2009,2019,2020,2011,2019,2020,2020,2020,2016,2019,2020,2019,2020,2020,2020,2018,2019,2019,2020,2020,2006,2020,2018,2020,2020,2020,2019,2020,2020,2018,2020,2020,2020,2020,2020,2019,2019,2020,2020,2016,2015,2020,2015,2019,2018,2019,2020,2020,2020,2018,2018,2019,2019,2020,2020,2020,2019,2020,2019,2020,2019,2020,2019,2010,2017,2019,2017,2019,2017,2019,2013,2020,2019,2020,2017,2020,2019,1990,2015,2012,2015,2020,2008,1984,1998,1980,2013,1993,2014,2020,2014,2005,2006,2001,2003,2016,1998,2015,2020,2014,1987,2019,1986,2020,2020,2020,2017,2010,2020,2014,2020,2018,2020,2019,2019,2020,2016,2017,2019,2018,2019,2019,2020,2020,2019,2020,2019,2019,2020,2020,2020,2019,2020,2020,2020,2019,2020,2019,2020,2020,2019,2020,2018,2020,2020,2020,2020,2020,2020,2020,2020,2017,2020,2020,2020,2020,2020,2020,2020,2020,2019,2020,2020,2017,2020,2017,2019,2016,2020,2020,2018,2014,2019,2019,2019,2019,2019,2020,2020,2018,2020,2020,2019,2020,2020,2019,2020,2020,2020,2020,2020,2020,2020,2017,2017,2020,2019,2019,2020,2020,2020,2016,2020,2020,2019,2010,2019,2005,2016,2018,2019,2020,2019,2019,2011,2020,2014,2020,2019,2020,2019,2016,2011,2016,2017,2007,2020,2018,2019,2020,2019,2019,2020,2019,2020,2020,2020,2020,2019,2020,2016,2015,2020,2015,2016,2020,2015,2014,2020,2019,2020,2019,2018,2020,2020,2020,2020,2020,2019,2020,2020,2012,2020,2018,2008,2015,2019,2015,2017,2016,2016,2017,2017,2019,2019,2017,2020,2010,2019,2020,2018,2019,2021,2020,2019,2019,2015,2020,2018,2020,2017,2020,2019,2018,2018,2019,2019,2019,2018,2020,2018,2020,2019,2020,2020,2017,2020,2020,2014,2019,2020,2020,2020,2019,2020,2020,2019,2020,2016,1994,2015,2020,2017,2018,2019,2019,2020,2014,2018,2014,2019,1999,2020,2020,2016,2017,2020,2020,2020,2019,2009,2020,2020,2018,2020,2020,2020,2020,2019,2020,2017,2019,2015,2020,2017,2020,2020,2020,2020,2020,2020,2020,2020,2019,2004,2020,2019,2011,2019,2020,2013,2020,2020,2020,2020,2019,2019,2020,2011,2019,2015,2019,2008,2015,2018,2019,2020,2017,2019,2020,2018,2019,2020,2018,2019,2020,2019,2020,2020,2020,2014,2020,2020,2020,2020,2017,2020,2020,2020,2019,2017,2020,2019,2018,2017,2018,2014,2018,2019,2007,2008,2009,2020,2015,2001,2017,2019,2020,2017,2020,2006,2018,2017,2015,2015,2009,2017,2020,2017,2019,2019,2019,2019,2019,2019,2018,2016,2018,2019,2019,2019,2019,2013,2018,2019,2018,2019,2019,2019,2019,2017,2019,2019,2017,2019,2019,2019,2019,2019,2019,2012,2019,2017,2019,2014,2018,2015,2015,2019,2019,2019,2019,2019,2019,2019,2019,2018,2015,2015,2016,2015,2019,2018,2001,2015,2006,2011,2013,2011,2012,2019,2007,2017,2010,2004,2009,2017,2008,2012,2012,2005,2011,2019,2016,2017,2016,2018,2019,2018,2019,2019,2017,2019,2019,2017,2019,2019,2019,2017,2017,2020,2019,2017,2017,2019,2019,2019,2019,2019,2019,2016,2017,2019,2019,2019,2019,2019,2019,2019,2018,2019,2019,2014,2019,2018,2019,2019,2017,2016,2017,2018,2016,2019,2017,2019,2015,2019,2019,2019,2019,2019,2018,2019,2016,2019,2018,2018,2017,2019,2018,2019,2019,2019,2019,2019,2008,2019,2019,2019,2019,2019,2019,2015,2019,2019,2019,2019,2017,2019,2019,2019,2015,2008,2019,2019,2019,2019,2019,2019,2019,2019,2019,2019,2019,2019,2019,2019,2019,2019,2019,2019,2019,2014,2015,2013,2003,2019,2019,2019,2019,2019,2019,2013,2010,2011,2019,2004,2019,2002,2017,2018,2019,2013,2019,2019,2019,2003,2019,2019,2020,2019,2019,2009,2019,2019,2019,2019,2019,2019,2019,2019,2016,2019,2019,2018,2019,2014,2019,2019,2017,2019,2019,2016,2016,2019,2019,2014,2014,2015,2012,2017,2017,2013,2016,2015,2010,2015,2013,2019,2015,2018,2019,2016,2017,2018,2008,2019,2019,2015,2019,2018,2014,2010,2016,2019,2019,2019,2019,2019,2019,2019,2007,2019,2006,2019,2016,2019,2019,2019,2019,2016,2019,2017,2019,2019,2018,2019,2019,2018,2019,2019,2020,2019,2014,2019,2019,2019,2018,2019,2019,2019,2019,2018,2019,2019,2019,2019,2019,2019,2018,2019,2016,2019,2018,2017,2019,2019,2019,2019,2019,2019,2018,2019,2019,2017,2019,2017,2019,2019,2017,2019,2019,2017,2018,2019,2017,2019,2019,2016,2019,2019,2019,2015,2015,2018,2014,2019,2019,2019,2017,2019,2019,2019,2019,2019,2020,2019,2018,2019,2019,2019,2019,2019,2019,2019,2018,2019,2019,2019,2016,2019,2019,2019,2019,2019,2019,2019,2019,2019,2019,2019,2019,2018,2016,2017,2018,2018,2018,2018,2017,2017,2019,2018,2019,2000,2016,2017,1998,2005,2019,2019,2019,2019,2019,2018,2019,2019,2019,2019,2013,2018,2019,2019,2019,2019,2019,2019,2019,2019,2018,2009,2019,2019,2019,2019,2019,2019,2019,2019,2018,2019,2019,2019,2019,2012,2019,2006,2019,2019,2019,2019,2019,2018,2019,2019,2019,2019,2019,2019,2019,2019,2019,2019,2018,2018,2019,2019,2019,2016,2019,2012,2016,2018,2006,2014,2018,2004,2019,2018,2019,2018,2019,2019,2019,2018,2019,2018,2019,2019,2019,2019,2019,2016,2019,2019,2019,2018,2019,2019,2019,2019,2019,2019,2019,2018,2019,2019,2019,2019,2019,2019,2019,2019,2019,2015,2019,2019,2019,2019,2018,2019,2019,2019,2019,2019,2019,2019,2019,2018,2019,2019,2019,2019,2019,2018,2019,2019,2019,2014,2019,2019,2015,2013,2014,2015,2014,2012,2019,2019,2016,2015,2015,2014,2018,2016,2019,2019,2017,2017,2019,2019,2019,2019,2018,2019,2019,2019,2019,2019,2018,2019,2019,2019,2019,2019,2019,2018,2018,2018,2008,2013,2004,2007,2019,2019,2019,2019,2019,2019,2019,2018,2019,2019,2018,2019,2010,2011,2015,2017,2019,2019,2019,2018,2019,2019,2019,2019,2019,2017,2019,2019,2019,2019,2019,2019,2016,2019,2019,2019,2019,2019,2019,2019,2008,2018,2019,2015,2018,2018,2013,2019,2019,2011,2019,2019,2018,2019,2019,2017,2019,2018,2019,2019,2019,2018,2012,2019,2019,2019,2019,2019,2019,1998,2019,2019,2013,1995,2018,2019,2019,1997,2019,2019,2019,2019,2019,2015,2018,2012,2014,2019,2019,2018,2011,2019,2019,2017,2019,2019,2019,2019,2019,2019,2018,2019,2019,2019,2019,2019,2019,2019,2019,2011,2018,2019,2019,2019,2019,2019,2019,2018,2019,2019,2019,2019,2016,2019,2015,2019,2014,2019,2019,2019,2019,2019,2017,2017,2019,2019,2019,2019,2019,2019,2019,2019,2019,2019,2019,2017,2019,2019,2018,2019,2019,2019,2019,2018,2019,2019,2018,2019,2014,2016,2018,2019,2019,2019,2019,2019,2019,2019,2018,2019,2017,2018,2017,2019,2019,2018,2019,2018,2019,2018,2019,2018,2019,2011,2019,2018,2019,2019,2016,2019,2019,2018,2015,2016,2016,2015,2015,2016,2015,2016,2016,2019,2019,2019,2019,2019,2019,2019,2019,2019,2019,2019,2019,2019,2018,2019,2019,2018,2013,2008,2018,2019,2018,2019,2019,2014,2019,2018,2018,2013,2009,2012,2004,2018,2018,2018,2019,2019,2019,2018,2019,2019,2015,2018,2019,2019,2005,2019,2019,2017,2019,2019,2019,2019,2014,2019,2019,2013,2019,2001,2005,2018,2003,2003,2003,2018,2005,2016,2018,2019,2019,2014,2013,2019,2019,2019,2018,2019,2019,2019,2019,2018,2019,2017,2019,2015,2017,2019,2019,2019,2017,2019,2019,2019,2019,2019,2019,2018,2018,2019,2015,2019,2018,2016,2018,2013,2017,2019,2019,2018,2017,2019,2019,2019,2019,2019,2019,2018,2019,2018,2018,2017,2008,2019,2018,2018,2018,2017,2019,2019,2019,2018,2019,2018,2019,2019,2019,2007,2019,2014,2016,2016,2016,2016,2019,2018,2018,2019,2019,2014,2019,2018,2017,2019,2018,2018,2006,2011,2012,2008,2018,2018,2018,2018,2019,2019,2007,2016,2016,2017,2017,2018,2018,2019,2019,2018,2017,2018,2018,2018,2018,2018,2019,2019,2018,2019,2018,2012,2014,2015,2015,2016,2016,2017,2019,2015,2011,2018,2018,2018,2018,2018,2018,2019,2019,2019,2019,2014,2018,2012,2018,2019,2018,2018,2008,2018,2018,2015,2015,2014,2017,2018,2013,2013,2017,2014,2015,2012,2018,2006,2018,2018,2016,2019,2019,2019,2019,2018,2018,2018,2018,2001,2017,2018,2015,2018,2018,2017,2018,2012,2017,2004,2012,2015,2019,2018,2006,2002,2019,2018,2017,2008,2018,2018,2019,2018,2018,2018,2018,2019,2019,2019,2019,2018,2017,2018,2018,2019,2018,2018,2018,2019,2018,2017,2016,2018,2019,2014,2018,2017,2018,2019,2018,2018,2019,2019,2018,2017,2018,2010,2010,2017,2019,2018,2018,2018,2012,2018,2016,2015,2017,2018,2018,2018,2018,2018,2019,2019,2018,2019,2017,2019,2018,2017,2019,2019,2019,2019,2017,2018,2019,2018,2019,2019,2017,2016,2018,2018,2002,2017,2018,2018,2019,2016,2017,2016,2018,2017,2018,2019,2018,2019,2019,2018,2019,2017,2018,2018,2018,2018,1999,2018,2018,2018,2017,2013,1975,2019,2015,2019,2018,2012,2017,2017,2017,2018,2019,2010,1991,2015,1992,1993,1989,2013,2008,2016,1987,1991,1991,2016,2018,2018,2018,1990,1991,2011,2008,2012,2011,1925,2018,2018,2018,2015,2012,2018,2018,2018,2018,2018,2011,2018,2018,2018,2018,2018,2018,2018,2017,2018,2017,2016,2018,2018,2018,2018,2011,2018,2015,2012,2015,2014,2018,2018,2018,2018,2018,2018,2014,2011,2014,2014,2018,2014,2018,2018,2017,2018,2018,2018,2018,2017,2018,2018,2018,2018,2018,2018,2018,2018,2018,2018,2018,2018,2018,2018,2018,2018,2018,2018,2018,2018,2018,2018,2018,2018,2018,2018,2011,2009,2018,2018,2013,2014,2014,2018,2011,2014,2015,2017,2015,2016,2009,2018,2010,2017,2017,2013,2008,2018,2018,2018,2018,2018,2018,2018,2018,2018,2018,2018,2018,2018,2015,2018,2018,2018,2018,2018,2018,2018,2018,2017,2018,2018,2018,2018,2018,2007,2017,2016,2016,2018,2018,2018,2018,2018,2018,2018,2017,2017,2018,2018,2015,2018,2018,2017,2018,2018,2018,2017,2009,2017,2018,2018,2018,2018,2018,2018,2017,2017,2018,2018,2003,2018,2018,2018,2018,2018,2018,2009,2008,2015,2013,2011,2018,2012,2010,2018,2006,2015,2007,2009,2010,2018,2017,2018,2015,2013,2012,2007,2012,2013,2012,2013,2013,2012,2006,2015,2007,2013,2008,2014,2011,2008,2010,2014,2013,2013,2014,2015,2012,2017,2016,2008,2014,2011,2018,2015,2018,2006,2018,2018,2018,2018,2018,2018,2018,2009,2017,2018,2015,2018,2018,2018,2017,2018,2018,2017,2018,2018,2018,2018,2018,2018,2018,2013,2018,2017,2016,2018,2018,2018,2012,2018,2018,2017,2018,2018,2018,2018,2018,2018,2018,2018,2018,2018,2018,2018,2018,2018,2018,2018,2018,2018,2018,2018,2017,2018,2018,2018,2018,2018,2018,2018,2018,2018,2017,2017,2017,2012,2018,2014,2008,2014,2000,1998,1982,2014,2009,1972,1974,1979,2005,1989,2013,2016,2017,2009,2014,2016,2009,2009,2014,2017,2012,2018,2013,2014,2009,2018,2017,2014,2008,2015,2009,2018,2014,2009,2008,2009,2016,2012,2005,2017,2016,2012,2011,2011,2018,2018,2009,2014,2013,2013,2016,2016,2015,2014,2013,2008,2013,2015,2017,2016,2012,2018,2013,2018,2016,2010,2012,2009,2010,2015,2016,2012,2018,2018,2018,2018,2018,2018,2018,2018,2018,2018,2018,2018,2018,2018,2018,2018,2014,2016,2017,2018,2018,2018,2018,2018,2018,2018,2018,2018,2018,2018,2018,2018,2018,2004,2013,2016,2018,2018,2018,2018,2018,2018,2018,2014,2018,2018,2018,2018,2017,2018,2018,2017,2018,2018,2017,2017,2018,2018,2018,2018,2018,2017,2017,2017,2017,2018,2012,2018,2018,1998,2018,2018,2018,2017,2017,2017,2018,2017,2018,2018,2017,2018,2018,2018,2015,2018,2018,2018,2018,2018,2018,2018,2018,2018,2018,2014,2016,2018,2018,2018,2018,2018,2011,2011,2008,2016,2000,2010,2014,2014,2010,2012,2009,2016,2010,2006,2012,2015,2012,2011,2005,2018,2018,2017,2018,2018,2018,2018,2005,2012,2007,2017,2018,2018,2018,2018,2018,2018,2018,2018,2018,2018,2018,2018,2018,2018,2018,2018,2018,2018,2018,2018,2018,2018,2018,2018,2018,2018,2018,2017,2018,2018,2018,2018,2018,2018,2018,2018,2013,2012,2012,2012,2018,2006,2013,2003,2013,2018,2010,2018,2007,2017,2015,2010,2017,2018,2012,2017,2017,2018,2018,2018,2018,2018,2018,2018,2017,2018,2018,2014,2018,2018,2016,2018,2018,2018,2018,2018,2018,2018,2017,2018,2017,2017,2018,2018,2018,2018,2018,2018,2017,2008,2017,2017,2018,2018,2015,2019,2019,2018,2018,2018,2018,2018,2018,2018,2018,2018,2018,2018,2017,2007,2017,2018,1979,2009,2018,2017,2018,2018,2018,2018,2018,2018,2007,2018,2018,2018,2018,2018,2018,2018,2018,2018,2017,2017,2018,2017,2017,2017,2017,2018,2017,2018,2018,2015,2008,2015,2015,2014,2016,2016,2016,2017,2017,2017,2017,2017,2017,2018,2018,2016,2017,2016,2018,2018,2016,2016,2018,2017,2018,2018,2018,2018,2018,2018,2017,2017,2018,2018,2017,2018,2018,2018,2017,2018,2017,2018,2018,2017,2018,2018,2017,2018,2018,2017,2018,2018,2017,1993,2017,2009,2017,2012,2017,2004,2016,2007,2005,2000,2017,2017,2018,2018,2018,2018,2018,2018,2009,2006,2018,2018,2016,2018,2016,2018,2018,2018,2017,2018,2018,2018,2018,2018,2018,2016,2016,2016,2017,2017,2018,2017,2018,2018,2018,2018,2018,2018,2018,2017,2017,2018,2017,2018,2018,2018,2017,2017,2018,2018,1998,2007,2017,2016,2016,2017,2017,2004,2014,2014,2014,2008,2004,2016,2004,2017,2018,2018,2017,2016,2018,2018,2018,2017,2017,2017,2017,2018,2018,2018,2018,2017,2018,2018,2018,2018,2018,2018,2018,2017,2018,2018,2018,2017,2017,2017,2017,2016,2017,1998,2016,2017,2018,2018,2018,2018,2018,2017,2017,2018,2018,2017,2018,2017,2018,2018,2018,2017,2017,2018,2017,2018,1980,1986,2017,2018,2017,2018,2017,2018,2018,2017,2016,2017,2016,2018,2017,2017,2003,2010,2018,2000,2017,2017,2017,2016,2017,2017,2015,2017,2017,2017,2017,2017,2017,2017,2017,2017,2017,2016,2017,2017,2017,2015,2017,2017,2017,2015,2017,2017,2017,2016,2017,1986,1991,2006,2017,2017,2017,2017,2017,2017,2015,2017,2017,2017,2017,2017,2015,2016,2017,2017,2017,2017,2017,2017,2016,2017,2017,2017,2017,2017,2017,2017,2017,2017,2017,2017,2017,2017,2017,2017,2014,2015,2017,2017,2017,2017,2017,2017,2017,2017,2002,2017,2016,2017,2017,2015,2017,1978,2016,2016,2016,2017,2010,2007,2009,2008,2009,2017,2016,2017,2017,2017,2017,2016,2015,2017,2017,2017,2017,2017,2017,2017,2017,2017,2017,2017,2016,2012,2017,2015,2017,1960,2015,2016,2016,2017,2017,2017,2017,2016,2017,2017,2017,2017,2017,2017,2012,2016,2017,2017,2016,2017,2016,2012,2016,2004,2000,2013,2009,2016,2017,2017,2017,2017,2017,2015,2017,2017,2017,2017,2014,2015,2017,2017,2017,2014,2017,2017,2016,2017,2017,2017,2017,2017,2017,2017,2017,2017,2017,2016,2017,2017,2017,2016,2017,2016,2017,2016,2016,2017,2017,1988,2017,2012,2013,2006,1976,1983,2017,2007,1988,1973,2017,2017,1974,1989,2017,2016,2017,2016,1984,2016,2016,2016,2017,2016,2017,2016,2017,2017,2017,2017,2017,2011,2017,2013,2017,2015,2017,2017,2017,2015,2017,2015,2017,2017,2017,2017,2015,2015,2015,2015,2016,2017,2017,2017,2017,2017,2011,2016,2014,2015,2016,2016,2016,2016,2014,2016,2017,2016,2016,2017,2016,2011,2013,2015,2012,2009,2017,2017,2017,2016,2017,2017,2017,2017,2017,2017,2017,2014,2014,2017,2017,2015,2012,2012,2017,2008,2012,2016,2011,2014,1966,2012,2010,2018,2016,1971,2015,2013,2014,1962,2014,2016,2011,2016,2009,2012,2014,1994,2014,2012,2016,2017,2017,2017,2017,2017,2015,2017,2017,2016,2017,2014,2017,2017,2016,2017,2017,2017,2017,2017,2017,2017,2016,2016,2017,2016,2015,2016,2017,2017,2017,2016,2016,2016,2017,2017,1993,2017,2016,2017,2017,2015,2016,2017,1993,2017,2015,2016,2015,1995,1969,1998,2016,2016,2016,2017,2011,2017,2017,2017,2017,2017,2017,2016,2017,2017,2017,2017,2017,2017,1992,1994,2016,2010,1995,2016,2016,2017,2017,2017,2017,2017,2017,2017,2017,2017,2017,2016,1996,1996,2016,2016,2017,2017,2015,2016,2016,2017,2015,2010,2017,2017,2015,2017,2016,2016,2016,2017,2016,2017,2017,2017,2017,2017,2017,2014,2014,2016,2017,2016,2016,2016,2017,2016,2016,2017,2016,2017,2016,2017,2017,2005,2016,2016,1971,2015,2014,2010,1975,2017,2016,2016,2016,2017,2016,2017,2017,2017,2017,2016,2017,2017,2015,2016,2017,2017,2015,2016,2017,1992,2001,2006,2016,2001,2016,2017,2016,2017,2017,2016,2013,2017,2010,2016,2016,2017,2016,2015,2015,2017,2017,2016,2015,2017,2016,2016,2016,2013,2016,2015,2016,2010,2016,2016,2015,2017,2017,2016,2017,2016,2017,1977,2017,2017,2014,2015,2014,2015,2016,2016,2014,2017,2015,2016,2017,2016,2017,2017,2016,2017,2017,2008,2014,2014,2014,2016,2017,2015,2017,2017,2016,2017,2013,2016,2016,2017,2016,2007,2011,1999,2016,2016,2016,2016,2016,2016,2016,2018,2016,2016,2016,2016,2016,2015,2012,2015,2012,2012,2011,2016,2012,2001,2012,2012,2012,2016,2017,2016,2016,2016,2015,2016,2016,2016,2016,2015,2016,2016,2016,2016,2016,2016,2016,2016,2016,2014,2013,2015,2016,2015,2015,2016,2016,1979,2016,2016,2016,2016,2016,2012,2016,2012,2016,2016,2016,2016,2016,2012,2016,2009,2016,2015,2016,2016,2016,2015,2011,2013,2013,2013,2012,2012,2016,2016,2015,2016,2016,2016,2016,2016,2016,2016,2016,2016,2016,2016,2012,2008,2010,2015,2006,2015,2008,2016,2016,2016,2016,2016,2016,2016,2016,2015,2015,2016,2015,2014,2010,2014,2012,2016,2015,2015,2016,2015,2016,2016,2015,2015,2016,2013,2015,2016,2016,2016,2016,2016,2016,2016,2016,2016,2016,2016,2016,2010,2016,2012,2016,2016,2016,2016,2015,2008,2011,2016,2010,2015,2016,2016,2016,2016,2001,2015,2015,2010,2005,2009,2012,2014,2016,2011,1994,2005,2008,2008,2016,2008,2016,2016,2016,2016,2016,2015,2016,2016,2016,2016,2015,2016,2016,2016,2015,2016,2016,2016,2016,2016,2016,2016,2016,2016,2016,2016,2015,2007,2012,2016,2016,2015,2016,2016,2016,2016,2014,2016,2015,2016,2016,2016,2016,2012,2016,2016,2008,2010,2016,2015,2014,2015,2015,2015,2015,2015,2015,2015,2015,2015,2015,2015,2015,2015,2015,2015,2015,2015,2014,2015,2014,2015,2015,2015,2015,2015,2014,2015,2015,2015,2015,1992,2014,2015,2015,2015,2015,2011,2015,2015,2015,2015,2015,2014,2014,2014,1998,2014,2014,2014,2014,2014,2014,2014,2014,2013,2013,2014,2013,2013,2013,2013,2007,2013,2011,1988,1986,1986,1990,1988,1987,1989,1988,1991,1990,1991,2000,2010,2009,2007,2006,2009,2008,1997,2019,2008,2014,2018,2018,2019,2017,2018,2017,2017,2015,2020,2018,2016,2017,2010,2005,2013,2014,2017,2008,2018,2016,2017,2017,2014,2015,2014,2017,2010,2018,2006,2009,2019,2018,2013,2015,2018,2016,2013,2018,2016,2017,2018,2017,2000,2003,2015,2016,2018,2016,2011,1989,2017,2015,2017,2014,2004,2011,2012,2017,2014,2017,2019,2018,2016,2017,2016,2016,1977,1971,1993,2015,2016,2016,2012,2013,2017,2013,2019,2011,2016,2018,2010,2012,2014,2014,2017,1998,2015,2015,2013,2011,2011,2016,2011,2009,2015,2015,1996,2012,2002,2008,2017,2018,2013,2015,2019,2018,2011,2017,2013,2011,2010,2010,2015,2012,2016,2017,2012,2002,2015,2016,2015,2007,2012,2010,2018,2018,2014,2013,2017,2018,2013,2012,2018,2008,2012,2018,2017,2010,2015,2006,2012,2014,2015,2004,2017,2016,2018,1974,2017,2018,2016,2018,1989,2019,2016,2018,2006,2018,2016,2001,2013,2014,2014,2017,2019,2015,1977,2011,2014,2016,2017,1999,2017,2017,2017,2018,2018,2019,2014,1998,2016,2018,2015,2000,2019,2015,2013,1986,1991,1999,2000,2012,2012,2018,2014,2017,2017,2018,2015,2001,2003,2015,2018,2018,2013,2016,2016,2018,2017,2018,2018,2018,2007,2012,2017,2016,2011,2015,2015,2018,2011,2011,2011,2014,1997,2019,2016,2016,2018,2012,2016,2014,2016,1994,2016,2014,2018,2017,2016,2013,2005,2006,2016,2016,2014,2019,2015,1995,2003,2014,2017,2016,2013,2006,2019,2016,1995,2001,2004,2017,2015,2017,2015,2010,2016,2002,2009,2015,2009,2017,2013,2010,2015,2015,2016,2010,2011,2016,2012,2017,2015,2013,1995,1998,1992,2016,2017,2018,2015,2016,1972,1982,2015,2016,2018,2013,1997,2013,2010,2015,2016,2016,1996,1992,2008,2016,2007,2008,2016,2015,2017,2015,2010,2016,2015,2016,2016,2016,2019,2004,1978,2012,2019,2014,2017,2005,2010,2009,2013,2018,2013,2015,2006,2018,2007,2003,2017,1997,2017,1999,2017,2002,2018,2017,2017,2002,2010,2000,2018,2017,2015,2018,2017,2016,2016,2018,2012,2019,2001,2014,2015,2018,2017,2007,2017,2013,2015,2018,2016,2015,2017,2016,2016,2001,2013,2013,2016,2017,2013,1999,2010,2017,2018,1991,2015,2017,1973,2018,2016,2017,2008,2017,2015,2016,1967,2003,2016,2017,2017,2016,2013,2017,2013,2016,2016,2018,2007,2013,2016,2014,2015,2018,2005,2017,2015,2009,2017,2016,2016,2017,2017,2013,2018,2016,2018,2017,2010,2017,2018,2012,2017,1960,2016,2016,2017,2014,2016,2009,2018,2015,2018,2017,2017,2016,2014,2016,2017,2014,2014,2012,1998,1992,2016,2019,2017,2016,2012,2008,2015,1976,2009,2012,2015,2006,1992,1992,2015,1958,2015,2010,2018,2016,2012,2000,2014,2010,2000,2017,2010,2018,2016,2017,2005,2003,1973,2013,1997,2016,2017,2016,2015,2016,1992,2017,2012,1999,2017,2018,2018,2018,2019,2017,2005,2018,1988,1994,2017,2017,2012,1968,2009,2017,2014,2018,2012,2015,2004,2018,2006,2017,2017,1975,2009,2016,2002,2016,2018,2019,2010,1993,2018,2012,1973,2006,2017,2017,2013,2012,2014,2008,2015,2016,2017,2016,2016,2016,2005,2007,2017,2017,1999,2016,2015,2008,2016,2016,2018,2017,2002,2016,2018,2016,2013,2014,2017,2014,2008,2014,2018,1967,2017,2016,2009,2018,2017,2016,2004,2016,2017,2000,2017,2013,2015,2015,1989,1977,2003,2019,2015,2017,2015,2013,2013,2017,2016,2016,2012,2015,1997,2015,2016,2016,2015,2003,2015,2016,1991,2017,2017,2017,2018,2015,2018,2006,2018,2016,2016,2012,2011,2010,2017,2017,2017,2016,2002,2016,2018,2014,2018,1992,2018,2017,2017,2016,2019,2016,2017,2017,2004,2013,2007,2018,2017,2017,2015,2002,2002,2007,2010,2016,1985,2017,2017,2009,2017,1965,2016,2019,2014,2019,2015,2015,2010,2015,2016,2017,2016,2016,2016,1997,2005,2013,1989,2008,2017,2003,2018,1996,2015,2000,2017,2018,2016,2017,2017,2017,2018,2015,2015,2014,2003,2003,2016,2014,2014,2015,2018,2015,2010,2009,2010,1983,2018,2015,2009,2004,2012,2013,2008,2010,1979,2017,2010,2017,2017,2016,2006,2016,2019,2014,2015,2016,2015,2016,2016,2016,2017,2014,2006,2018,2002,2016,2012,2018,2013,2016,2018,1973,2015,2002,1990,1985,2016,2018,2018,2019,2007,1997,2019,2019,2014,2001,2015,2011,2008,1996,2013,2012,2001,2019,2006,2010,2011,2014,2009,2017,2017,2009,2015,2011,2019,1998,2017,2015,2019,2014,2017,2016,2017,1998,2015,2017,1971,2015,2008,2016,2015,2017,2015,2000,2003,2006,2016,2013,2018,2017,2016,2017,2015,2015,2019,1982,2014,2008,2016,2018,2016,1978,2017,2017,2011,2015,2010,2015,2012,2019,2018,1977,2017,2017,1956,2016,2018,2016,2011,2011,2008,2016,1994,2007,2012,2003,2018,2007,1993,2015,2016,2015,2019,2017,2009,2016,2003,2017,2010,2016,2011,2011,2011,2008,2015,2016,2019,2017,2009,2017,2018,2013,2016,2017,2009,2014,2002,2013,2009,2011,2016,2016,2018,2017,2015,2016,2016,2003,2011,2010,2014,2017,2008,2005,1990,2017,2013,2007,2014,2012,2013,1997,2005,1958,2012,2013,2012,2010,2018,2016,2017,2014,2018,2017,1979,2013,1995,2019,2017,2016,2006,2016,2018,2015,2016,2014,2019,2012,2005,2014,1990,2017,2011,2018,2001,2012,2003,2015,2008,2017,2013,2013,2017,1978,2016,2017,2015,2016,2016,2016,2015,2008,2015,2015,2013,2013,2016,2010,2014,2007,2009,2015,2000,1987,2017,2017,2013,2015,2017,2013,2017,2014,2016,2015,2015,2015,2005,2008,2004,2015,2014,2010,2017,2015,2016,2014,1999,2015,2017,2018,2017,2015,2016,2011,2015,2018,2018,1998,2017,2001,2017,2018,2016,2015,2015,2016,2016,2004,2013,2018,1976,2016,1997,2018,2017,2015,2010,2016,2015,2016,1988,2016,2015,2010,2015,2017,2016,2005,2016,2017,2015,2016,2006,2015,2016,2016,2008,2010,2017,2019,2011,2018,2011,2018,2018,2017,2015,2013,2016,2013,2016,2017,2017,2016,2016,2007,2017,1975,2018,2012,2016,2016,2017,2000,2017,1997,2015,2018,1995,2016,2012,2009,1999,2006,2011,2014,2010,2015,2015,2011,2016,2018,2005,2018,2016,2010,2016,2017,2018,2016,2016,2015,2018,2016,2011,2017,2014,2016,2015,2013,2019,2016,2014,2010,2014,2008,2013,2009,1974,2012,2017,2017,2014,2019,2017,2017,2015,2018,2014,2015,2008,1989,1981,1984,2016,2013,2016,2009,2008,2005,2017,2015,2017,2018,2013,2007,2016,2015,2004,2003,2002,2009,2018,2017,2006,2010,2018,2014,2011,2015,2014,2015,2013,1995,2012,2015,2017,2014,2018,2006,2013,2018,2016,1997,2015,2009,2014,2013,2012,2016,2008,2001,1973,2019,2015,2008,2014,2018,2016,2009,1973,2017,2011,1960,2017,2005,2012,2013,2017,2018,2015,2017,2015,2016,1997,2011,2017,2009,2014,2011,2005,2015,2005,1992,2011,2012,2002,2013,2017,2015,1981,2017,2016,2016,2014,2010,2016,2017,2017,2008,2001,1982,2006,2017,2005,1990,2014,1996,2011,2013,2010,2017,2017,1993,2018,2013,2006,2011,1980,2003,2018,2017,2016,1995,2015,2015,2010,2003,2004,2016,2015,2016,2011,1988,2010,2016,2014,2015,2005,2018,1996,2017,2015,1997,2016,2017,2013,2015,2015,1945,2009,2016,2014,2012,1972,2014,2009,2013,2016,2012,2017,2017,2010,2013,2015,2019,2013,2017,2017,2004,2010,2010,2017,2017,1998,2014,2012,2000,2017,2004,2016,2017,1987,2016,2012,2016,2017,2010,2016,2016,2011,2016,2006,2018,2015,2010,2011,2017,2015,2019,2015,2010,2017,2014,2010,2003,2011,2011,2011,2018,2017,2014,2010,2017,1982,2017,2010,2017,2018,2018,2016,2017,2013,2016,1946,2014,2018,2014,2014,2018,2009,2014,2018,1997,2018,1992,2015,2012,2012,2013,1990,1983,2015,2016,2016,2016,2000,2018,2019,2019,2016,2017,2014,2016,2017,2013,1998,2013,2012,2017,1976,2016,1962,2015,2017,1990,2015,2015,2015,2017,2012,2017,2015,2015,2019,2010,2017,1994,2012,2016,2018,2011,2015,2013,2014,2016,2006,1995,2016,2010,2005,2018,2015,2017,2017,2012,2014,1979,2014,2008,1987,2016,2016,2017,2016,2017,2016,2013,2018,2016,2013,2015,2014,2010,1981,2013,2005,1989,2017,2018,2013,2015,2018,1983,2017,2014,2016,2014,2017,1999,2017,2017,2017,2016,2018,2016,2016,2016,2019,2018,1986,2002,2017,2016,2014,2013,2017,2018,2016,1983,2016,2017,2006,2013,2014,2017,2016,2017,1988,2016,2016,1973,2017,1985,2017,2013,2012,2017,2016,2003,2017,2018,1997,2002,2016,2009,2018,2015,2018,2016,2009,2015,2016,2018,2016,1996,2008,2014,2017,2013,2004,2012,2016,2015,2015,2014,2017,2011,2015,2015,2016,2017,2018,2014,2015,2016,2017,2015,2019,2017,2014,2003,2016,2015,1997,2014,2016,2017,2017,2013,2015,2012,2014,2013,2011,2014,2012,2016,2015,2010,2013,2013,2012,2005,2013,2011,2009,2016,2015,2015,2016,2013,2011,2016,2017,2013,2016,2002,2015,1984,2007,2013,2012,2012,2004,2014,2014,2007,2017,2017,1962,2010,2005,2017,2013,2016,2015,2015,2017,2016,2017,2015,2014,2013,2001,2015,2009,2013,2012,2011,2014,1999,2017,2006,2016,2017,2016,1982,2016,2011,2017,2016,1993,2016,2004,2016,2016,2015,2018,2016,2016,2009,2009,2016,2015,1945,2016,2016,2018,2004,2016,2007,2017,2018,2013,2014,2016,2008,1981,1997,2005,2018,2007,2016,2020,2019,2019,2004,2017,2017,2018,2017,2017,2017,2017,2018,2017,2017,2018,2017,2017,2017,2017,2017,2018,2017,2018,2018,2012,2017,1995,2016,2009,2016,2018,2012,2015,2011,2015,2016,2013,2013,2016,2016,2014,2009,2018,1960,2007,2004,2017,2015,2016,2011,2012,2015,2014,2017,2013,2018,2012,1983,2017,2016,2018,2018,2018,2018,2019,1968,2016,2013,2017,2018,2017,2016,2018,2013,2015,2006,2016,2016,2016,2018,2012,2012,2018,2016,1984,2018,2017,2017,2014,2019,2018,2017,2018,2006,2015,2016,2007,2017,2007,2016,2007,2002,2016,1988,2011,2015,2015,2002,2000,2018,2007,2016,1997,2017,1990,2015,2003,1992,2011,2017,1992,2014,2009,2016,2010,2009,2013,1990,1988,2016,2006,2016,2016,2017,2007,2016,2016,2016,2018,2018,2015,1993,2015,2009,2012,2017,2018,2018,2017,1946,2002,1998,2018,2016,2006,2010,2016,1986,1980,2018,2018,1980,2018,2016,2018,2010,2016,2015,2016,2004,1998,2008,2000,1999,2006,2003,2007,2009,2005,2011,2011,2011,2011,2014,2014,2012,2012,2012,2001,1997,2002,1996,2013,2013,2013,2013,1942,2013,2015,1996,1984,2017,2017,2018,2011,2019,2016,2000,1994,2014,2012,2011,2014,2019,2015,2008,2009,2015,2017,2018,2008,2012,2009,2008,2013,2015,1980,2015,2015,2016,1996,1974,2018,1985,2012,2018,2005,2018,2010,2017,2016,2015,2011,2011,2015,1955,2004,2018,2016,2016,1984,2017,2017,2015,2016,2015,2017,2012,2015,2015,2010,2017,2014,2010,2017,2016,1980,2016,2017,2014,2017,2008,2012,2016,2008,2015,2017,2013,2010,2011,2010,2015,2016,2018,1985,1976,1979,1982,1985,1990,2017,2014,2018,2015,2014,2015,2017,2012,2016,2016,1968,1998,2016,2004,2017,2016,1995,2005,2004,1999,2018,2018,1998,2015,2013,2013,2016,2016,2003,1982,2013,2014,2016,1983,2014,2016,2012,2016,2016,2007,2014,2017,2017,2013,2018,2018,1945,2008,1964,2014,2010,2010,2015,2016,2005,2017,2008,2018,2014,2012,1982,2017,2017,2018,2015,2013,2019,2014,2017,2018,1955,2000,2013,1993,1988,1998,2010,1997,2000,2012,1993,2012,2011,2007,2014,2015,2013,2013,2013,2014,2013,2013,2014,2013,2014,2014,2012,2010,2016,2017,2015,2011,2010,2008,2016,1999,2019,2016,2011,1986,2002,2012,2002,2002,2011,2008,2019,2010,2017,2009,1990,2016,2018,2017,2016,2013,2009,2016,2017,2004,2017,2008,2014,2018,2012,2016,2015,2008,2018,2013,2015,2017,2017,2016,2015,2014,2016,2016,2016,2016,2014,2010,2015,2004,1996,1993,2018,2015,1998,2008,2017,2015,2016,2005,2018,2013,1991,2018,2018,2009,2017,2003,2014,2016,2016,2011,2019,2016,2014,1976,2013,2017,2019,2007,2018,2018,2018,2015,2012,2018,2001,2002,2003,2015,2018,2019,2015,2015,2017,2014,2013,2015,2006,2008,2018,2017,2010,2010,2015,2010,2017,2014,2014,2015,2017,2020,2019,2006,2015,1992,2016,1981,1996,2017,2016,2018,2002,2019,2015,2011,2018,2014,2014,2018,2019,2015,2014,2019,2018,2017,2014,2020,2007,1972,2006,2016,1999,2016,2020,2017,2017,2016,1977,2018,2007,2017,2016,2016,1980,2010,1999,2008,2011,2018,1993,2014,2015,1999,2005,2013,2016,2017,2010,2016,2007,1991,1990,2010,2016,2017,2015,2010,2003,2009,2015,2017,2016,2012,2015,2019,2005,2018,2016,2016,2018,2015,2010,2016,2015,2005,2011,2007,2016,1995,2005,1967,2019,2019,2010,2014,2015,2013,2000,2016,2016,2009,2017,2015,2016,1993,2018,1942,2012,2016,2011,2015,2018,2016,2015,2016,2001,2016,2011,2010,2015,2010,2009,2016,2008,2007,2019,2017,2006,2017,2005,2007,2013,1983,2017,2019,2017,2018,2014,1977,2017,2017,2017,2016,2016,2017,2010,2016,2015,2013,2016,1965,2011,2010,2018,2016,2013,2011,1996,2016,2013,1994,1970,1992,2016,2015,2009,2011,1982,2018,2016,2015,2017,2015,2006,2017,2017,2017,2012,2013,2018,2015,2009,2016,2011,2016,2005,2007,2015,2016,2015,2017,1981,2016,2016,2012,2015,2018,2010,2009,2009,2014,2019,1996,2016,1978,1994,2000,1975,2008,2017,2017,2014,2017,2016,2016,2013,2015,2007,2003,2018,2019,2011,2016,2018,2017,2016,2009,2014,2015,2015,2014,2018,2018,1979,2005,2013,2011,2013,2017,2008,2017,2018,2011,2017,2015,2017,2016,2005,2015,2016,2015,2013,2017,2014,2015,2018,2016,2009,2010,2014,2018,2018,1995,2009,2016,2018,2009,2018,2015,2008,2011,2015,2010,2007,2010,2013,2017,2019,2010,2009,2017,2006,2017,2016,1992,2010,2016,2018,2014,2018,2019,2017,2016,2013,2017,2018,2015,2006,2015,2015,2017,2019,1974,2008,2014,2003,2002,2008,2016,1982,1993,2017,2012,2009,1998,1999,2003,2003,2018,2017,1944,2009,2015,2016,2012,2017,2016,2016,2015,2018,2017,2011,2015,2017,1991,1988,1984,1944,2021,2018,2017,2016,2018,2012,2014,2008,2010,2001,2016,1997,1993,2018,2012,2004,2013,2006,2014,2017,2012,2012,2015,2012,2004,2017,2004,2014,2004,2009,2017,2019,2006,2018,2009,2008,1997,2016,2010,2006,2015,2016,2017,2016,2015,2015,2016,2016,2011,2002,2014,2016,1994,2017,2016,2011,2014,2011,2015,2014,2012,2001,2015,2016,2019,2014,2015,2014,2017,1955,2014,2015,2013,2017,2010,2016,2013,1978,2010,2019,2015,2017,2017,2017,2015,2017,1989,2018,2009,1999,1974,2013,2016,2017,2002,2009,2016,2017,1996,2016,2015,2016,2010,2002,1963,2009,2011,2017,2009,2016,2013,2015,2017,2015,2007,2014,2007,1998,2006,2017,2005,2015,2018,2010,2016,2016,2017,1999,2018,2017,2009,2016,1985,2016,2017,1988,2016,2014,2015,2017,2015,2015,2017,2017,2011,2010,2010,2016,2010,2017,1947,2017,2016,2017,2013,2009,2014,2014,2018,2014,2016,1995,2015,2018,2017,2001,1997,2018,2018,2016,2001,2016,2016,2015,2007,2007,2016,1996,2008,2014,2014,2016,2017,2015,1990,1995,2001,2004,2015,2018,2016,1985,1995,2014,2019,2017,2017,2017,1969,2017,2015,2010,2012,1944,2013,2014,2010,1990,2018,2018,2015,2018,2016,2015,2008,2013,2015,2016,2006,2017,2017,2013,2016,1943,2012,2017,2011,2009,2017,2018,2016,2005,1995,2008,2016,2018,2016,2017,2015,2018,2016,2016,2013,2017,2014,2004,2018,2016,2018,2013,2016,2015,2005,2017,2016,2017,2017,2007,2013,2011,2016,2014,2015,2014,2017,2018,2015,2018,2016,2018,2017,2015,1983,2012,2016,2016,2015,2016,2014,2017,1967,2019,2017,2016,2012,2000,2017,2018,2002,2017,2013,2016,2000,2017,2015,2018,2016,2017,1967,2011,2016,2016,1943,2015,2013,1999,2018,2017,1971,2017,2016,1981,2014,2010,2014,2019,2017,2016,2010,2019,2006,2017,2015,2013,2015,2016,1943,1994,2017,2002,2005,2001,2008,2001,2011,2013,2006,2018,2018,2014,2010,2012,2015,2015,2016,2016,2016,2015,2016,2017,2017,2015,2009,2008,2011,1973,2005,2016,2015,2016,2016,2014,2009,2012,2015,2007,2018,2009,2006,2015],\"xaxis\":\"x\",\"yaxis\":\"y\",\"type\":\"histogram\"}],                        {\"template\":{\"data\":{\"histogram2dcontour\":[{\"type\":\"histogram2dcontour\",\"colorbar\":{\"outlinewidth\":0,\"ticks\":\"\"},\"colorscale\":[[0.0,\"#0d0887\"],[0.1111111111111111,\"#46039f\"],[0.2222222222222222,\"#7201a8\"],[0.3333333333333333,\"#9c179e\"],[0.4444444444444444,\"#bd3786\"],[0.5555555555555556,\"#d8576b\"],[0.6666666666666666,\"#ed7953\"],[0.7777777777777778,\"#fb9f3a\"],[0.8888888888888888,\"#fdca26\"],[1.0,\"#f0f921\"]]}],\"choropleth\":[{\"type\":\"choropleth\",\"colorbar\":{\"outlinewidth\":0,\"ticks\":\"\"}}],\"histogram2d\":[{\"type\":\"histogram2d\",\"colorbar\":{\"outlinewidth\":0,\"ticks\":\"\"},\"colorscale\":[[0.0,\"#0d0887\"],[0.1111111111111111,\"#46039f\"],[0.2222222222222222,\"#7201a8\"],[0.3333333333333333,\"#9c179e\"],[0.4444444444444444,\"#bd3786\"],[0.5555555555555556,\"#d8576b\"],[0.6666666666666666,\"#ed7953\"],[0.7777777777777778,\"#fb9f3a\"],[0.8888888888888888,\"#fdca26\"],[1.0,\"#f0f921\"]]}],\"heatmap\":[{\"type\":\"heatmap\",\"colorbar\":{\"outlinewidth\":0,\"ticks\":\"\"},\"colorscale\":[[0.0,\"#0d0887\"],[0.1111111111111111,\"#46039f\"],[0.2222222222222222,\"#7201a8\"],[0.3333333333333333,\"#9c179e\"],[0.4444444444444444,\"#bd3786\"],[0.5555555555555556,\"#d8576b\"],[0.6666666666666666,\"#ed7953\"],[0.7777777777777778,\"#fb9f3a\"],[0.8888888888888888,\"#fdca26\"],[1.0,\"#f0f921\"]]}],\"heatmapgl\":[{\"type\":\"heatmapgl\",\"colorbar\":{\"outlinewidth\":0,\"ticks\":\"\"},\"colorscale\":[[0.0,\"#0d0887\"],[0.1111111111111111,\"#46039f\"],[0.2222222222222222,\"#7201a8\"],[0.3333333333333333,\"#9c179e\"],[0.4444444444444444,\"#bd3786\"],[0.5555555555555556,\"#d8576b\"],[0.6666666666666666,\"#ed7953\"],[0.7777777777777778,\"#fb9f3a\"],[0.8888888888888888,\"#fdca26\"],[1.0,\"#f0f921\"]]}],\"contourcarpet\":[{\"type\":\"contourcarpet\",\"colorbar\":{\"outlinewidth\":0,\"ticks\":\"\"}}],\"contour\":[{\"type\":\"contour\",\"colorbar\":{\"outlinewidth\":0,\"ticks\":\"\"},\"colorscale\":[[0.0,\"#0d0887\"],[0.1111111111111111,\"#46039f\"],[0.2222222222222222,\"#7201a8\"],[0.3333333333333333,\"#9c179e\"],[0.4444444444444444,\"#bd3786\"],[0.5555555555555556,\"#d8576b\"],[0.6666666666666666,\"#ed7953\"],[0.7777777777777778,\"#fb9f3a\"],[0.8888888888888888,\"#fdca26\"],[1.0,\"#f0f921\"]]}],\"surface\":[{\"type\":\"surface\",\"colorbar\":{\"outlinewidth\":0,\"ticks\":\"\"},\"colorscale\":[[0.0,\"#0d0887\"],[0.1111111111111111,\"#46039f\"],[0.2222222222222222,\"#7201a8\"],[0.3333333333333333,\"#9c179e\"],[0.4444444444444444,\"#bd3786\"],[0.5555555555555556,\"#d8576b\"],[0.6666666666666666,\"#ed7953\"],[0.7777777777777778,\"#fb9f3a\"],[0.8888888888888888,\"#fdca26\"],[1.0,\"#f0f921\"]]}],\"mesh3d\":[{\"type\":\"mesh3d\",\"colorbar\":{\"outlinewidth\":0,\"ticks\":\"\"}}],\"scatter\":[{\"fillpattern\":{\"fillmode\":\"overlay\",\"size\":10,\"solidity\":0.2},\"type\":\"scatter\"}],\"parcoords\":[{\"type\":\"parcoords\",\"line\":{\"colorbar\":{\"outlinewidth\":0,\"ticks\":\"\"}}}],\"scatterpolargl\":[{\"type\":\"scatterpolargl\",\"marker\":{\"colorbar\":{\"outlinewidth\":0,\"ticks\":\"\"}}}],\"bar\":[{\"error_x\":{\"color\":\"#2a3f5f\"},\"error_y\":{\"color\":\"#2a3f5f\"},\"marker\":{\"line\":{\"color\":\"#E5ECF6\",\"width\":0.5},\"pattern\":{\"fillmode\":\"overlay\",\"size\":10,\"solidity\":0.2}},\"type\":\"bar\"}],\"scattergeo\":[{\"type\":\"scattergeo\",\"marker\":{\"colorbar\":{\"outlinewidth\":0,\"ticks\":\"\"}}}],\"scatterpolar\":[{\"type\":\"scatterpolar\",\"marker\":{\"colorbar\":{\"outlinewidth\":0,\"ticks\":\"\"}}}],\"histogram\":[{\"marker\":{\"pattern\":{\"fillmode\":\"overlay\",\"size\":10,\"solidity\":0.2}},\"type\":\"histogram\"}],\"scattergl\":[{\"type\":\"scattergl\",\"marker\":{\"colorbar\":{\"outlinewidth\":0,\"ticks\":\"\"}}}],\"scatter3d\":[{\"type\":\"scatter3d\",\"line\":{\"colorbar\":{\"outlinewidth\":0,\"ticks\":\"\"}},\"marker\":{\"colorbar\":{\"outlinewidth\":0,\"ticks\":\"\"}}}],\"scattermapbox\":[{\"type\":\"scattermapbox\",\"marker\":{\"colorbar\":{\"outlinewidth\":0,\"ticks\":\"\"}}}],\"scatterternary\":[{\"type\":\"scatterternary\",\"marker\":{\"colorbar\":{\"outlinewidth\":0,\"ticks\":\"\"}}}],\"scattercarpet\":[{\"type\":\"scattercarpet\",\"marker\":{\"colorbar\":{\"outlinewidth\":0,\"ticks\":\"\"}}}],\"carpet\":[{\"aaxis\":{\"endlinecolor\":\"#2a3f5f\",\"gridcolor\":\"white\",\"linecolor\":\"white\",\"minorgridcolor\":\"white\",\"startlinecolor\":\"#2a3f5f\"},\"baxis\":{\"endlinecolor\":\"#2a3f5f\",\"gridcolor\":\"white\",\"linecolor\":\"white\",\"minorgridcolor\":\"white\",\"startlinecolor\":\"#2a3f5f\"},\"type\":\"carpet\"}],\"table\":[{\"cells\":{\"fill\":{\"color\":\"#EBF0F8\"},\"line\":{\"color\":\"white\"}},\"header\":{\"fill\":{\"color\":\"#C8D4E3\"},\"line\":{\"color\":\"white\"}},\"type\":\"table\"}],\"barpolar\":[{\"marker\":{\"line\":{\"color\":\"#E5ECF6\",\"width\":0.5},\"pattern\":{\"fillmode\":\"overlay\",\"size\":10,\"solidity\":0.2}},\"type\":\"barpolar\"}],\"pie\":[{\"automargin\":true,\"type\":\"pie\"}]},\"layout\":{\"autotypenumbers\":\"strict\",\"colorway\":[\"#636efa\",\"#EF553B\",\"#00cc96\",\"#ab63fa\",\"#FFA15A\",\"#19d3f3\",\"#FF6692\",\"#B6E880\",\"#FF97FF\",\"#FECB52\"],\"font\":{\"color\":\"#2a3f5f\"},\"hovermode\":\"closest\",\"hoverlabel\":{\"align\":\"left\"},\"paper_bgcolor\":\"white\",\"plot_bgcolor\":\"#E5ECF6\",\"polar\":{\"bgcolor\":\"#E5ECF6\",\"angularaxis\":{\"gridcolor\":\"white\",\"linecolor\":\"white\",\"ticks\":\"\"},\"radialaxis\":{\"gridcolor\":\"white\",\"linecolor\":\"white\",\"ticks\":\"\"}},\"ternary\":{\"bgcolor\":\"#E5ECF6\",\"aaxis\":{\"gridcolor\":\"white\",\"linecolor\":\"white\",\"ticks\":\"\"},\"baxis\":{\"gridcolor\":\"white\",\"linecolor\":\"white\",\"ticks\":\"\"},\"caxis\":{\"gridcolor\":\"white\",\"linecolor\":\"white\",\"ticks\":\"\"}},\"coloraxis\":{\"colorbar\":{\"outlinewidth\":0,\"ticks\":\"\"}},\"colorscale\":{\"sequential\":[[0.0,\"#0d0887\"],[0.1111111111111111,\"#46039f\"],[0.2222222222222222,\"#7201a8\"],[0.3333333333333333,\"#9c179e\"],[0.4444444444444444,\"#bd3786\"],[0.5555555555555556,\"#d8576b\"],[0.6666666666666666,\"#ed7953\"],[0.7777777777777778,\"#fb9f3a\"],[0.8888888888888888,\"#fdca26\"],[1.0,\"#f0f921\"]],\"sequentialminus\":[[0.0,\"#0d0887\"],[0.1111111111111111,\"#46039f\"],[0.2222222222222222,\"#7201a8\"],[0.3333333333333333,\"#9c179e\"],[0.4444444444444444,\"#bd3786\"],[0.5555555555555556,\"#d8576b\"],[0.6666666666666666,\"#ed7953\"],[0.7777777777777778,\"#fb9f3a\"],[0.8888888888888888,\"#fdca26\"],[1.0,\"#f0f921\"]],\"diverging\":[[0,\"#8e0152\"],[0.1,\"#c51b7d\"],[0.2,\"#de77ae\"],[0.3,\"#f1b6da\"],[0.4,\"#fde0ef\"],[0.5,\"#f7f7f7\"],[0.6,\"#e6f5d0\"],[0.7,\"#b8e186\"],[0.8,\"#7fbc41\"],[0.9,\"#4d9221\"],[1,\"#276419\"]]},\"xaxis\":{\"gridcolor\":\"white\",\"linecolor\":\"white\",\"ticks\":\"\",\"title\":{\"standoff\":15},\"zerolinecolor\":\"white\",\"automargin\":true,\"zerolinewidth\":2},\"yaxis\":{\"gridcolor\":\"white\",\"linecolor\":\"white\",\"ticks\":\"\",\"title\":{\"standoff\":15},\"zerolinecolor\":\"white\",\"automargin\":true,\"zerolinewidth\":2},\"scene\":{\"xaxis\":{\"backgroundcolor\":\"#E5ECF6\",\"gridcolor\":\"white\",\"linecolor\":\"white\",\"showbackground\":true,\"ticks\":\"\",\"zerolinecolor\":\"white\",\"gridwidth\":2},\"yaxis\":{\"backgroundcolor\":\"#E5ECF6\",\"gridcolor\":\"white\",\"linecolor\":\"white\",\"showbackground\":true,\"ticks\":\"\",\"zerolinecolor\":\"white\",\"gridwidth\":2},\"zaxis\":{\"backgroundcolor\":\"#E5ECF6\",\"gridcolor\":\"white\",\"linecolor\":\"white\",\"showbackground\":true,\"ticks\":\"\",\"zerolinecolor\":\"white\",\"gridwidth\":2}},\"shapedefaults\":{\"line\":{\"color\":\"#2a3f5f\"}},\"annotationdefaults\":{\"arrowcolor\":\"#2a3f5f\",\"arrowhead\":0,\"arrowwidth\":1},\"geo\":{\"bgcolor\":\"white\",\"landcolor\":\"#E5ECF6\",\"subunitcolor\":\"white\",\"showland\":true,\"showlakes\":true,\"lakecolor\":\"white\"},\"title\":{\"x\":0.05},\"mapbox\":{\"style\":\"light\"}}},\"xaxis\":{\"anchor\":\"y\",\"domain\":[0.0,1.0],\"title\":{\"text\":\"release_year\"}},\"yaxis\":{\"anchor\":\"x\",\"domain\":[0.0,1.0],\"title\":{\"text\":\"count\"}},\"legend\":{\"tracegroupgap\":0},\"margin\":{\"t\":60},\"barmode\":\"relative\"},                        {\"responsive\": true}                    ).then(function(){\n",
              "                            \n",
              "var gd = document.getElementById('d5a202be-16b3-4d75-810e-dfafef168295');\n",
              "var x = new MutationObserver(function (mutations, observer) {{\n",
              "        var display = window.getComputedStyle(gd).display;\n",
              "        if (!display || display === 'none') {{\n",
              "            console.log([gd, 'removed!']);\n",
              "            Plotly.purge(gd);\n",
              "            observer.disconnect();\n",
              "        }}\n",
              "}});\n",
              "\n",
              "// Listen for the removal of the full notebook cells\n",
              "var notebookContainer = gd.closest('#notebook-container');\n",
              "if (notebookContainer) {{\n",
              "    x.observe(notebookContainer, {childList: true});\n",
              "}}\n",
              "\n",
              "// Listen for the clearing of the current output cell\n",
              "var outputEl = gd.closest('.output');\n",
              "if (outputEl) {{\n",
              "    x.observe(outputEl, {childList: true});\n",
              "}}\n",
              "\n",
              "                        })                };                            </script>        </div>\n",
              "</body>\n",
              "</html>"
            ]
          },
          "metadata": {}
        }
      ]
    }
  ],
  "metadata": {
    "colab": {
      "provenance": [],
      "include_colab_link": true
    },
    "kernelspec": {
      "display_name": "Python 3",
      "name": "python3"
    },
    "language_info": {
      "name": "python"
    }
  },
  "nbformat": 4,
  "nbformat_minor": 0
}
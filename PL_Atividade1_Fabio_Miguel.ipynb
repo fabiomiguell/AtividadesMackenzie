{
  "nbformat": 4,
  "nbformat_minor": 0,
  "metadata": {
    "kernelspec": {
      "display_name": "Python 3",
      "language": "python",
      "name": "python3"
    },
    "language_info": {
      "codemirror_mode": {
        "name": "ipython",
        "version": 3
      },
      "file_extension": ".py",
      "mimetype": "text/x-python",
      "name": "python",
      "nbconvert_exporter": "python",
      "pygments_lexer": "ipython3",
      "version": "3.7.4"
    },
    "colab": {
      "provenance": [],
      "collapsed_sections": [
        "BZMmkF32xYEt",
        "bBO8cKayouUr"
      ],
      "include_colab_link": true
    }
  },
  "cells": [
    {
      "cell_type": "markdown",
      "metadata": {
        "id": "view-in-github",
        "colab_type": "text"
      },
      "source": [
        "<a href=\"https://colab.research.google.com/github/fabiomiguell/AtividadesMackenzie/blob/main/PL_Atividade1_Fabio_Miguel.ipynb\" target=\"_parent\"><img src=\"https://colab.research.google.com/assets/colab-badge.svg\" alt=\"Open In Colab\"/></a>"
      ]
    },
    {
      "cell_type": "markdown",
      "metadata": {
        "id": "SlUTfujvouT_"
      },
      "source": [
        "<head>\n",
        "  <meta name=\"author\" content=\"Rogério de Oliveira\">\n",
        "  <meta institution=\"author\" content=\"Universidade Presbiteriana Mackenzie\">\n",
        "</head>\n",
        "\n",
        "<img src=\"http://meusite.mackenzie.br/rogerio/mackenzie_logo/UPM.2_horizontal_vermelho.jpg\" width=300, align=\"right\">\n",
        "<!-- <h1 align=left><font size = 6, style=\"color:rgb(200,0,0)\"> optional title </font></h1> -->\n"
      ]
    },
    {
      "cell_type": "markdown",
      "metadata": {
        "id": "IMu9kh4HcKB7"
      },
      "source": [
        "\n",
        "\n",
        "# **Nome**: Fabio de Oliveira Miguel\n",
        "# **Matrícula**: 92274714\n",
        "---\n",
        "\n",
        "\n"
      ]
    },
    {
      "cell_type": "markdown",
      "source": [
        "# **Atividade 1** \n",
        "---"
      ],
      "metadata": {
        "id": "9RhKYSjJVkBC"
      }
    },
    {
      "cell_type": "markdown",
      "metadata": {
        "id": "I54fRjNzzTFS"
      },
      "source": [
        "# **Introdução** \n",
        "\n",
        "A pandemia de covid-19 vitimou milhares de pessoas ao redor do mundo. Atualmente, a melhor forma de prevenção contra casos graves da doença é a vacina. No Brasil estima-se que apenas 55% da população completou o esquema vacinal contra a SARSCOV2 utilizando-se as vacinas das farmaceuticas PFIZER, AZTRAZENECA e CORONAVAC. No entanto, novas mutações da doença (variantes) vem surgindo mundo afora, sendo necessária a atualização destes imunizantes, oferecendo maior proteção contra o vírus. A matéria publicada pela BBC descreve como estas vacinas podem chegar ao Brasil.\n",
        "\n",
        "Referência: Vacina para covid: quando imunizantes para novas variantes chegam ao Brasil? Disponível em https://www.bbc.com/portuguese/brasil-62913349. Acesso em 23/09/2022."
      ]
    },
    {
      "cell_type": "markdown",
      "metadata": {
        "id": "nIfbye73nzZp"
      },
      "source": [
        "## Aquisição dos Dados"
      ]
    },
    {
      "cell_type": "code",
      "metadata": {
        "id": "6gPx3f5gzTFY"
      },
      "source": [
        "import urllib.request  \n",
        "\n",
        "texto = []\n",
        "\n",
        "for line in urllib.request.urlopen ('https://raw.githubusercontent.com/fabiomiguell/AtividadesMackenzie/main/Novas%20Vacinas%20Covid%20Bi%20Valentes_BBC.txt'): \n",
        "    texto.append(line.decode('utf-8'))\n",
        "\n",
        "#exclusão de caracteres especiais\n",
        "for i in range(len(texto)):\n",
        "    texto[i] = texto[i].lower() # para unicidade\n",
        "    texto[i] = texto[i].replace('\\n','')\n",
        "    texto[i] = texto[i].replace('.','')\n",
        "    texto[i] = texto[i].replace(',','')\n",
        "    texto[i] = texto[i].replace('(','')\n",
        "    texto[i] = texto[i].replace(')','')\n",
        "    texto[i] = texto[i].replace('?','')\n",
        "    texto[i] = texto[i].replace('\\'','')\n",
        "    texto[i] = texto[i].replace('!','')\n",
        "    texto[i] = texto[i].replace('\"','')# elimina ' e \"\n",
        "    \n"
      ],
      "execution_count": 34,
      "outputs": []
    },
    {
      "cell_type": "markdown",
      "metadata": {
        "id": "Vw285ytjpNJ0"
      },
      "source": [
        "# Construção do Dicionário"
      ]
    },
    {
      "cell_type": "code",
      "metadata": {
        "id": "a5XxpMJe60li",
        "colab": {
          "base_uri": "https://localhost:8080/"
        },
        "outputId": "9840490e-2594-44fa-da18-933c0ec1e43a"
      },
      "source": [
        "mydict = {}                             # crie um dicionário vazio\n",
        "\n",
        "for line in texto:\n",
        "\n",
        "  line = line.lower()                   # converte para lower\n",
        "  words = line.split()                  # separa cada palavra\n",
        "#  print(words)\n",
        "\n",
        "  for word in words:                      # para cada palavra em words\n",
        "    if word not in mydict.keys():         # se palavra não está no dicionário \n",
        "      mydict[word] = 1                    # acrescenta a word com o valor 1\n",
        "    else:                                 # se a entrada já existe \n",
        "      mydict[word] =  mydict[word] + 1    # apenas soma 1 ao valor já existente\n",
        "\n",
        "print(mydict)"
      ],
      "execution_count": 35,
      "outputs": [
        {
          "output_type": "stream",
          "name": "stdout",
          "text": [
            "{'vacina': 10, 'para': 26, 'covid:': 2, 'quando': 3, 'imunizantes': 6, 'novas': 7, 'variantes': 8, 'chegam': 1, 'ao': 12, 'brasil': 10, 'nas': 7, 'últimas': 2, 'semanas': 3, 'as': 28, 'primeiras': 1, 'vacinas': 17, 'atualizadas': 6, 'contra': 16, 'a': 85, 'covid-19': 6, 'que': 45, 'oferecem': 1, 'uma': 22, 'maior': 3, 'proteção': 3, 'mais': 16, 'recentes': 3, 'do': 36, 'coronavírus': 4, 'começaram': 2, 'ser': 6, 'aprovadas': 2, 'nos': 6, 'estados': 3, 'unidos': 3, 'no': 14, 'canadá': 2, 'na': 13, 'união': 2, 'europeia': 2, 'e': 50, 'reino': 2, 'unido': 2, 'não': 20, 'há': 7, 'porém': 1, 'qualquer': 3, 'previsão': 1, 'oficial': 1, 'de': 88, 'elas': 2, 'devem': 1, 'chegar': 1, 'entrar': 1, 'campanha': 5, 'imunização': 3, 'país': 6, 'é': 17, 'recomendável': 1, 'reforço': 3, 'da': 29, 'em': 30, 'infectados': 1, 'por': 9, 'covid': 9, 'ou': 11, 'gripe': 2, 'o': 42, 'acontece': 3, 'com': 17, 'corpo': 2, 'cada': 3, 'dia': 1, 'infecção': 3, 'fontes': 1, 'ouvidas': 1, 'pela': 3, 'bbc': 5, 'news': 3, 'participam': 1, 'comitês': 1, 'sobre': 9, 'vacinação': 7, 'dentro': 2, 'ministério': 8, 'saúde': 11, 'afirmam': 1, 'assunto': 3, 'entrou': 2, 'pauta': 2, 'reuniões': 3, 'abertas': 1, 'conheço': 1, 'nenhuma': 6, 'iniciativa': 1, 'governamental': 1, 'comprar': 1, 'informa': 2, 'médico': 2, 'josé': 1, 'cassio': 1, 'moraes': 3, 'professor': 1, 'titular': 1, 'faculdade': 1, 'ciências': 1, 'médicas': 2, 'santa': 1, 'casa': 1, 'são': 3, 'paulo': 1, 'referência': 2, 'nacional': 2, 'campanhas': 2, 'nós': 1, 'enquanto': 1, 'profissionais': 4, 'ficamos': 1, 'bastante': 1, 'aflitos': 1, 'torcendo': 1, 'conversas': 2, 'estejam': 1, 'acontecendo': 4, 'outras': 3, 'instâncias': 1, 'internas': 1, 'ano': 3, '2023': 1, 'está': 4, 'batendo': 1, 'à': 5, 'porta': 1, 'precisávamos': 1, 'planejamento': 2, 'das': 12, 'próximas': 4, 'etapas': 3, 'já': 8, 'estivesse': 1, 'agora': 5, 'diz': 3, 'especialista': 1, 'se': 11, 'essas': 2, 'estiverem': 1, 'curso': 1, 'algo': 2, 'bem': 4, 'preocupante': 1, 'completa': 2, 'pfizer': 9, 'farmacêutica': 3, 'responsável': 2, 'desenvolver': 1, 'versões': 5, 'aprovada': 2, 'exterior': 2, 'fez': 2, 'um': 3, 'pedido': 2, 'autorização': 2, 'emergencial': 1, 'novo': 2, 'produto': 3, 'agência': 2, 'vigilância': 1, 'sanitária': 1, 'anvisa': 2, 'procurada': 1, 'respondeu': 1, 'bivalente': 4, 'análise': 1, 'ainda': 3, 'prazo': 2, 'previsto': 1, 'enviou': 1, 'nota': 1, 'esclarecimentos': 1, 'dizendo': 1, 'contrato': 1, 'atualmente': 2, 'vigente': 1, 'fornecimento': 1, 'inclui': 1, 'entrega': 3, 'potenciais': 1, 'adaptadas': 1, 'e/ou': 1, 'diferentes': 4, 'faixas': 1, 'etárias': 1, 'estimativas': 1, 'dependerão': 1, 'análises': 1, 'regulatórias': 1, 'definições': 1, 'junto': 1, 'texto': 2, 'sua': 1, 'vez': 2, 'remeteu': 1, 'resposta': 3, 'questão': 2, 'até': 4, 'publicação': 1, 'desta': 1, 'reportagem': 1, 'dá': 1, 'tempo': 4, 'futura': 1, 'seguir': 2, 'os': 17, 'mesmos': 1, 'moldes': 1, 'todos': 1, 'anos': 2, 'tendência': 1, 'grupos': 1, 'prioritários': 1, 'como': 12, 'idosos': 2, 'gestantes': 2, 'recebam': 1, 'doses': 9, 'bivalentes': 5, 'partir': 5, 'março': 1, 'abril': 1, 'vem': 1, 'início': 2, 'outono': 2, 'fachada': 1, 'créditojefferson': 1, 'rudy/agência': 1, 'senado': 1, 'legenda': 3, 'foto': 3, 'especialistas': 4, 'pule': 1, 'podcast': 3, 'continue': 1, 'lendo': 1, 'lê': 3, 'equipe': 1, 'você': 1, 'algumas': 4, 'suas': 2, 'melhores': 1, 'reportagens': 1, 'episódios': 1, 'fim': 1, 'apesar': 2, 'termos': 1, 'cerca': 1, 'seis': 2, 'meses': 4, 'lá': 1, 'pode': 2, 'suficiente': 1, 'completar': 2, 'todas': 1, 'envolvidas': 1, 'nesse': 1, 'trabalho': 1, 'avaliam': 1, 'estamos': 1, 'nada': 2, 'tranquilos': 1, 'relação': 1, 'esse': 7, 'atualização': 3, 'deveria': 1, 'discutido': 1, 'tiver': 1, 'começado': 1, 'fazer': 2, 'isso': 5, 'atrasado': 1, 'alerta': 1, 'ballalai': 3, 'feita': 1, 'precisa': 1, 'mínimo': 1, 'calcula': 1, 'necessário': 1, 'ter': 1, 'decisão': 1, 'política': 1, 'verificar': 1, 'disponibilidade': 1, 'estoque': 1, 'laboratórios': 1, 'negociar': 1, 'preço': 1, 'acontecer': 1, 'distribuição…': 1, 'detalha': 2, 'onde': 1, 'eu': 1, 'sei': 1, 'disso': 1, 'complementa': 1, 'ora': 2, 'estratégia': 2, 'tem': 2, 'sido': 1, 'indicar': 1, 'quarta': 1, 'dose': 6, 'segunda': 1, 'todo': 2, 'mundo': 4, '35': 1, '40': 1, 'depender': 1, 'cidade': 1, 'aplicação': 1, 'num': 2, 'intervalo': 1, 'quatro': 2, 'após': 1, 'terceira': 2, 'importante': 1, 'esclarecer': 1, 'disponíveis': 2, 'continuam': 1, 'funcionar': 1, 'relativamente': 1, 'especialmente': 1, 'casos': 2, 'graves': 1, 'deve': 2, 'esquema': 1, 'três': 2, 'ficar': 1, 'protegido': 1, 'pontua': 1, 'segundo': 4, 'portal': 1, 'coronavírusbra1': 1, 'reúne': 2, 'dados': 2, 'secretarias': 1, 'estaduais': 1, 'apenas': 1, '55%': 1, 'população': 2, 'brasileira': 1, 'recebeu': 1, 'resguarda': 1, 'entenda': 1, 'funcionam': 1, 'podem': 2, 'contribuir': 1, 'números': 1, 'sigam': 1, 'queda': 1, 'pelos': 1, 'próximos': 1, 'atualizada': 2, 'conforme': 1, 'espalhou': 1, 'afora': 2, 'ele': 3, 'ganhou': 1, 'aos': 2, 'poucos': 1, 'conhecidas': 1, 'entre': 1, 'cientistas': 1, 'durante': 2, 'patógeno': 4, 'invade': 1, 'nossas': 1, 'células': 3, 'usa': 2, 'maquinário': 1, 'biológico': 1, 'criar': 1, 'cópias': 2, 'si': 1, 'mesmo': 1, 'só': 2, 'processo': 1, 'nem': 1, 'sempre': 1, '100%': 1, 'preciso:': 1, 'dessas': 6, 'virais': 1, 'sair': 1, 'defeitos': 1, 'alterações': 1, 'material': 3, 'genético': 2, 'mutações': 1, 'trazem': 2, 'vantagens': 1, 'vírus': 6, 'torna': 1, 'transmissível': 1, 'consegue': 1, 'escapar': 1, 'imunidade': 1, 'prévia': 1, 'ganha': 1, 'agressividade': 1, 'foi': 5, 'aconteceu': 2, 'alfa': 1, 'beta': 1, 'gama': 1, 'delta': 1, 'recentemente': 1, 'ômicron': 2, 'herdeiras': 1, 'ba1': 3, 'ba2': 1, 'ba4': 3, 'ba5': 3, 'primeira': 2, 'leva': 3, 'final': 1, '2020': 1, 'utiliza': 1, 'original': 2, 'detectado': 1, 'wuhan': 2, 'china': 1, 'seja:': 1, 'evoluiu': 1, 'mas': 3, 'resume': 1, 'médica': 2, 'epidemiologista': 1, 'denise': 2, 'garrett': 4, 'vice-presidente': 1, 'instituto': 1, 'sabin': 1, 'apresentarem': 1, 'certa': 1, 'doença': 1, 'grave': 1, 'efetividade': 1, 'originais': 1, 'diminuiu': 1, 'muito': 1, 'necessidade': 2, 'tendo': 1, 'alvo': 1, 'sequências': 1, 'palavras': 1, 'metamorfose': 1, 'viral': 1, 'significa': 2, 'passar': 1, 'surgimento': 1, 'tais': 1, 'sofrem': 1, 'redução': 1, 'capacidade': 1, 'proteger': 1, 'versão': 2, 'circulação': 1, 'naquele': 2, 'momento': 3, 'efeitos': 2, 'causar': 1, 'organismo': 2, 'criança': 1, 'toma': 1, 'créditoreuters': 1, 'quanto': 2, 'segurança': 3, 'razão': 3, 'leve': 2, 'pensar': 2, 'utilizadas': 2, 'seriam': 2, 'ótimo': 2, 'perfil': 2, 'estabelecido': 2, 'mrna': 3, 'daí': 1, 'surge': 1, 'atualizar': 1, 'produtos:': 1, 'têm': 1, 'formulação': 1, 'modificada': 1, 'sejam': 1, 'variante': 1, 'assim': 2, 'sistema': 2, 'imunológico': 1, 'fica': 2, 'preparado': 2, 'reconhecer': 2, 'lidar': 2, 'circulam': 1, 'raciocínio': 1, 'aplicado': 1, 'décadas': 1, 'gripe:': 1, 'cepas': 1, 'influenza': 1, 'modificam': 1, 'formulações': 3, 'acordo': 1, 'tipo': 1, 'agente': 1, 'comum': 1, 'aprovação': 3, 'deu': 1, 'baseada': 1, 'estudos': 2, 'seres': 1, 'humanos': 1, 'testes': 1, 'camundongos': 1, 'liberação': 1, 'uso': 2, 'delas': 1, 'informações': 1, 'ficarão': 1, 'breve': 1, 'analisa': 1, 'conclui': 1, 'pesquisa': 1, 'publicada': 1, '16': 1, 'setembro': 1, 'periódico': 1, 'científico': 1, 'the': 1, 'new': 1, 'england': 1, 'journal': 1, 'of': 1, 'medicine': 1, 'resultados': 1, 'obtidos': 1, 'nova': 4, 'moderna': 5, 'artigo': 1, 'induziu': 1, 'produção': 1, 'anticorpos': 1, 'neutralizantes': 1, 'superior': 1, 'observado': 1, 'imunizante': 2, 'usado': 1, 'ate': 1, 'então': 1, 'sem': 1, 'preocupação': 1, 'evidente': 1, 'serviram': 1, 'base': 1, 'atualizações': 1, 'estiveram': 1, 'relacionadas': 1, 'colaterais': 1, 'simples': 1, 'fáceis': 1, 'manejar': 1, 'dor': 1, 'vermelhidão': 1, 'inchaço': 1, 'local': 1, 'injeção': 1, 'além': 1, 'cansaço': 1, 'febre': 1, 'semestre': 1, '2022': 2, 'duas': 2, 'farmacêuticas': 1, 'fizeram': 1, 'modificações': 1, 'importantes': 1, 'covid-19:': 1, 'citada': 1, 'usada': 1, 'chegou': 1, 'ambas': 1, 'baseadas': 1, 'tecnologia': 1, 'carrega': 1, 'fita': 1, 'capaz': 1, 'instruir': 1, 'próprias': 1, 'nosso': 1, 'fabricar': 1, 'proteína': 1, 's': 1, 'spike': 1, 'espícula': 1, 'português': 1, 'encontrada': 1, 'superfície': 1, 'gera': 1, 'reação': 1, 'imune': 2, 'caso': 1, 'tente': 1, 'invadir': 1, 'cartas': 1, 'dizeres': 1, '—': 3, 'fundo': 1, 'profissional': 1, 'aplica': 1, 'pessoa': 1, 'créditogetty': 1, 'images': 1, 'usadas': 1, 'europa': 1, 'américa': 1, 'norte': 2, 'qual': 1, 'grande': 1, 'diferença': 1, 'instruções': 1, 'genéticas': 1, 'relativas': 1, 'também': 2, 'às': 1, 'possível': 3, 'gerar': 1, 'ampla': 1, 'defesa': 1, 'conseguem': 1, 'reagir': 1, 'espectro': 1, 'essa': 2, 'lugares': 2, 'nesses': 1, 'locais': 1, 'oferecê-los': 1, 'hemisfério': 1, 'evitar': 1, 'onda': 1, 'hospitalizações': 1, 'mortes': 1, 'temporada': 1, 'frio': 1, 'pessoas': 1, 'aglomeram': 1, 'ambientes': 1, 'fechados': 1, 'naturalmente': 1, 'facilita': 1, 'transmissão': 1, 'maioria': 1, 'dos': 2, 'será': 1, 'dada': 1, 'princípio': 1, 'alguns': 2, 'públicos': 2, 'específicos': 2, 'correm': 1, 'risco': 1, 'elevado': 1, 'complicações': 1, 'estão': 2, 'expostos': 1, 'trabalhadores': 1, 'asilos': 1, 'casas': 1, 'repouso': 1, 'portadores': 1, 'doenças': 1, 'crônicas': 1, 'imunossuprimidos': 1, 'únicas': 1, 'notícias': 1, 'chegada': 1, 'vêm': 1, 'anvisa:': 1, 'pediu': 1, 'regulatória': 1, 'divulgada': 1, 'deixe': 1, 'incorporar': 1, 'recursos': 1, 'suficientes': 1, 'coordenar': 1, 'anúncio': 1, 'produtos': 1, 'atualizados': 1, 'serão': 1, 'aplicados': 1, 'governo': 1, 'mantém': 1, 'ctai': 3, 'câmara': 3, 'técnica': 1, 'assessoramento': 1, 'formada': 1, 'técnicos': 1, 'convidados': 1, 'sociedades': 1, 'associações': 1, 'havia': 1, 'inclusive': 1, 'exclusiva': 1, 'discutir': 1, 'semanalmente': 1, 'grupo': 1, 'desde': 1, 'maio': 2, 'comitê': 1, 'específico': 1, 'extinto': 1, 'tivemos': 1, 'ouve': 1, 'discussão': 1, 'eventual': 1, 'conta': 1, 'fato': 1, 'último': 1, 'evento': 1, 'menos': 1, 'registros': 1, 'site': 1, '27': 1, 'pautas': 1, 'atas': 1, 'reunião': 2, 'disponibilizadas': 1, 'online': 1, 'única': 1, 'menção': 2, 'modificados': 1, 'ata': 1, '28': 1, 'janeiro': 1, 'ler': 1, 'destacaram': 1, 'perspectiva': 1, 'considerando': 1, 'possibilidade': 1, 'contemplem': 1, '[do': 1, 'coronavírus]': 1, 'esclarece': 1, 'discussões': 1, 'amplo': 1, 'abrange': 1, 'outros': 1, 'disponibilizados': 1, 'rede': 1, 'pública': 1, 'participei': 1, 'última': 1, 'realizada': 1, 'anteriores': 1, 'houve': 1, 'afirma': 1, '-': 1, 'este': 1, 'publicado': 1, 'https://wwwbbccom/portuguese/brasil-62913349': 1}\n"
          ]
        }
      ]
    },
    {
      "cell_type": "markdown",
      "metadata": {
        "id": "s44VMljhpSLK"
      },
      "source": [
        "# Exibição dos Resultados"
      ]
    },
    {
      "cell_type": "code",
      "metadata": {
        "id": "zMy6IqwC9GJt",
        "colab": {
          "base_uri": "https://localhost:8080/",
          "height": 710
        },
        "outputId": "667f8c65-1da1-4a05-f2b4-62c32c25f3c0"
      },
      "source": [
        "import pandas as pd\n",
        "import seaborn as sns\n",
        "import matplotlib as mpl\n",
        "import numpy as np\n",
        "import matplotlib.pyplot as plt\n",
        "\n",
        "df = pd.DataFrame(mydict.items(),  \n",
        "                  columns=['word', 'count']).sort_values('count',ascending=False).reset_index()\n",
        "df = df[df['count'] > 5] # somente termos com mais de 5 ocorrências\n",
        "df = df.iloc[ np.int(len(df)/2) - 10 : np.int(len(df)/2) + 10 ] \n",
        "\n",
        "plt.figure(figsize=(24,10))\n",
        "mpl.style.use(['seaborn'])\n",
        "sns.barplot(x=df.word,y=df['count'])\n",
        "plt.xticks(rotation=90) \n",
        "\n",
        "plt.show()"
      ],
      "execution_count": 41,
      "outputs": [
        {
          "output_type": "stream",
          "name": "stderr",
          "text": [
            "/usr/local/lib/python3.7/dist-packages/ipykernel_launcher.py:10: DeprecationWarning: `np.int` is a deprecated alias for the builtin `int`. To silence this warning, use `int` by itself. Doing this will not modify any behavior and is safe. When replacing `np.int`, you may wish to use e.g. `np.int64` or `np.int32` to specify the precision. If you wish to review your current use, check the release note link for additional information.\n",
            "Deprecated in NumPy 1.20; for more details and guidance: https://numpy.org/devdocs/release/1.20.0-notes.html#deprecations\n",
            "  # Remove the CWD from sys.path while we load stuff.\n"
          ]
        },
        {
          "output_type": "display_data",
          "data": {
            "text/plain": [
              "<Figure size 1728x720 with 1 Axes>"
            ],
            "image/png": "[encoded data removed]"
          },
          "metadata": {}
        }
      ]
    },
    {
      "cell_type": "markdown",
      "source": [
        "#**Conclusão**\n",
        "---\n",
        "A representação grafica do dicionário de termos acima confirma a lei de zipf, onde a palavra mais frequente ocorrerá aproximadamente duas vezes mais frequentemente do que a segunda palavra mais frequente, três vezes mais vezes que a terceira palavra mais frequente, e assim sucessivamente. "
      ],
      "metadata": {
        "id": "SrXpnkbiCCuO"
      }
    }
  ]
}